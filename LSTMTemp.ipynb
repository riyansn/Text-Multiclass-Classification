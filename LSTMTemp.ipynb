{
 "cells": [
  {
   "cell_type": "code",
   "execution_count": 1,
   "metadata": {
    "id": "AJwBCvdW1UrV"
   },
   "outputs": [],
   "source": [
    "import tensorflow as tf\n",
    "import pandas as pd\n",
    "import numpy as np\n",
    "\n",
    "from sklearn.model_selection import train_test_split\n",
    "from sklearn.metrics import classification_report\n",
    "\n",
    "from tensorflow.keras.preprocessing.text import Tokenizer\n",
    "from tensorflow.keras.preprocessing.sequence import pad_sequences"
   ]
  },
  {
   "cell_type": "markdown",
   "metadata": {
    "tags": []
   },
   "source": [
    "## Data Preparation"
   ]
  },
  {
   "cell_type": "code",
   "execution_count": 2,
   "metadata": {
    "tags": []
   },
   "outputs": [
    {
     "data": {
      "text/html": [
       "<div>\n",
       "<style scoped>\n",
       "    .dataframe tbody tr th:only-of-type {\n",
       "        vertical-align: middle;\n",
       "    }\n",
       "\n",
       "    .dataframe tbody tr th {\n",
       "        vertical-align: top;\n",
       "    }\n",
       "\n",
       "    .dataframe thead th {\n",
       "        text-align: right;\n",
       "    }\n",
       "</style>\n",
       "<table border=\"1\" class=\"dataframe\">\n",
       "  <thead>\n",
       "    <tr style=\"text-align: right;\">\n",
       "      <th></th>\n",
       "      <th>clean_text</th>\n",
       "      <th>Dominant Label</th>\n",
       "    </tr>\n",
       "    <tr>\n",
       "      <th>Count</th>\n",
       "      <th></th>\n",
       "      <th></th>\n",
       "    </tr>\n",
       "  </thead>\n",
       "  <tbody>\n",
       "    <tr>\n",
       "      <th>0</th>\n",
       "      <td>module transfer  module leader module  copy co...</td>\n",
       "      <td>VLE and Module</td>\n",
       "    </tr>\n",
       "    <tr>\n",
       "      <th>1</th>\n",
       "      <td>compromise manatee         might    send  add...</td>\n",
       "      <td>Unclassifiable</td>\n",
       "    </tr>\n",
       "    <tr>\n",
       "      <th>2</th>\n",
       "      <td>reassign setup rove mikes room  lib opsbusadm...</td>\n",
       "      <td>Hardware and Room</td>\n",
       "    </tr>\n",
       "    <tr>\n",
       "      <th>3</th>\n",
       "      <td>conference  facilities room next wednesday   b...</td>\n",
       "      <td>Hardware and Room</td>\n",
       "    </tr>\n",
       "    <tr>\n",
       "      <th>4</th>\n",
       "      <td>room  seem lack function mfd  room  scan usb ...</td>\n",
       "      <td>Hardware and Room</td>\n",
       "    </tr>\n",
       "  </tbody>\n",
       "</table>\n",
       "</div>"
      ],
      "text/plain": [
       "                                              clean_text     Dominant Label\n",
       "Count                                                                      \n",
       "0      module transfer  module leader module  copy co...     VLE and Module\n",
       "1       compromise manatee         might    send  add...     Unclassifiable\n",
       "2       reassign setup rove mikes room  lib opsbusadm...  Hardware and Room\n",
       "3      conference  facilities room next wednesday   b...  Hardware and Room\n",
       "4       room  seem lack function mfd  room  scan usb ...  Hardware and Room"
      ]
     },
     "execution_count": 2,
     "metadata": {},
     "output_type": "execute_result"
    }
   ],
   "source": [
    "df = pd.read_csv(\"/notebooks/Text-Multiclass-Classification/data_input/770 Whole Thread LabelledU.csv\", index_col=0)\n",
    "df = df[['clean_text', 'Dominant Label']]\n",
    "df.head()"
   ]
  },
  {
   "cell_type": "markdown",
   "metadata": {},
   "source": [
    "### Remove row labeled : ['unclassifiable', 'None', and 'Network and database']"
   ]
  },
  {
   "cell_type": "code",
   "execution_count": 3,
   "metadata": {
    "tags": []
   },
   "outputs": [
    {
     "data": {
      "text/plain": [
       "Software and Access     271\n",
       "VLE and Module          204\n",
       "Hardware and Room       150\n",
       "Mail                     47\n",
       "Account and Password     40\n",
       "Unclassifiable           30\n",
       "Network and Database     25\n",
       "None                      2\n",
       "Name: Dominant Label, dtype: int64"
      ]
     },
     "execution_count": 3,
     "metadata": {},
     "output_type": "execute_result"
    }
   ],
   "source": [
    "df[\"Dominant Label\"].value_counts()"
   ]
  },
  {
   "cell_type": "code",
   "execution_count": 4,
   "metadata": {},
   "outputs": [],
   "source": [
    "unclassifiable_mask = (df['Dominant Label'] != 'Unclassifiable')\n",
    "none_mask = (df['Dominant Label'] != 'None')\n",
    "network_database_mask = (df['Dominant Label'] != 'Network and Database')"
   ]
  },
  {
   "cell_type": "code",
   "execution_count": 5,
   "metadata": {},
   "outputs": [
    {
     "data": {
      "text/plain": [
       "Software and Access     271\n",
       "VLE and Module          204\n",
       "Hardware and Room       150\n",
       "Mail                     47\n",
       "Account and Password     40\n",
       "Name: Dominant Label, dtype: int64"
      ]
     },
     "execution_count": 5,
     "metadata": {},
     "output_type": "execute_result"
    }
   ],
   "source": [
    "df = df[unclassifiable_mask & none_mask & network_database_mask]\n",
    "df['Dominant Label'].value_counts()"
   ]
  },
  {
   "cell_type": "code",
   "execution_count": 6,
   "metadata": {},
   "outputs": [],
   "source": [
    "label = df['Dominant Label'].unique()"
   ]
  },
  {
   "cell_type": "code",
   "execution_count": 7,
   "metadata": {},
   "outputs": [],
   "source": [
    "# Encode the Dominant Label to integer value\n",
    "\n",
    "df['Dominant Label'] = df['Dominant Label'].map({'VLE and Module' : 0,\n",
    "                                                 'Hardware and Room' : 1,\n",
    "                                                 'Mail' : 2,\n",
    "                                                 'Software and Access' : 3,\n",
    "                                                 'Account and Password' : 4 })                                         \n",
    "\n",
    "# it's oke if we got Warning after running this code"
   ]
  },
  {
   "cell_type": "markdown",
   "metadata": {},
   "source": [
    "### Handle Missing and Duplicate data"
   ]
  },
  {
   "cell_type": "code",
   "execution_count": 8,
   "metadata": {},
   "outputs": [
    {
     "data": {
      "text/plain": [
       "clean_text        0\n",
       "Dominant Label    0\n",
       "dtype: int64"
      ]
     },
     "execution_count": 8,
     "metadata": {},
     "output_type": "execute_result"
    }
   ],
   "source": [
    "# Detect missing values\n",
    "# isna() will check column if there is Nan, null, or na data it will return True  if not then False\n",
    "# Since True = 1 and False = 0. when we sum together each True and False then we will know how many missing values is\n",
    "df.isna().sum()"
   ]
  },
  {
   "cell_type": "code",
   "execution_count": 9,
   "metadata": {},
   "outputs": [
    {
     "data": {
      "text/plain": [
       "3"
      ]
     },
     "execution_count": 9,
     "metadata": {},
     "output_type": "execute_result"
    }
   ],
   "source": [
    "True + True + True"
   ]
  },
  {
   "cell_type": "code",
   "execution_count": 10,
   "metadata": {},
   "outputs": [
    {
     "data": {
      "text/html": [
       "<div>\n",
       "<style scoped>\n",
       "    .dataframe tbody tr th:only-of-type {\n",
       "        vertical-align: middle;\n",
       "    }\n",
       "\n",
       "    .dataframe tbody tr th {\n",
       "        vertical-align: top;\n",
       "    }\n",
       "\n",
       "    .dataframe thead th {\n",
       "        text-align: right;\n",
       "    }\n",
       "</style>\n",
       "<table border=\"1\" class=\"dataframe\">\n",
       "  <thead>\n",
       "    <tr style=\"text-align: right;\">\n",
       "      <th></th>\n",
       "      <th>clean_text</th>\n",
       "      <th>Dominant Label</th>\n",
       "    </tr>\n",
       "    <tr>\n",
       "      <th>Count</th>\n",
       "      <th></th>\n",
       "      <th></th>\n",
       "    </tr>\n",
       "  </thead>\n",
       "  <tbody>\n",
       "    <tr>\n",
       "      <th>91</th>\n",
       "      <td>add mail address brl mail list  colleague  add...</td>\n",
       "      <td>2</td>\n",
       "    </tr>\n",
       "    <tr>\n",
       "      <th>95</th>\n",
       "      <td>add mail address brl mail list  colleague  add...</td>\n",
       "      <td>2</td>\n",
       "    </tr>\n",
       "    <tr>\n",
       "      <th>102</th>\n",
       "      <td>add mail address brl mail list  colleague  add...</td>\n",
       "      <td>2</td>\n",
       "    </tr>\n",
       "  </tbody>\n",
       "</table>\n",
       "</div>"
      ],
      "text/plain": [
       "                                              clean_text  Dominant Label\n",
       "Count                                                                   \n",
       "91     add mail address brl mail list  colleague  add...               2\n",
       "95     add mail address brl mail list  colleague  add...               2\n",
       "102    add mail address brl mail list  colleague  add...               2"
      ]
     },
     "execution_count": 10,
     "metadata": {},
     "output_type": "execute_result"
    }
   ],
   "source": [
    "# Detect Duplicate data\n",
    "\n",
    "df[df.duplicated(keep = False)]\n",
    "\n",
    "# df.duplicated when we set keep = False : Mark all duplicates as True."
   ]
  },
  {
   "cell_type": "code",
   "execution_count": 11,
   "metadata": {},
   "outputs": [],
   "source": [
    "# Remove the duplicates data\n",
    "df = df.drop_duplicates()"
   ]
  },
  {
   "cell_type": "code",
   "execution_count": 12,
   "metadata": {},
   "outputs": [
    {
     "data": {
      "text/html": [
       "<div>\n",
       "<style scoped>\n",
       "    .dataframe tbody tr th:only-of-type {\n",
       "        vertical-align: middle;\n",
       "    }\n",
       "\n",
       "    .dataframe tbody tr th {\n",
       "        vertical-align: top;\n",
       "    }\n",
       "\n",
       "    .dataframe thead th {\n",
       "        text-align: right;\n",
       "    }\n",
       "</style>\n",
       "<table border=\"1\" class=\"dataframe\">\n",
       "  <thead>\n",
       "    <tr style=\"text-align: right;\">\n",
       "      <th></th>\n",
       "      <th>clean_text</th>\n",
       "      <th>Dominant Label</th>\n",
       "    </tr>\n",
       "    <tr>\n",
       "      <th>Count</th>\n",
       "      <th></th>\n",
       "      <th></th>\n",
       "    </tr>\n",
       "  </thead>\n",
       "  <tbody>\n",
       "    <tr>\n",
       "      <th>0</th>\n",
       "      <td>module transfer  module leader module  copy co...</td>\n",
       "      <td>0</td>\n",
       "    </tr>\n",
       "    <tr>\n",
       "      <th>2</th>\n",
       "      <td>reassign setup rove mikes room  lib opsbusadm...</td>\n",
       "      <td>1</td>\n",
       "    </tr>\n",
       "    <tr>\n",
       "      <th>3</th>\n",
       "      <td>conference  facilities room next wednesday   b...</td>\n",
       "      <td>1</td>\n",
       "    </tr>\n",
       "    <tr>\n",
       "      <th>4</th>\n",
       "      <td>room  seem lack function mfd  room  scan usb ...</td>\n",
       "      <td>1</td>\n",
       "    </tr>\n",
       "    <tr>\n",
       "      <th>5</th>\n",
       "      <td>phone  frustrate polycom phone sign skype wont...</td>\n",
       "      <td>1</td>\n",
       "    </tr>\n",
       "    <tr>\n",
       "      <th>...</th>\n",
       "      <td>...</td>\n",
       "      <td>...</td>\n",
       "    </tr>\n",
       "    <tr>\n",
       "      <th>764</th>\n",
       "      <td>authenticator  failure  sign anything  microso...</td>\n",
       "      <td>2</td>\n",
       "    </tr>\n",
       "    <tr>\n",
       "      <th>765</th>\n",
       "      <td>password    password way reset apparently reg...</td>\n",
       "      <td>1</td>\n",
       "    </tr>\n",
       "    <tr>\n",
       "      <th>766</th>\n",
       "      <td>phone line  student support line  support phon...</td>\n",
       "      <td>3</td>\n",
       "    </tr>\n",
       "    <tr>\n",
       "      <th>767</th>\n",
       "      <td>cannot  chrome cannot  google chrome laptop  t...</td>\n",
       "      <td>0</td>\n",
       "    </tr>\n",
       "    <tr>\n",
       "      <th>768</th>\n",
       "      <td>attach timetable programme activities include...</td>\n",
       "      <td>0</td>\n",
       "    </tr>\n",
       "  </tbody>\n",
       "</table>\n",
       "<p>710 rows × 2 columns</p>\n",
       "</div>"
      ],
      "text/plain": [
       "                                              clean_text  Dominant Label\n",
       "Count                                                                   \n",
       "0      module transfer  module leader module  copy co...               0\n",
       "2       reassign setup rove mikes room  lib opsbusadm...               1\n",
       "3      conference  facilities room next wednesday   b...               1\n",
       "4       room  seem lack function mfd  room  scan usb ...               1\n",
       "5      phone  frustrate polycom phone sign skype wont...               1\n",
       "...                                                  ...             ...\n",
       "764    authenticator  failure  sign anything  microso...               2\n",
       "765     password    password way reset apparently reg...               1\n",
       "766    phone line  student support line  support phon...               3\n",
       "767    cannot  chrome cannot  google chrome laptop  t...               0\n",
       "768     attach timetable programme activities include...               0\n",
       "\n",
       "[710 rows x 2 columns]"
      ]
     },
     "execution_count": 12,
     "metadata": {},
     "output_type": "execute_result"
    }
   ],
   "source": [
    "df"
   ]
  },
  {
   "cell_type": "code",
   "execution_count": 13,
   "metadata": {},
   "outputs": [],
   "source": [
    "X, y = df['clean_text'], df['Dominant Label']"
   ]
  },
  {
   "cell_type": "markdown",
   "metadata": {},
   "source": [
    "### Train Test Split\n",
    "\n"
   ]
  },
  {
   "cell_type": "code",
   "execution_count": 14,
   "metadata": {},
   "outputs": [],
   "source": [
    "X_train, X_test, y_train, y_test = train_test_split(X, y,test_size = 0.15)"
   ]
  },
  {
   "cell_type": "markdown",
   "metadata": {},
   "source": [
    "### Preprocessing Data"
   ]
  },
  {
   "cell_type": "markdown",
   "metadata": {},
   "source": [
    "NLTK vs Tensorflow"
   ]
  },
  {
   "cell_type": "markdown",
   "metadata": {},
   "source": [
    "NLTK : usually we need to below step :<br>\n",
    "    1. Case Folding <br>\n",
    "    2. Tokenization <br>\n",
    "    3. Stop words removal <br>\n",
    "    4. Digit Removal <br>\n",
    "    5. Punctuation Removal <br>\n",
    "    6. Non ASCII-Removal <br>\n",
    "    7. Vectorizing\n",
    "    \n",
    "when we come to Tensorflow, we just need to do :<br>\n",
    "    1. stop words removal (optional)<br>\n",
    "    2. Tokenization <br>\n",
    "    3. Vectorizing (texts to sequence)<br>\n",
    "    why there is no preprocesing? because Tokenization will include to handle the Case Folding, Digit Removal, Punctuation and Non ASCII\n"
   ]
  },
  {
   "cell_type": "markdown",
   "metadata": {},
   "source": [
    "#### Tokenizer"
   ]
  },
  {
   "cell_type": "code",
   "execution_count": 15,
   "metadata": {},
   "outputs": [],
   "source": [
    "# num_words = 2000, mean Tokenizer will take the top 2000 words by volume \n",
    "# usually minimum num_words will give  huge training time and less training acc \n",
    "\n",
    "# num_words = 2000\n",
    "\n",
    "# currently im not define the num_words, so it will take all words on all the training text.\n",
    "# uncomment the num_words = 2000, then pass it to Tokenizer(num_words = num_words, oov_token = oov_token) if you want define the num_words\n",
    "\n",
    "#oov_token = \"<OOV>\" mean Out Of Vocabulary, since the test data is getting token by fitted train data then there is probability, \n",
    "#the word in test data is not recognize by the tokenizer then tokenizer will encode it as <OOV>\n",
    "oov_token = \"<OOV>\"\n",
    "\n",
    "tokenizer = Tokenizer(oov_token=oov_token)\n",
    "\n",
    "# Generate the word index dictionary\n",
    "tokenizer.fit_on_texts(X_train)"
   ]
  },
  {
   "cell_type": "markdown",
   "metadata": {},
   "source": [
    "💡 Don't Forget to input num_words inside Tokenizer(num_words = num_words, oov_token = oov_token). if you uncomment the num_words = 2000"
   ]
  },
  {
   "cell_type": "code",
   "execution_count": 16,
   "metadata": {},
   "outputs": [
    {
     "name": "stdout",
     "output_type": "stream",
     "text": [
      "<OOV> : 1\n",
      "open : 2\n",
      "log : 3\n",
      "access : 4\n",
      "module : 5\n",
      "assign : 6\n",
      "phone : 7\n",
      "reassign : 8\n",
      "laptop : 9\n",
      "blackboard : 10\n",
      "team : 11\n",
      "days : 12\n",
      "progress : 13\n",
      "student : 14\n",
      "without : 15\n",
      "say : 16\n",
      "think : 17\n",
      "view : 18\n",
      "portal : 19\n",
      "room : 20\n"
     ]
    }
   ],
   "source": [
    "word_index = tokenizer.word_index\n",
    "for v,k in word_index.items():\n",
    "    print(\"{} : {}\".format(v,k))\n",
    "    if (k == 20):\n",
    "        break"
   ]
  },
  {
   "cell_type": "code",
   "execution_count": 17,
   "metadata": {},
   "outputs": [],
   "source": [
    "# even we are not define the num_words before define the tokenizer class. we still need num_words value to pass it inisde Embedding layers later.\n",
    "num_words = len(word_index)"
   ]
  },
  {
   "cell_type": "markdown",
   "metadata": {},
   "source": [
    "💡 comment num_words above if you define the num_words and pass it inside Tokenizer(num_words = num_words, oov_token = oov_token)"
   ]
  },
  {
   "cell_type": "markdown",
   "metadata": {},
   "source": [
    "#### Padding to make the data as 1 uniform before feed to the model"
   ]
  },
  {
   "cell_type": "code",
   "execution_count": 18,
   "metadata": {},
   "outputs": [],
   "source": [
    "# if maxlen not defined then all the texts will padded to the max length of word in all the texts\n",
    "# if the length of word in a text < maxlen we define then it will padding\n",
    "# if the length of word in a text > maxlen we define then it will truncating\n",
    "\n",
    "# example,\n",
    "# text1 = \"I buy\"\n",
    "# text2 = \"I buy Orange\" \n",
    "# let say we note define maxlen\n",
    "# and the padding_type = post \n",
    "\n",
    "# since text 2 have the 3 word and text1 just have 2 word then it will padded to 3 \n",
    "# word index = {'<OOV>' : 1, 'i' : 2, 'buy' : 3, 'orange' : 4}\n",
    "# the the sequence will be \n",
    "# text1 = [2, 3, 0]\n",
    "# text2 = [2, 3, 4]\n",
    "\n",
    "max_length = 150\n",
    "padding_type = \"post\"\n",
    "trunc_type = \"post\"\n",
    "\n",
    "# Generate and pad the training sequences\n",
    "X_train = tokenizer.texts_to_sequences(X_train)\n",
    "X_train_padded = pad_sequences(X_train, maxlen= max_length,padding=padding_type, truncating=trunc_type)\n",
    "\n",
    "# Generate and pad the testing sequences\n",
    "X_test = tokenizer.texts_to_sequences(X_test)\n",
    "X_test_padded = pad_sequences(X_test, maxlen = max_length, padding=padding_type, truncating = trunc_type)\n",
    "\n",
    "# Convert the labels lists into numpy arrays\n",
    "y_train = np.array(y_train)\n",
    "y_test = np.array(y_test)"
   ]
  },
  {
   "cell_type": "markdown",
   "metadata": {},
   "source": [
    "## Modeling"
   ]
  },
  {
   "cell_type": "markdown",
   "metadata": {},
   "source": [
    "### Simple Embedding"
   ]
  },
  {
   "cell_type": "code",
   "execution_count": 44,
   "metadata": {},
   "outputs": [
    {
     "name": "stdout",
     "output_type": "stream",
     "text": [
      "Model: \"sequential_6\"\n",
      "_________________________________________________________________\n",
      " Layer (type)                Output Shape              Param #   \n",
      "=================================================================\n",
      " embedding_6 (Embedding)     (None, 150, 32)           148704    \n",
      "                                                                 \n",
      " flatten_2 (Flatten)         (None, 4800)              0         \n",
      "                                                                 \n",
      " dense_12 (Dense)            (None, 64)                307264    \n",
      "                                                                 \n",
      " dense_13 (Dense)            (None, 5)                 325       \n",
      "                                                                 \n",
      "=================================================================\n",
      "Total params: 456,293\n",
      "Trainable params: 456,293\n",
      "Non-trainable params: 0\n",
      "_________________________________________________________________\n"
     ]
    }
   ],
   "source": [
    "embedding_dim = 32\n",
    "# Build the model\n",
    "model = tf.keras.Sequential([\n",
    "    tf.keras.layers.Embedding(num_words, embedding_dim, input_length = max_length),\n",
    "    tf.keras.layers.Flatten(),\n",
    "    tf.keras.layers.Dense(64, activation='relu'),\n",
    "    tf.keras.layers.Dense(5, activation='softmax')\n",
    "])\n",
    "\n",
    "# Print the model summary\n",
    "model.summary()"
   ]
  },
  {
   "cell_type": "code",
   "execution_count": 31,
   "metadata": {},
   "outputs": [],
   "source": [
    "# Compile the modeld\n",
    "model.compile(loss='sparse_categorical_crossentropy',optimizer='adam',metrics=['accuracy'])"
   ]
  },
  {
   "cell_type": "code",
   "execution_count": 32,
   "metadata": {},
   "outputs": [
    {
     "name": "stdout",
     "output_type": "stream",
     "text": [
      "Epoch 1/60\n",
      "19/19 [==============================] - 1s 14ms/step - loss: 1.5638 - accuracy: 0.2968 - val_loss: 1.4615 - val_accuracy: 0.3271\n",
      "Epoch 2/60\n",
      "19/19 [==============================] - 0s 5ms/step - loss: 1.2975 - accuracy: 0.6119 - val_loss: 1.3112 - val_accuracy: 0.4860\n",
      "Epoch 3/60\n",
      "19/19 [==============================] - 0s 6ms/step - loss: 0.9450 - accuracy: 0.7562 - val_loss: 1.1484 - val_accuracy: 0.5327\n",
      "Epoch 4/60\n",
      "19/19 [==============================] - 0s 5ms/step - loss: 0.5586 - accuracy: 0.8408 - val_loss: 1.0411 - val_accuracy: 0.6168\n",
      "Epoch 5/60\n",
      "19/19 [==============================] - 0s 6ms/step - loss: 0.2769 - accuracy: 0.9453 - val_loss: 1.0106 - val_accuracy: 0.6075\n",
      "Epoch 6/60\n",
      "19/19 [==============================] - 0s 6ms/step - loss: 0.1400 - accuracy: 0.9900 - val_loss: 0.9782 - val_accuracy: 0.6449\n",
      "Epoch 7/60\n",
      "19/19 [==============================] - 0s 5ms/step - loss: 0.0686 - accuracy: 0.9967 - val_loss: 0.9667 - val_accuracy: 0.6355\n",
      "Epoch 8/60\n",
      "19/19 [==============================] - 0s 7ms/step - loss: 0.0467 - accuracy: 0.9967 - val_loss: 0.9728 - val_accuracy: 0.6449\n",
      "Epoch 9/60\n",
      "19/19 [==============================] - 0s 6ms/step - loss: 0.0308 - accuracy: 0.9967 - val_loss: 0.9650 - val_accuracy: 0.6449\n",
      "Epoch 10/60\n",
      "19/19 [==============================] - 0s 6ms/step - loss: 0.0214 - accuracy: 0.9967 - val_loss: 0.9766 - val_accuracy: 0.6542\n",
      "Epoch 11/60\n",
      "19/19 [==============================] - 0s 6ms/step - loss: 0.0187 - accuracy: 0.9967 - val_loss: 0.9747 - val_accuracy: 0.6636\n",
      "Epoch 12/60\n",
      "19/19 [==============================] - 0s 5ms/step - loss: 0.0158 - accuracy: 0.9967 - val_loss: 0.9849 - val_accuracy: 0.6542\n",
      "Epoch 13/60\n",
      "19/19 [==============================] - 0s 5ms/step - loss: 0.0126 - accuracy: 0.9983 - val_loss: 0.9886 - val_accuracy: 0.6542\n",
      "Epoch 14/60\n",
      "19/19 [==============================] - 0s 5ms/step - loss: 0.0111 - accuracy: 0.9983 - val_loss: 0.9974 - val_accuracy: 0.6355\n",
      "Epoch 15/60\n",
      "19/19 [==============================] - 0s 6ms/step - loss: 0.0092 - accuracy: 0.9967 - val_loss: 0.9984 - val_accuracy: 0.6636\n",
      "Epoch 16/60\n",
      "19/19 [==============================] - 0s 5ms/step - loss: 0.0099 - accuracy: 0.9983 - val_loss: 1.0024 - val_accuracy: 0.6636\n",
      "Epoch 17/60\n",
      "19/19 [==============================] - 0s 5ms/step - loss: 0.0077 - accuracy: 0.9967 - val_loss: 1.0083 - val_accuracy: 0.6636\n",
      "Epoch 18/60\n",
      "19/19 [==============================] - 0s 5ms/step - loss: 0.0075 - accuracy: 0.9983 - val_loss: 1.0105 - val_accuracy: 0.6636\n",
      "Epoch 19/60\n",
      "19/19 [==============================] - 0s 5ms/step - loss: 0.0088 - accuracy: 0.9967 - val_loss: 1.0113 - val_accuracy: 0.6542\n",
      "Epoch 20/60\n",
      "19/19 [==============================] - 0s 5ms/step - loss: 0.0068 - accuracy: 0.9983 - val_loss: 1.0232 - val_accuracy: 0.6542\n",
      "Epoch 21/60\n",
      "19/19 [==============================] - 0s 5ms/step - loss: 0.0088 - accuracy: 0.9983 - val_loss: 1.0257 - val_accuracy: 0.6636\n",
      "Epoch 22/60\n",
      "19/19 [==============================] - 0s 5ms/step - loss: 0.0063 - accuracy: 0.9967 - val_loss: 1.0271 - val_accuracy: 0.6729\n",
      "Epoch 23/60\n",
      "19/19 [==============================] - 0s 6ms/step - loss: 0.0084 - accuracy: 0.9983 - val_loss: 1.0263 - val_accuracy: 0.6636\n",
      "Epoch 24/60\n",
      "19/19 [==============================] - 0s 5ms/step - loss: 0.0134 - accuracy: 0.9967 - val_loss: 1.0437 - val_accuracy: 0.6729\n",
      "Epoch 25/60\n",
      "19/19 [==============================] - 0s 5ms/step - loss: 0.0090 - accuracy: 0.9983 - val_loss: 1.0299 - val_accuracy: 0.6636\n",
      "Epoch 26/60\n",
      "19/19 [==============================] - 0s 5ms/step - loss: 0.0063 - accuracy: 0.9983 - val_loss: 1.0330 - val_accuracy: 0.6636\n",
      "Epoch 27/60\n",
      "19/19 [==============================] - 0s 6ms/step - loss: 0.0055 - accuracy: 0.9967 - val_loss: 1.0386 - val_accuracy: 0.6636\n",
      "Epoch 28/60\n",
      "19/19 [==============================] - 0s 6ms/step - loss: 0.0046 - accuracy: 0.9983 - val_loss: 1.0407 - val_accuracy: 0.6636\n",
      "Epoch 29/60\n",
      "19/19 [==============================] - 0s 5ms/step - loss: 0.0049 - accuracy: 0.9983 - val_loss: 1.0447 - val_accuracy: 0.6636\n",
      "Epoch 30/60\n",
      "19/19 [==============================] - 0s 6ms/step - loss: 0.0044 - accuracy: 0.9983 - val_loss: 1.0506 - val_accuracy: 0.6636\n",
      "Epoch 31/60\n",
      "19/19 [==============================] - 0s 5ms/step - loss: 0.0061 - accuracy: 0.9983 - val_loss: 1.0535 - val_accuracy: 0.6542\n",
      "Epoch 32/60\n",
      "19/19 [==============================] - 0s 5ms/step - loss: 0.0039 - accuracy: 0.9967 - val_loss: 1.0539 - val_accuracy: 0.6636\n",
      "Epoch 33/60\n",
      "19/19 [==============================] - 0s 5ms/step - loss: 0.0036 - accuracy: 0.9983 - val_loss: 1.0590 - val_accuracy: 0.6636\n",
      "Epoch 34/60\n",
      "19/19 [==============================] - 0s 7ms/step - loss: 0.0037 - accuracy: 0.9983 - val_loss: 1.0619 - val_accuracy: 0.6636\n",
      "Epoch 35/60\n",
      "19/19 [==============================] - 0s 7ms/step - loss: 0.0041 - accuracy: 0.9983 - val_loss: 1.0663 - val_accuracy: 0.6636\n",
      "Epoch 36/60\n",
      "19/19 [==============================] - 0s 5ms/step - loss: 0.0036 - accuracy: 0.9983 - val_loss: 1.0687 - val_accuracy: 0.6636\n",
      "Epoch 37/60\n",
      "19/19 [==============================] - 0s 6ms/step - loss: 0.0045 - accuracy: 0.9967 - val_loss: 1.0707 - val_accuracy: 0.6636\n",
      "Epoch 38/60\n",
      "19/19 [==============================] - 0s 5ms/step - loss: 0.0038 - accuracy: 0.9983 - val_loss: 1.0748 - val_accuracy: 0.6542\n",
      "Epoch 39/60\n",
      "19/19 [==============================] - 0s 6ms/step - loss: 0.0047 - accuracy: 0.9967 - val_loss: 1.0764 - val_accuracy: 0.6636\n",
      "Epoch 40/60\n",
      "19/19 [==============================] - 0s 6ms/step - loss: 0.0032 - accuracy: 0.9983 - val_loss: 1.0797 - val_accuracy: 0.6636\n",
      "Epoch 41/60\n",
      "19/19 [==============================] - 0s 5ms/step - loss: 0.0039 - accuracy: 0.9983 - val_loss: 1.0849 - val_accuracy: 0.6636\n",
      "Epoch 42/60\n",
      "19/19 [==============================] - 0s 5ms/step - loss: 0.0053 - accuracy: 0.9967 - val_loss: 1.0823 - val_accuracy: 0.6636\n",
      "Epoch 43/60\n",
      "19/19 [==============================] - 0s 6ms/step - loss: 0.0039 - accuracy: 0.9967 - val_loss: 1.0876 - val_accuracy: 0.6542\n",
      "Epoch 44/60\n",
      "19/19 [==============================] - 0s 6ms/step - loss: 0.0034 - accuracy: 0.9983 - val_loss: 1.0902 - val_accuracy: 0.6636\n",
      "Epoch 45/60\n",
      "19/19 [==============================] - 0s 6ms/step - loss: 0.0041 - accuracy: 0.9967 - val_loss: 1.0935 - val_accuracy: 0.6636\n",
      "Epoch 46/60\n",
      "19/19 [==============================] - 0s 5ms/step - loss: 0.0033 - accuracy: 0.9983 - val_loss: 1.0949 - val_accuracy: 0.6636\n",
      "Epoch 47/60\n",
      "19/19 [==============================] - 0s 6ms/step - loss: 0.0041 - accuracy: 0.9983 - val_loss: 1.0943 - val_accuracy: 0.6636\n",
      "Epoch 48/60\n",
      "19/19 [==============================] - 0s 5ms/step - loss: 0.0034 - accuracy: 0.9967 - val_loss: 1.1000 - val_accuracy: 0.6636\n",
      "Epoch 49/60\n",
      "19/19 [==============================] - 0s 5ms/step - loss: 0.0050 - accuracy: 0.9983 - val_loss: 1.1058 - val_accuracy: 0.6636\n",
      "Epoch 50/60\n",
      "19/19 [==============================] - 0s 5ms/step - loss: 0.0030 - accuracy: 0.9983 - val_loss: 1.0970 - val_accuracy: 0.6636\n",
      "Epoch 51/60\n",
      "19/19 [==============================] - 0s 5ms/step - loss: 0.0045 - accuracy: 0.9983 - val_loss: 1.1001 - val_accuracy: 0.6636\n",
      "Epoch 52/60\n",
      "19/19 [==============================] - 0s 7ms/step - loss: 0.0034 - accuracy: 0.9983 - val_loss: 1.1043 - val_accuracy: 0.6542\n",
      "Epoch 53/60\n",
      "19/19 [==============================] - 0s 7ms/step - loss: 0.0044 - accuracy: 0.9983 - val_loss: 1.1052 - val_accuracy: 0.6636\n",
      "Epoch 54/60\n",
      "19/19 [==============================] - 0s 7ms/step - loss: 0.0040 - accuracy: 0.9983 - val_loss: 1.1053 - val_accuracy: 0.6636\n",
      "Epoch 55/60\n",
      "19/19 [==============================] - 0s 6ms/step - loss: 0.0030 - accuracy: 0.9983 - val_loss: 1.1089 - val_accuracy: 0.6636\n",
      "Epoch 56/60\n",
      "19/19 [==============================] - 0s 7ms/step - loss: 0.0042 - accuracy: 0.9983 - val_loss: 1.1150 - val_accuracy: 0.6636\n",
      "Epoch 57/60\n",
      "19/19 [==============================] - 0s 6ms/step - loss: 0.0020 - accuracy: 1.0000 - val_loss: 1.1114 - val_accuracy: 0.6636\n",
      "Epoch 58/60\n",
      "19/19 [==============================] - 0s 6ms/step - loss: 0.0039 - accuracy: 0.9983 - val_loss: 1.1138 - val_accuracy: 0.6636\n",
      "Epoch 59/60\n",
      "19/19 [==============================] - 0s 6ms/step - loss: 0.0043 - accuracy: 0.9983 - val_loss: 1.1173 - val_accuracy: 0.6636\n",
      "Epoch 60/60\n",
      "19/19 [==============================] - 0s 6ms/step - loss: 0.0042 - accuracy: 0.9983 - val_loss: 1.1196 - val_accuracy: 0.6636\n",
      "CPU times: user 5 µs, sys: 1e+03 ns, total: 6 µs\n",
      "Wall time: 11.9 µs\n"
     ]
    }
   ],
   "source": [
    "num_epochs = 60\n",
    "\n",
    "# Train the model\n",
    "history = model.fit(X_train_padded, y_train, epochs=num_epochs, validation_data=(X_test_padded, y_test))\n",
    "%time"
   ]
  },
  {
   "cell_type": "markdown",
   "metadata": {},
   "source": [
    "#### Evaluation"
   ]
  },
  {
   "cell_type": "code",
   "execution_count": 33,
   "metadata": {},
   "outputs": [
    {
     "data": {
      "image/png": "[encoded data removed]",
      "text/plain": [
       "<Figure size 432x288 with 1 Axes>"
      ]
     },
     "metadata": {
      "needs_background": "light"
     },
     "output_type": "display_data"
    },
    {
     "data": {
      "image/png": "[encoded data removed]",
      "text/plain": [
       "<Figure size 432x288 with 1 Axes>"
      ]
     },
     "metadata": {
      "needs_background": "light"
     },
     "output_type": "display_data"
    }
   ],
   "source": [
    "import matplotlib.pyplot as plt\n",
    "\n",
    "# Plot utility\n",
    "def plot_graphs(history, string):\n",
    "  plt.plot(history.history[string])\n",
    "  plt.plot(history.history['val_'+string])\n",
    "  plt.xlabel(\"Epochs\")\n",
    "  plt.ylabel(string)\n",
    "  plt.legend([string, 'val_'+string])\n",
    "  plt.show()\n",
    "  \n",
    "# Plot the accuracy and loss\n",
    "plot_graphs(history, \"accuracy\")\n",
    "plot_graphs(history, \"loss\")"
   ]
  },
  {
   "cell_type": "code",
   "execution_count": 36,
   "metadata": {},
   "outputs": [
    {
     "name": "stdout",
     "output_type": "stream",
     "text": [
      "4/4 [==============================] - 0s 2ms/step\n",
      "                      precision    recall  f1-score   support\n",
      "\n",
      "      VLE and Module       0.56      0.67      0.61        27\n",
      "   Hardware and Room       0.86      0.78      0.82        23\n",
      "                Mail       0.00      0.00      0.00         6\n",
      " Software and Access       0.63      0.71      0.67        45\n",
      "Account and Password       1.00      0.50      0.67         6\n",
      "\n",
      "            accuracy                           0.66       107\n",
      "           macro avg       0.61      0.53      0.55       107\n",
      "        weighted avg       0.65      0.66      0.65       107\n",
      "\n"
     ]
    },
    {
     "name": "stderr",
     "output_type": "stream",
     "text": [
      "/usr/local/lib/python3.9/dist-packages/sklearn/metrics/_classification.py:1327: UndefinedMetricWarning: Precision and F-score are ill-defined and being set to 0.0 in labels with no predicted samples. Use `zero_division` parameter to control this behavior.\n",
      "  _warn_prf(average, modifier, msg_start, len(result))\n",
      "/usr/local/lib/python3.9/dist-packages/sklearn/metrics/_classification.py:1327: UndefinedMetricWarning: Precision and F-score are ill-defined and being set to 0.0 in labels with no predicted samples. Use `zero_division` parameter to control this behavior.\n",
      "  _warn_prf(average, modifier, msg_start, len(result))\n",
      "/usr/local/lib/python3.9/dist-packages/sklearn/metrics/_classification.py:1327: UndefinedMetricWarning: Precision and F-score are ill-defined and being set to 0.0 in labels with no predicted samples. Use `zero_division` parameter to control this behavior.\n",
      "  _warn_prf(average, modifier, msg_start, len(result))\n"
     ]
    }
   ],
   "source": [
    "y_pred = model.predict(X_test_padded)\n",
    "y_pred = np.argmax(y_pred,axis=1)\n",
    "print(classification_report(y_test, y_pred, target_names= label))"
   ]
  },
  {
   "cell_type": "markdown",
   "metadata": {},
   "source": [
    "### Embedding -> Conv1D"
   ]
  },
  {
   "cell_type": "code",
   "execution_count": 37,
   "metadata": {},
   "outputs": [
    {
     "name": "stdout",
     "output_type": "stream",
     "text": [
      "Model: \"sequential_4\"\n",
      "_________________________________________________________________\n",
      " Layer (type)                Output Shape              Param #   \n",
      "=================================================================\n",
      " embedding_4 (Embedding)     (None, 150, 32)           148704    \n",
      "                                                                 \n",
      " conv1d_1 (Conv1D)           (None, 146, 128)          20608     \n",
      "                                                                 \n",
      " flatten_1 (Flatten)         (None, 18688)             0         \n",
      "                                                                 \n",
      " dense_8 (Dense)             (None, 64)                1196096   \n",
      "                                                                 \n",
      " dense_9 (Dense)             (None, 5)                 325       \n",
      "                                                                 \n",
      "=================================================================\n",
      "Total params: 1,365,733\n",
      "Trainable params: 1,365,733\n",
      "Non-trainable params: 0\n",
      "_________________________________________________________________\n"
     ]
    }
   ],
   "source": [
    "embedding_dim = 32\n",
    "num_of_filters = 128\n",
    "kernel_size = 5\n",
    "# Build the model\n",
    "model = tf.keras.Sequential([\n",
    "    tf.keras.layers.Embedding(num_words, embedding_dim, input_length = max_length),\n",
    "    tf.keras.layers.Conv1D(num_of_filters, kernel_size),\n",
    "    tf.keras.layers.Flatten(),\n",
    "    tf.keras.layers.Dense(64, activation='relu'),\n",
    "    tf.keras.layers.Dense(5, activation='softmax')\n",
    "])\n",
    "\n",
    "# Print the model summary\n",
    "model.summary()"
   ]
  },
  {
   "cell_type": "code",
   "execution_count": 38,
   "metadata": {},
   "outputs": [],
   "source": [
    "# Compile the modeld\n",
    "model.compile(loss='sparse_categorical_crossentropy',optimizer='adam',metrics=['accuracy'])"
   ]
  },
  {
   "cell_type": "code",
   "execution_count": 39,
   "metadata": {},
   "outputs": [
    {
     "name": "stdout",
     "output_type": "stream",
     "text": [
      "Epoch 1/60\n",
      "19/19 [==============================] - 1s 16ms/step - loss: 1.4591 - accuracy: 0.3648 - val_loss: 1.3772 - val_accuracy: 0.4393\n",
      "Epoch 2/60\n",
      "19/19 [==============================] - 0s 7ms/step - loss: 1.0044 - accuracy: 0.6716 - val_loss: 1.1262 - val_accuracy: 0.6355\n",
      "Epoch 3/60\n",
      "19/19 [==============================] - 0s 7ms/step - loss: 0.4744 - accuracy: 0.8607 - val_loss: 1.0981 - val_accuracy: 0.5981\n",
      "Epoch 4/60\n",
      "19/19 [==============================] - 0s 8ms/step - loss: 0.1562 - accuracy: 0.9735 - val_loss: 1.0779 - val_accuracy: 0.6449\n",
      "Epoch 5/60\n",
      "19/19 [==============================] - 0s 7ms/step - loss: 0.0626 - accuracy: 0.9934 - val_loss: 1.1253 - val_accuracy: 0.6449\n",
      "Epoch 6/60\n",
      "19/19 [==============================] - 0s 8ms/step - loss: 0.0254 - accuracy: 0.9983 - val_loss: 1.1624 - val_accuracy: 0.6542\n",
      "Epoch 7/60\n",
      "19/19 [==============================] - 0s 7ms/step - loss: 0.0182 - accuracy: 0.9983 - val_loss: 1.2203 - val_accuracy: 0.6542\n",
      "Epoch 8/60\n",
      "19/19 [==============================] - 0s 7ms/step - loss: 0.0173 - accuracy: 0.9983 - val_loss: 1.2157 - val_accuracy: 0.6822\n",
      "Epoch 9/60\n",
      "19/19 [==============================] - 0s 7ms/step - loss: 0.0156 - accuracy: 0.9967 - val_loss: 1.2221 - val_accuracy: 0.6822\n",
      "Epoch 10/60\n",
      "19/19 [==============================] - 0s 7ms/step - loss: 0.0098 - accuracy: 0.9967 - val_loss: 1.2594 - val_accuracy: 0.6729\n",
      "Epoch 11/60\n",
      "19/19 [==============================] - 0s 7ms/step - loss: 0.0045 - accuracy: 1.0000 - val_loss: 1.2563 - val_accuracy: 0.6916\n",
      "Epoch 12/60\n",
      "19/19 [==============================] - 0s 8ms/step - loss: 0.0101 - accuracy: 0.9967 - val_loss: 1.2741 - val_accuracy: 0.6822\n",
      "Epoch 13/60\n",
      "19/19 [==============================] - 0s 7ms/step - loss: 0.0089 - accuracy: 0.9967 - val_loss: 1.2868 - val_accuracy: 0.6822\n",
      "Epoch 14/60\n",
      "19/19 [==============================] - 0s 7ms/step - loss: 0.0077 - accuracy: 0.9983 - val_loss: 1.2915 - val_accuracy: 0.6729\n",
      "Epoch 15/60\n",
      "19/19 [==============================] - 0s 7ms/step - loss: 0.0083 - accuracy: 0.9967 - val_loss: 1.2880 - val_accuracy: 0.6916\n",
      "Epoch 16/60\n",
      "19/19 [==============================] - 0s 7ms/step - loss: 0.0086 - accuracy: 0.9983 - val_loss: 1.2986 - val_accuracy: 0.6729\n",
      "Epoch 17/60\n",
      "19/19 [==============================] - 0s 7ms/step - loss: 0.0097 - accuracy: 0.9967 - val_loss: 1.3108 - val_accuracy: 0.6729\n",
      "Epoch 18/60\n",
      "19/19 [==============================] - 0s 9ms/step - loss: 0.0038 - accuracy: 0.9983 - val_loss: 1.3025 - val_accuracy: 0.6822\n",
      "Epoch 19/60\n",
      "19/19 [==============================] - 0s 8ms/step - loss: 0.0047 - accuracy: 0.9967 - val_loss: 1.3171 - val_accuracy: 0.6729\n",
      "Epoch 20/60\n",
      "19/19 [==============================] - 0s 8ms/step - loss: 0.0052 - accuracy: 0.9983 - val_loss: 1.3335 - val_accuracy: 0.6822\n",
      "Epoch 21/60\n",
      "19/19 [==============================] - 0s 8ms/step - loss: 0.0026 - accuracy: 1.0000 - val_loss: 1.3494 - val_accuracy: 0.6729\n",
      "Epoch 22/60\n",
      "19/19 [==============================] - 0s 8ms/step - loss: 0.0061 - accuracy: 0.9983 - val_loss: 1.3569 - val_accuracy: 0.6729\n",
      "Epoch 23/60\n",
      "19/19 [==============================] - 0s 11ms/step - loss: 0.0028 - accuracy: 0.9983 - val_loss: 1.3553 - val_accuracy: 0.6729\n",
      "Epoch 24/60\n",
      "19/19 [==============================] - 0s 9ms/step - loss: 0.0056 - accuracy: 0.9983 - val_loss: 1.3630 - val_accuracy: 0.6729\n",
      "Epoch 25/60\n",
      "19/19 [==============================] - 0s 8ms/step - loss: 0.0079 - accuracy: 0.9967 - val_loss: 1.3819 - val_accuracy: 0.6729\n",
      "Epoch 26/60\n",
      "19/19 [==============================] - 0s 9ms/step - loss: 0.0068 - accuracy: 0.9967 - val_loss: 1.3564 - val_accuracy: 0.6729\n",
      "Epoch 27/60\n",
      "19/19 [==============================] - 0s 8ms/step - loss: 0.0046 - accuracy: 0.9967 - val_loss: 1.3651 - val_accuracy: 0.6729\n",
      "Epoch 28/60\n",
      "19/19 [==============================] - 0s 9ms/step - loss: 0.0040 - accuracy: 0.9967 - val_loss: 1.3720 - val_accuracy: 0.6729\n",
      "Epoch 29/60\n",
      "19/19 [==============================] - 0s 8ms/step - loss: 0.0051 - accuracy: 0.9967 - val_loss: 1.3833 - val_accuracy: 0.6729\n",
      "Epoch 30/60\n",
      "19/19 [==============================] - 0s 8ms/step - loss: 0.0033 - accuracy: 0.9983 - val_loss: 1.3817 - val_accuracy: 0.6729\n",
      "Epoch 31/60\n",
      "19/19 [==============================] - 0s 8ms/step - loss: 0.0045 - accuracy: 0.9967 - val_loss: 1.3980 - val_accuracy: 0.6729\n",
      "Epoch 32/60\n",
      "19/19 [==============================] - 0s 7ms/step - loss: 0.0031 - accuracy: 0.9983 - val_loss: 1.3966 - val_accuracy: 0.6729\n",
      "Epoch 33/60\n",
      "19/19 [==============================] - 0s 7ms/step - loss: 0.0032 - accuracy: 0.9983 - val_loss: 1.4079 - val_accuracy: 0.6729\n",
      "Epoch 34/60\n",
      "19/19 [==============================] - 0s 7ms/step - loss: 0.0032 - accuracy: 0.9967 - val_loss: 1.4151 - val_accuracy: 0.6729\n",
      "Epoch 35/60\n",
      "19/19 [==============================] - 0s 7ms/step - loss: 0.0029 - accuracy: 0.9983 - val_loss: 1.4218 - val_accuracy: 0.6729\n",
      "Epoch 36/60\n",
      "19/19 [==============================] - 0s 8ms/step - loss: 0.0045 - accuracy: 0.9983 - val_loss: 1.4227 - val_accuracy: 0.6729\n",
      "Epoch 37/60\n",
      "19/19 [==============================] - 0s 7ms/step - loss: 0.0027 - accuracy: 0.9983 - val_loss: 1.4443 - val_accuracy: 0.6636\n",
      "Epoch 38/60\n",
      "19/19 [==============================] - 0s 7ms/step - loss: 0.0042 - accuracy: 0.9983 - val_loss: 1.4477 - val_accuracy: 0.6636\n",
      "Epoch 39/60\n",
      "19/19 [==============================] - 0s 7ms/step - loss: 0.0028 - accuracy: 0.9983 - val_loss: 1.4344 - val_accuracy: 0.6729\n",
      "Epoch 40/60\n",
      "19/19 [==============================] - 0s 7ms/step - loss: 0.0044 - accuracy: 0.9983 - val_loss: 1.4389 - val_accuracy: 0.6729\n",
      "Epoch 41/60\n",
      "19/19 [==============================] - 0s 7ms/step - loss: 0.0031 - accuracy: 0.9983 - val_loss: 1.4680 - val_accuracy: 0.6822\n",
      "Epoch 42/60\n",
      "19/19 [==============================] - 0s 7ms/step - loss: 0.0049 - accuracy: 0.9983 - val_loss: 1.4420 - val_accuracy: 0.6729\n",
      "Epoch 43/60\n",
      "19/19 [==============================] - 0s 8ms/step - loss: 0.0034 - accuracy: 0.9983 - val_loss: 1.4482 - val_accuracy: 0.6729\n",
      "Epoch 44/60\n",
      "19/19 [==============================] - 0s 7ms/step - loss: 0.0028 - accuracy: 0.9967 - val_loss: 1.4523 - val_accuracy: 0.6729\n",
      "Epoch 45/60\n",
      "19/19 [==============================] - 0s 7ms/step - loss: 0.0039 - accuracy: 0.9983 - val_loss: 1.4575 - val_accuracy: 0.6729\n",
      "Epoch 46/60\n",
      "19/19 [==============================] - 0s 7ms/step - loss: 0.0030 - accuracy: 0.9967 - val_loss: 1.4676 - val_accuracy: 0.6729\n",
      "Epoch 47/60\n",
      "19/19 [==============================] - 0s 7ms/step - loss: 0.0035 - accuracy: 0.9983 - val_loss: 1.4744 - val_accuracy: 0.6636\n",
      "Epoch 48/60\n",
      "19/19 [==============================] - 0s 7ms/step - loss: 0.0028 - accuracy: 0.9983 - val_loss: 1.4702 - val_accuracy: 0.6729\n",
      "Epoch 49/60\n",
      "19/19 [==============================] - 0s 7ms/step - loss: 0.0029 - accuracy: 0.9983 - val_loss: 1.4753 - val_accuracy: 0.6729\n",
      "Epoch 50/60\n",
      "19/19 [==============================] - 0s 8ms/step - loss: 0.0027 - accuracy: 0.9983 - val_loss: 1.4839 - val_accuracy: 0.6729\n",
      "Epoch 51/60\n",
      "19/19 [==============================] - 0s 8ms/step - loss: 0.0031 - accuracy: 0.9983 - val_loss: 1.4892 - val_accuracy: 0.6729\n",
      "Epoch 52/60\n",
      "19/19 [==============================] - 0s 8ms/step - loss: 0.0026 - accuracy: 0.9983 - val_loss: 1.4922 - val_accuracy: 0.6729\n",
      "Epoch 53/60\n",
      "19/19 [==============================] - 0s 7ms/step - loss: 0.0041 - accuracy: 0.9967 - val_loss: 1.4967 - val_accuracy: 0.6729\n",
      "Epoch 54/60\n",
      "19/19 [==============================] - 0s 8ms/step - loss: 0.0026 - accuracy: 0.9983 - val_loss: 1.4939 - val_accuracy: 0.6729\n",
      "Epoch 55/60\n",
      "19/19 [==============================] - 0s 7ms/step - loss: 0.0041 - accuracy: 0.9983 - val_loss: 1.4966 - val_accuracy: 0.6729\n",
      "Epoch 56/60\n",
      "19/19 [==============================] - 0s 8ms/step - loss: 0.0022 - accuracy: 0.9983 - val_loss: 1.5169 - val_accuracy: 0.6822\n",
      "Epoch 57/60\n",
      "19/19 [==============================] - 0s 7ms/step - loss: 0.0033 - accuracy: 0.9983 - val_loss: 1.5064 - val_accuracy: 0.6636\n",
      "Epoch 58/60\n",
      "19/19 [==============================] - 0s 7ms/step - loss: 0.0026 - accuracy: 0.9983 - val_loss: 1.5011 - val_accuracy: 0.6729\n",
      "Epoch 59/60\n",
      "19/19 [==============================] - 0s 7ms/step - loss: 0.0027 - accuracy: 0.9983 - val_loss: 1.5103 - val_accuracy: 0.6729\n",
      "Epoch 60/60\n",
      "19/19 [==============================] - 0s 7ms/step - loss: 0.0036 - accuracy: 0.9983 - val_loss: 1.5139 - val_accuracy: 0.6729\n",
      "CPU times: user 5 µs, sys: 0 ns, total: 5 µs\n",
      "Wall time: 12.4 µs\n"
     ]
    }
   ],
   "source": [
    "num_epochs = 60\n",
    "\n",
    "# Train the model\n",
    "history = model.fit(X_train_padded, y_train, epochs=num_epochs, validation_data=(X_test_padded, y_test))\n",
    "%time"
   ]
  },
  {
   "cell_type": "markdown",
   "metadata": {},
   "source": [
    "#### Evaluation"
   ]
  },
  {
   "cell_type": "code",
   "execution_count": 40,
   "metadata": {},
   "outputs": [
    {
     "data": {
      "image/png": "[encoded data removed]",
      "text/plain": [
       "<Figure size 432x288 with 1 Axes>"
      ]
     },
     "metadata": {
      "needs_background": "light"
     },
     "output_type": "display_data"
    },
    {
     "data": {
      "image/png": "[encoded data removed]",
      "text/plain": [
       "<Figure size 432x288 with 1 Axes>"
      ]
     },
     "metadata": {
      "needs_background": "light"
     },
     "output_type": "display_data"
    }
   ],
   "source": [
    "import matplotlib.pyplot as plt\n",
    "\n",
    "# Plot utility\n",
    "def plot_graphs(history, string):\n",
    "  plt.plot(history.history[string])\n",
    "  plt.plot(history.history['val_'+string])\n",
    "  plt.xlabel(\"Epochs\")\n",
    "  plt.ylabel(string)\n",
    "  plt.legend([string, 'val_'+string])\n",
    "  plt.show()\n",
    "  \n",
    "# Plot the accuracy and loss\n",
    "plot_graphs(history, \"accuracy\")\n",
    "plot_graphs(history, \"loss\")"
   ]
  },
  {
   "cell_type": "code",
   "execution_count": 41,
   "metadata": {},
   "outputs": [
    {
     "name": "stdout",
     "output_type": "stream",
     "text": [
      "4/4 [==============================] - 0s 3ms/step\n",
      "                      precision    recall  f1-score   support\n",
      "\n",
      "      VLE and Module       0.55      0.63      0.59        27\n",
      "   Hardware and Room       0.69      0.78      0.73        23\n",
      "                Mail       1.00      0.33      0.50         6\n",
      " Software and Access       0.71      0.71      0.71        45\n",
      "Account and Password       1.00      0.50      0.67         6\n",
      "\n",
      "            accuracy                           0.67       107\n",
      "           macro avg       0.79      0.59      0.64       107\n",
      "        weighted avg       0.70      0.67      0.67       107\n",
      "\n"
     ]
    }
   ],
   "source": [
    "y_pred = model.predict(X_test_padded)\n",
    "y_pred = np.argmax(y_pred,axis=1)\n",
    "print(classification_report(y_test, y_pred, target_names= label))"
   ]
  },
  {
   "cell_type": "markdown",
   "metadata": {},
   "source": [
    "### Embedding -> LSTM "
   ]
  },
  {
   "cell_type": "markdown",
   "metadata": {},
   "source": [
    "#### Evaluation"
   ]
  },
  {
   "cell_type": "code",
   "execution_count": 42,
   "metadata": {},
   "outputs": [
    {
     "name": "stdout",
     "output_type": "stream",
     "text": [
      "Model: \"sequential_5\"\n",
      "_________________________________________________________________\n",
      " Layer (type)                Output Shape              Param #   \n",
      "=================================================================\n",
      " embedding_5 (Embedding)     (None, 150, 32)           148704    \n",
      "                                                                 \n",
      " lstm_1 (LSTM)               (None, 64)                24832     \n",
      "                                                                 \n",
      " dense_10 (Dense)            (None, 64)                4160      \n",
      "                                                                 \n",
      " dense_11 (Dense)            (None, 5)                 325       \n",
      "                                                                 \n",
      "=================================================================\n",
      "Total params: 178,021\n",
      "Trainable params: 178,021\n",
      "Non-trainable params: 0\n",
      "_________________________________________________________________\n"
     ]
    }
   ],
   "source": [
    "embedding_dim = 32\n",
    "# Build the model\n",
    "model = tf.keras.Sequential([\n",
    "    tf.keras.layers.Embedding(num_words, embedding_dim, input_length = max_length),\n",
    "    tf.keras.layers.LSTM(64),\n",
    "    tf.keras.layers.Dense(64, activation='relu'),\n",
    "    tf.keras.layers.Dense(5, activation='softmax')\n",
    "])\n",
    "\n",
    "# Print the model summary\n",
    "model.summary()"
   ]
  },
  {
   "cell_type": "code",
   "execution_count": 43,
   "metadata": {},
   "outputs": [],
   "source": [
    "# Compile the modeld\n",
    "model.compile(loss='sparse_categorical_crossentropy',optimizer='adam',metrics=['accuracy'])"
   ]
  },
  {
   "cell_type": "code",
   "execution_count": 45,
   "metadata": {},
   "outputs": [
    {
     "data": {
      "image/png": "[encoded data removed]",
      "text/plain": [
       "<Figure size 432x288 with 1 Axes>"
      ]
     },
     "metadata": {
      "needs_background": "light"
     },
     "output_type": "display_data"
    },
    {
     "data": {
      "image/png": "[encoded data removed]",
      "text/plain": [
       "<Figure size 432x288 with 1 Axes>"
      ]
     },
     "metadata": {
      "needs_background": "light"
     },
     "output_type": "display_data"
    }
   ],
   "source": [
    "import matplotlib.pyplot as plt\n",
    "\n",
    "# Plot utility\n",
    "def plot_graphs(history, string):\n",
    "  plt.plot(history.history[string])\n",
    "  plt.plot(history.history['val_'+string])\n",
    "  plt.xlabel(\"Epochs\")\n",
    "  plt.ylabel(string)\n",
    "  plt.legend([string, 'val_'+string])\n",
    "  plt.show()\n",
    "  \n",
    "# Plot the accuracy and loss\n",
    "plot_graphs(history, \"accuracy\")\n",
    "plot_graphs(history, \"loss\")"
   ]
  },
  {
   "cell_type": "code",
   "execution_count": 46,
   "metadata": {},
   "outputs": [
    {
     "name": "stdout",
     "output_type": "stream",
     "text": [
      "4/4 [==============================] - 0s 3ms/step\n",
      "                      precision    recall  f1-score   support\n",
      "\n",
      "      VLE and Module       0.20      0.04      0.06        27\n",
      "   Hardware and Room       0.00      0.00      0.00        23\n",
      "                Mail       0.00      0.00      0.00         6\n",
      " Software and Access       0.29      0.13      0.18        45\n",
      "Account and Password       0.04      0.33      0.08         6\n",
      "\n",
      "            accuracy                           0.08       107\n",
      "           macro avg       0.11      0.10      0.06       107\n",
      "        weighted avg       0.17      0.08      0.10       107\n",
      "\n"
     ]
    }
   ],
   "source": [
    "y_pred = model.predict(X_test_padded)\n",
    "y_pred = np.argmax(y_pred,axis=1)\n",
    "print(classification_report(y_test, y_pred, target_names= label))"
   ]
  },
  {
   "cell_type": "markdown",
   "metadata": {},
   "source": [
    "### Embedding -> Bidirectional LSTM"
   ]
  },
  {
   "cell_type": "code",
   "execution_count": 47,
   "metadata": {},
   "outputs": [
    {
     "name": "stdout",
     "output_type": "stream",
     "text": [
      "Model: \"sequential_7\"\n",
      "_________________________________________________________________\n",
      " Layer (type)                Output Shape              Param #   \n",
      "=================================================================\n",
      " embedding_7 (Embedding)     (None, 150, 32)           148704    \n",
      "                                                                 \n",
      " bidirectional_1 (Bidirectio  (None, 128)              49664     \n",
      " nal)                                                            \n",
      "                                                                 \n",
      " dense_14 (Dense)            (None, 64)                8256      \n",
      "                                                                 \n",
      " dense_15 (Dense)            (None, 5)                 325       \n",
      "                                                                 \n",
      "=================================================================\n",
      "Total params: 206,949\n",
      "Trainable params: 206,949\n",
      "Non-trainable params: 0\n",
      "_________________________________________________________________\n"
     ]
    }
   ],
   "source": [
    "embedding_dim = 32\n",
    "# Build the model\n",
    "model = tf.keras.Sequential([\n",
    "    tf.keras.layers.Embedding(num_words, embedding_dim, input_length = max_length),\n",
    "    tf.keras.layers.Bidirectional(tf.keras.layers.LSTM(64)),\n",
    "    tf.keras.layers.Dense(64, activation='relu'),\n",
    "    tf.keras.layers.Dense(5, activation='softmax')\n",
    "])\n",
    "\n",
    "# Print the model summary\n",
    "model.summary()"
   ]
  },
  {
   "cell_type": "code",
   "execution_count": 48,
   "metadata": {},
   "outputs": [],
   "source": [
    "# Compile the modeld\n",
    "model.compile(loss='sparse_categorical_crossentropy',optimizer='adam',metrics=['accuracy'])"
   ]
  },
  {
   "cell_type": "code",
   "execution_count": 49,
   "metadata": {},
   "outputs": [
    {
     "name": "stdout",
     "output_type": "stream",
     "text": [
      "Epoch 1/60\n",
      "19/19 [==============================] - 6s 98ms/step - loss: 1.5324 - accuracy: 0.3416 - val_loss: 1.3886 - val_accuracy: 0.4206\n",
      "Epoch 2/60\n",
      "19/19 [==============================] - 1s 28ms/step - loss: 1.3963 - accuracy: 0.3731 - val_loss: 1.3380 - val_accuracy: 0.4206\n",
      "Epoch 3/60\n",
      "19/19 [==============================] - 1s 29ms/step - loss: 1.3024 - accuracy: 0.4129 - val_loss: 1.2197 - val_accuracy: 0.4393\n",
      "Epoch 4/60\n",
      "19/19 [==============================] - 1s 28ms/step - loss: 1.1561 - accuracy: 0.4959 - val_loss: 1.2017 - val_accuracy: 0.5701\n",
      "Epoch 5/60\n",
      "19/19 [==============================] - 1s 27ms/step - loss: 1.0425 - accuracy: 0.6186 - val_loss: 1.0282 - val_accuracy: 0.6075\n",
      "Epoch 6/60\n",
      "19/19 [==============================] - 1s 27ms/step - loss: 0.8081 - accuracy: 0.7463 - val_loss: 0.9490 - val_accuracy: 0.6262\n",
      "Epoch 7/60\n",
      "19/19 [==============================] - 1s 29ms/step - loss: 0.6361 - accuracy: 0.7844 - val_loss: 0.9560 - val_accuracy: 0.6449\n",
      "Epoch 8/60\n",
      "19/19 [==============================] - 1s 28ms/step - loss: 0.5128 - accuracy: 0.8275 - val_loss: 0.9687 - val_accuracy: 0.6542\n",
      "Epoch 9/60\n",
      "19/19 [==============================] - 1s 28ms/step - loss: 0.4041 - accuracy: 0.8524 - val_loss: 1.0560 - val_accuracy: 0.6542\n",
      "Epoch 10/60\n",
      "19/19 [==============================] - 1s 30ms/step - loss: 0.3215 - accuracy: 0.8939 - val_loss: 1.0879 - val_accuracy: 0.5888\n",
      "Epoch 11/60\n",
      "19/19 [==============================] - 1s 28ms/step - loss: 0.2505 - accuracy: 0.9287 - val_loss: 1.3589 - val_accuracy: 0.6075\n",
      "Epoch 12/60\n",
      "19/19 [==============================] - 1s 32ms/step - loss: 0.2090 - accuracy: 0.9370 - val_loss: 1.2783 - val_accuracy: 0.6075\n",
      "Epoch 13/60\n",
      "19/19 [==============================] - 1s 30ms/step - loss: 0.1764 - accuracy: 0.9519 - val_loss: 1.3374 - val_accuracy: 0.6075\n",
      "Epoch 14/60\n",
      "19/19 [==============================] - 1s 30ms/step - loss: 0.1461 - accuracy: 0.9469 - val_loss: 1.5755 - val_accuracy: 0.6075\n",
      "Epoch 15/60\n",
      "19/19 [==============================] - 1s 30ms/step - loss: 0.1437 - accuracy: 0.9602 - val_loss: 1.4098 - val_accuracy: 0.5981\n",
      "Epoch 16/60\n",
      "19/19 [==============================] - 1s 29ms/step - loss: 0.1167 - accuracy: 0.9668 - val_loss: 1.5698 - val_accuracy: 0.5421\n",
      "Epoch 17/60\n",
      "19/19 [==============================] - 1s 29ms/step - loss: 0.0823 - accuracy: 0.9768 - val_loss: 1.7982 - val_accuracy: 0.5794\n",
      "Epoch 18/60\n",
      "19/19 [==============================] - 1s 29ms/step - loss: 0.1028 - accuracy: 0.9685 - val_loss: 1.6114 - val_accuracy: 0.5701\n",
      "Epoch 19/60\n",
      "19/19 [==============================] - 1s 28ms/step - loss: 0.0663 - accuracy: 0.9801 - val_loss: 1.7745 - val_accuracy: 0.5701\n",
      "Epoch 20/60\n",
      "19/19 [==============================] - 1s 29ms/step - loss: 0.0528 - accuracy: 0.9867 - val_loss: 2.1618 - val_accuracy: 0.5514\n",
      "Epoch 21/60\n",
      "19/19 [==============================] - 1s 30ms/step - loss: 0.0781 - accuracy: 0.9867 - val_loss: 1.9834 - val_accuracy: 0.5701\n",
      "Epoch 22/60\n",
      "19/19 [==============================] - 1s 29ms/step - loss: 0.0368 - accuracy: 0.9917 - val_loss: 1.9461 - val_accuracy: 0.5607\n",
      "Epoch 23/60\n",
      "19/19 [==============================] - 1s 28ms/step - loss: 0.0241 - accuracy: 0.9950 - val_loss: 2.0678 - val_accuracy: 0.5607\n",
      "Epoch 24/60\n",
      "19/19 [==============================] - 1s 28ms/step - loss: 0.0245 - accuracy: 0.9934 - val_loss: 2.2548 - val_accuracy: 0.6075\n",
      "Epoch 25/60\n",
      "19/19 [==============================] - 1s 29ms/step - loss: 0.0391 - accuracy: 0.9900 - val_loss: 2.1294 - val_accuracy: 0.5421\n",
      "Epoch 26/60\n",
      "19/19 [==============================] - 1s 29ms/step - loss: 0.0354 - accuracy: 0.9900 - val_loss: 2.1073 - val_accuracy: 0.5514\n",
      "Epoch 27/60\n",
      "19/19 [==============================] - 1s 30ms/step - loss: 0.0325 - accuracy: 0.9917 - val_loss: 2.0276 - val_accuracy: 0.5888\n",
      "Epoch 28/60\n",
      "19/19 [==============================] - 1s 29ms/step - loss: 0.0240 - accuracy: 0.9950 - val_loss: 2.1180 - val_accuracy: 0.5794\n",
      "Epoch 29/60\n",
      "19/19 [==============================] - 1s 29ms/step - loss: 0.0390 - accuracy: 0.9884 - val_loss: 2.0832 - val_accuracy: 0.5607\n",
      "Epoch 30/60\n",
      "19/19 [==============================] - 1s 29ms/step - loss: 0.0328 - accuracy: 0.9934 - val_loss: 2.1118 - val_accuracy: 0.5607\n",
      "Epoch 31/60\n",
      "19/19 [==============================] - 1s 28ms/step - loss: 0.0201 - accuracy: 0.9967 - val_loss: 2.0266 - val_accuracy: 0.5514\n",
      "Epoch 32/60\n",
      "19/19 [==============================] - 1s 29ms/step - loss: 0.0176 - accuracy: 0.9950 - val_loss: 2.1891 - val_accuracy: 0.5701\n",
      "Epoch 33/60\n",
      "19/19 [==============================] - 1s 27ms/step - loss: 0.0126 - accuracy: 0.9950 - val_loss: 2.4550 - val_accuracy: 0.5327\n",
      "Epoch 34/60\n",
      "19/19 [==============================] - 1s 30ms/step - loss: 0.0319 - accuracy: 0.9917 - val_loss: 2.3567 - val_accuracy: 0.5607\n",
      "Epoch 35/60\n",
      "19/19 [==============================] - 1s 27ms/step - loss: 0.0223 - accuracy: 0.9934 - val_loss: 2.4352 - val_accuracy: 0.4766\n",
      "Epoch 36/60\n",
      "19/19 [==============================] - 1s 29ms/step - loss: 0.0260 - accuracy: 0.9934 - val_loss: 2.3235 - val_accuracy: 0.5701\n",
      "Epoch 37/60\n",
      "19/19 [==============================] - 1s 30ms/step - loss: 0.0205 - accuracy: 0.9950 - val_loss: 2.1570 - val_accuracy: 0.5327\n",
      "Epoch 38/60\n",
      "19/19 [==============================] - 1s 32ms/step - loss: 0.0127 - accuracy: 0.9950 - val_loss: 2.2084 - val_accuracy: 0.5607\n",
      "Epoch 39/60\n",
      "19/19 [==============================] - 1s 31ms/step - loss: 0.0159 - accuracy: 0.9950 - val_loss: 2.3260 - val_accuracy: 0.5607\n",
      "Epoch 40/60\n",
      "19/19 [==============================] - 1s 30ms/step - loss: 0.0136 - accuracy: 0.9934 - val_loss: 2.2604 - val_accuracy: 0.5701\n",
      "Epoch 41/60\n",
      "19/19 [==============================] - 1s 29ms/step - loss: 0.0094 - accuracy: 0.9967 - val_loss: 2.3874 - val_accuracy: 0.5794\n",
      "Epoch 42/60\n",
      "19/19 [==============================] - 1s 27ms/step - loss: 0.0108 - accuracy: 0.9967 - val_loss: 2.3996 - val_accuracy: 0.5701\n",
      "Epoch 43/60\n",
      "19/19 [==============================] - 1s 28ms/step - loss: 0.0092 - accuracy: 0.9967 - val_loss: 2.3910 - val_accuracy: 0.5701\n",
      "Epoch 44/60\n",
      "19/19 [==============================] - 1s 28ms/step - loss: 0.0086 - accuracy: 0.9950 - val_loss: 2.4670 - val_accuracy: 0.5607\n",
      "Epoch 45/60\n",
      "19/19 [==============================] - 1s 29ms/step - loss: 0.0085 - accuracy: 0.9967 - val_loss: 2.5470 - val_accuracy: 0.5607\n",
      "Epoch 46/60\n",
      "19/19 [==============================] - 1s 28ms/step - loss: 0.0119 - accuracy: 0.9934 - val_loss: 2.5163 - val_accuracy: 0.5607\n",
      "Epoch 47/60\n",
      "19/19 [==============================] - 1s 28ms/step - loss: 0.0080 - accuracy: 0.9967 - val_loss: 2.5987 - val_accuracy: 0.5701\n",
      "Epoch 48/60\n",
      "19/19 [==============================] - 1s 28ms/step - loss: 0.0109 - accuracy: 0.9967 - val_loss: 2.6655 - val_accuracy: 0.5607\n",
      "Epoch 49/60\n",
      "19/19 [==============================] - 1s 28ms/step - loss: 0.0134 - accuracy: 0.9934 - val_loss: 2.6469 - val_accuracy: 0.5514\n",
      "Epoch 50/60\n",
      "19/19 [==============================] - 1s 29ms/step - loss: 0.0149 - accuracy: 0.9934 - val_loss: 2.5734 - val_accuracy: 0.5607\n",
      "Epoch 51/60\n",
      "19/19 [==============================] - 1s 27ms/step - loss: 0.0075 - accuracy: 0.9967 - val_loss: 2.5825 - val_accuracy: 0.5607\n",
      "Epoch 52/60\n",
      "19/19 [==============================] - 1s 28ms/step - loss: 0.0066 - accuracy: 0.9950 - val_loss: 2.7152 - val_accuracy: 0.5514\n",
      "Epoch 53/60\n",
      "19/19 [==============================] - 1s 28ms/step - loss: 0.0115 - accuracy: 0.9934 - val_loss: 2.8085 - val_accuracy: 0.5421\n",
      "Epoch 54/60\n",
      "19/19 [==============================] - 1s 30ms/step - loss: 0.0064 - accuracy: 0.9967 - val_loss: 2.9930 - val_accuracy: 0.5514\n",
      "Epoch 55/60\n",
      "19/19 [==============================] - 1s 27ms/step - loss: 0.0217 - accuracy: 0.9950 - val_loss: 2.7028 - val_accuracy: 0.5047\n",
      "Epoch 56/60\n",
      "19/19 [==============================] - 1s 29ms/step - loss: 0.0149 - accuracy: 0.9900 - val_loss: 3.2202 - val_accuracy: 0.4673\n",
      "Epoch 57/60\n",
      "19/19 [==============================] - 1s 28ms/step - loss: 0.0524 - accuracy: 0.9784 - val_loss: 2.0592 - val_accuracy: 0.5607\n",
      "Epoch 58/60\n",
      "19/19 [==============================] - 1s 29ms/step - loss: 0.0356 - accuracy: 0.9884 - val_loss: 2.3873 - val_accuracy: 0.5514\n",
      "Epoch 59/60\n",
      "19/19 [==============================] - 1s 29ms/step - loss: 0.0184 - accuracy: 0.9917 - val_loss: 2.4847 - val_accuracy: 0.5514\n",
      "Epoch 60/60\n",
      "19/19 [==============================] - 1s 28ms/step - loss: 0.0136 - accuracy: 0.9934 - val_loss: 2.3231 - val_accuracy: 0.5888\n",
      "CPU times: user 5 µs, sys: 1e+03 ns, total: 6 µs\n",
      "Wall time: 13.6 µs\n"
     ]
    }
   ],
   "source": [
    "num_epochs = 60\n",
    "\n",
    "# Train the model\n",
    "history = model.fit(X_train_padded, y_train, epochs=num_epochs, validation_data=(X_test_padded, y_test))\n",
    "%time"
   ]
  },
  {
   "cell_type": "markdown",
   "metadata": {},
   "source": [
    "#### Evaluation"
   ]
  },
  {
   "cell_type": "code",
   "execution_count": 50,
   "metadata": {},
   "outputs": [
    {
     "data": {
      "image/png": "[encoded data removed]",
      "text/plain": [
       "<Figure size 432x288 with 1 Axes>"
      ]
     },
     "metadata": {
      "needs_background": "light"
     },
     "output_type": "display_data"
    },
    {
     "data": {
      "image/png": "[encoded data removed]",
      "text/plain": [
       "<Figure size 432x288 with 1 Axes>"
      ]
     },
     "metadata": {
      "needs_background": "light"
     },
     "output_type": "display_data"
    }
   ],
   "source": [
    "import matplotlib.pyplot as plt\n",
    "\n",
    "# Plot utility\n",
    "def plot_graphs(history, string):\n",
    "  plt.plot(history.history[string])\n",
    "  plt.plot(history.history['val_'+string])\n",
    "  plt.xlabel(\"Epochs\")\n",
    "  plt.ylabel(string)\n",
    "  plt.legend([string, 'val_'+string])\n",
    "  plt.show()\n",
    "  \n",
    "# Plot the accuracy and loss\n",
    "plot_graphs(history, \"accuracy\")\n",
    "plot_graphs(history, \"loss\")"
   ]
  },
  {
   "cell_type": "code",
   "execution_count": 51,
   "metadata": {},
   "outputs": [
    {
     "name": "stdout",
     "output_type": "stream",
     "text": [
      "4/4 [==============================] - 1s 11ms/step\n",
      "                      precision    recall  f1-score   support\n",
      "\n",
      "      VLE and Module       0.62      0.56      0.59        27\n",
      "   Hardware and Room       0.52      0.57      0.54        23\n",
      "                Mail       1.00      0.17      0.29         6\n",
      " Software and Access       0.67      0.69      0.68        45\n",
      "Account and Password       0.27      0.50      0.35         6\n",
      "\n",
      "            accuracy                           0.59       107\n",
      "           macro avg       0.62      0.50      0.49       107\n",
      "        weighted avg       0.62      0.59      0.59       107\n",
      "\n"
     ]
    }
   ],
   "source": [
    "y_pred = model.predict(X_test_padded)\n",
    "y_pred = np.argmax(y_pred,axis=1)\n",
    "print(classification_report(y_test, y_pred, target_names= label))"
   ]
  },
  {
   "cell_type": "markdown",
   "metadata": {},
   "source": [
    "### Embeding -> Stacked Bidirectional"
   ]
  },
  {
   "cell_type": "code",
   "execution_count": 52,
   "metadata": {},
   "outputs": [
    {
     "name": "stdout",
     "output_type": "stream",
     "text": [
      "Model: \"sequential_8\"\n",
      "_________________________________________________________________\n",
      " Layer (type)                Output Shape              Param #   \n",
      "=================================================================\n",
      " embedding_8 (Embedding)     (None, 150, 32)           148704    \n",
      "                                                                 \n",
      " bidirectional_2 (Bidirectio  (None, 150, 128)         49664     \n",
      " nal)                                                            \n",
      "                                                                 \n",
      " bidirectional_3 (Bidirectio  (None, 128)              98816     \n",
      " nal)                                                            \n",
      "                                                                 \n",
      " dense_16 (Dense)            (None, 64)                8256      \n",
      "                                                                 \n",
      " dense_17 (Dense)            (None, 5)                 325       \n",
      "                                                                 \n",
      "=================================================================\n",
      "Total params: 305,765\n",
      "Trainable params: 305,765\n",
      "Non-trainable params: 0\n",
      "_________________________________________________________________\n"
     ]
    }
   ],
   "source": [
    "embedding_dim = 32\n",
    "# Build the model\n",
    "model = tf.keras.Sequential([\n",
    "    tf.keras.layers.Embedding(num_words, embedding_dim, input_length = max_length),\n",
    "    tf.keras.layers.Bidirectional(tf.keras.layers.LSTM(64, return_sequences = True)),\n",
    "    tf.keras.layers.Bidirectional(tf.keras.layers.LSTM(64)),\n",
    "    tf.keras.layers.Dense(64, activation='relu'),\n",
    "    tf.keras.layers.Dense(5, activation='softmax')\n",
    "])\n",
    "\n",
    "# Print the model summary\n",
    "model.summary()"
   ]
  },
  {
   "cell_type": "code",
   "execution_count": 53,
   "metadata": {},
   "outputs": [],
   "source": [
    "# Compile the modeld\n",
    "model.compile(loss='sparse_categorical_crossentropy',optimizer='adam',metrics=['accuracy'])"
   ]
  },
  {
   "cell_type": "code",
   "execution_count": 54,
   "metadata": {},
   "outputs": [
    {
     "name": "stdout",
     "output_type": "stream",
     "text": [
      "Epoch 1/60\n",
      "19/19 [==============================] - 12s 170ms/step - loss: 1.5259 - accuracy: 0.3267 - val_loss: 1.4079 - val_accuracy: 0.2617\n",
      "Epoch 2/60\n",
      "19/19 [==============================] - 1s 50ms/step - loss: 1.4000 - accuracy: 0.3897 - val_loss: 1.3359 - val_accuracy: 0.4206\n",
      "Epoch 3/60\n",
      "19/19 [==============================] - 1s 53ms/step - loss: 1.2576 - accuracy: 0.4345 - val_loss: 1.0355 - val_accuracy: 0.5327\n",
      "Epoch 4/60\n",
      "19/19 [==============================] - 1s 51ms/step - loss: 0.8984 - accuracy: 0.6683 - val_loss: 1.0060 - val_accuracy: 0.6262\n",
      "Epoch 5/60\n",
      "19/19 [==============================] - 1s 52ms/step - loss: 0.7215 - accuracy: 0.7512 - val_loss: 1.0946 - val_accuracy: 0.5140\n",
      "Epoch 6/60\n",
      "19/19 [==============================] - 1s 51ms/step - loss: 0.5111 - accuracy: 0.8176 - val_loss: 1.0407 - val_accuracy: 0.5888\n",
      "Epoch 7/60\n",
      "19/19 [==============================] - 1s 52ms/step - loss: 0.3447 - accuracy: 0.8673 - val_loss: 1.3316 - val_accuracy: 0.6075\n",
      "Epoch 8/60\n",
      "19/19 [==============================] - 1s 52ms/step - loss: 0.2951 - accuracy: 0.8972 - val_loss: 1.3323 - val_accuracy: 0.5981\n",
      "Epoch 9/60\n",
      "19/19 [==============================] - 1s 53ms/step - loss: 0.2513 - accuracy: 0.9071 - val_loss: 1.5167 - val_accuracy: 0.5234\n",
      "Epoch 10/60\n",
      "19/19 [==============================] - 1s 52ms/step - loss: 0.2249 - accuracy: 0.9337 - val_loss: 1.7489 - val_accuracy: 0.5607\n",
      "Epoch 11/60\n",
      "19/19 [==============================] - 1s 51ms/step - loss: 0.2046 - accuracy: 0.9337 - val_loss: 1.6554 - val_accuracy: 0.6075\n",
      "Epoch 12/60\n",
      "19/19 [==============================] - 1s 51ms/step - loss: 0.1403 - accuracy: 0.9602 - val_loss: 1.9830 - val_accuracy: 0.5047\n",
      "Epoch 13/60\n",
      "19/19 [==============================] - 1s 51ms/step - loss: 0.1052 - accuracy: 0.9718 - val_loss: 1.8026 - val_accuracy: 0.5981\n",
      "Epoch 14/60\n",
      "19/19 [==============================] - 1s 51ms/step - loss: 0.0704 - accuracy: 0.9751 - val_loss: 2.1273 - val_accuracy: 0.5421\n",
      "Epoch 15/60\n",
      "19/19 [==============================] - 1s 51ms/step - loss: 0.0517 - accuracy: 0.9867 - val_loss: 2.0656 - val_accuracy: 0.5981\n",
      "Epoch 16/60\n",
      "19/19 [==============================] - 1s 53ms/step - loss: 0.0400 - accuracy: 0.9867 - val_loss: 2.1547 - val_accuracy: 0.5607\n",
      "Epoch 17/60\n",
      "19/19 [==============================] - 1s 51ms/step - loss: 0.0422 - accuracy: 0.9851 - val_loss: 2.5304 - val_accuracy: 0.5421\n",
      "Epoch 18/60\n",
      "19/19 [==============================] - 1s 50ms/step - loss: 0.0733 - accuracy: 0.9751 - val_loss: 2.4962 - val_accuracy: 0.4766\n",
      "Epoch 19/60\n",
      "19/19 [==============================] - 1s 51ms/step - loss: 0.0555 - accuracy: 0.9834 - val_loss: 2.3372 - val_accuracy: 0.4860\n",
      "Epoch 20/60\n",
      "19/19 [==============================] - 1s 50ms/step - loss: 0.0531 - accuracy: 0.9834 - val_loss: 1.9597 - val_accuracy: 0.5794\n",
      "Epoch 21/60\n",
      "19/19 [==============================] - 1s 50ms/step - loss: 0.0353 - accuracy: 0.9851 - val_loss: 2.2417 - val_accuracy: 0.5327\n",
      "Epoch 22/60\n",
      "19/19 [==============================] - 1s 51ms/step - loss: 0.0641 - accuracy: 0.9801 - val_loss: 2.1458 - val_accuracy: 0.5514\n",
      "Epoch 23/60\n",
      "19/19 [==============================] - 1s 51ms/step - loss: 0.0356 - accuracy: 0.9884 - val_loss: 2.2539 - val_accuracy: 0.5514\n",
      "Epoch 24/60\n",
      "19/19 [==============================] - 1s 52ms/step - loss: 0.0399 - accuracy: 0.9884 - val_loss: 2.2054 - val_accuracy: 0.4860\n",
      "Epoch 25/60\n",
      "19/19 [==============================] - 1s 51ms/step - loss: 0.0546 - accuracy: 0.9834 - val_loss: 2.5646 - val_accuracy: 0.5140\n",
      "Epoch 26/60\n",
      "19/19 [==============================] - 1s 50ms/step - loss: 0.0529 - accuracy: 0.9784 - val_loss: 2.1762 - val_accuracy: 0.5981\n",
      "Epoch 27/60\n",
      "19/19 [==============================] - 1s 50ms/step - loss: 0.0289 - accuracy: 0.9851 - val_loss: 2.2589 - val_accuracy: 0.5514\n",
      "Epoch 28/60\n",
      "19/19 [==============================] - 1s 50ms/step - loss: 0.0205 - accuracy: 0.9884 - val_loss: 2.3242 - val_accuracy: 0.5607\n",
      "Epoch 29/60\n",
      "19/19 [==============================] - 1s 51ms/step - loss: 0.0229 - accuracy: 0.9917 - val_loss: 2.5024 - val_accuracy: 0.5701\n",
      "Epoch 30/60\n",
      "19/19 [==============================] - 1s 51ms/step - loss: 0.0252 - accuracy: 0.9917 - val_loss: 2.3881 - val_accuracy: 0.5421\n",
      "Epoch 31/60\n",
      "19/19 [==============================] - 1s 50ms/step - loss: 0.0242 - accuracy: 0.9950 - val_loss: 2.4043 - val_accuracy: 0.5327\n",
      "Epoch 32/60\n",
      "19/19 [==============================] - 1s 51ms/step - loss: 0.0114 - accuracy: 0.9967 - val_loss: 2.3474 - val_accuracy: 0.5607\n",
      "Epoch 33/60\n",
      "19/19 [==============================] - 1s 51ms/step - loss: 0.0106 - accuracy: 0.9950 - val_loss: 2.4483 - val_accuracy: 0.5514\n",
      "Epoch 34/60\n",
      "19/19 [==============================] - 1s 54ms/step - loss: 0.0112 - accuracy: 0.9934 - val_loss: 2.6138 - val_accuracy: 0.5514\n",
      "Epoch 35/60\n",
      "19/19 [==============================] - 1s 50ms/step - loss: 0.0177 - accuracy: 0.9950 - val_loss: 2.5304 - val_accuracy: 0.5421\n",
      "Epoch 36/60\n",
      "19/19 [==============================] - 1s 50ms/step - loss: 0.0130 - accuracy: 0.9950 - val_loss: 2.5654 - val_accuracy: 0.5421\n",
      "Epoch 37/60\n",
      "19/19 [==============================] - 1s 50ms/step - loss: 0.0096 - accuracy: 0.9967 - val_loss: 2.6690 - val_accuracy: 0.5421\n",
      "Epoch 38/60\n",
      "19/19 [==============================] - 1s 51ms/step - loss: 0.0095 - accuracy: 0.9917 - val_loss: 2.7356 - val_accuracy: 0.5421\n",
      "Epoch 39/60\n",
      "19/19 [==============================] - 1s 52ms/step - loss: 0.0078 - accuracy: 0.9934 - val_loss: 2.7373 - val_accuracy: 0.5421\n",
      "Epoch 40/60\n",
      "19/19 [==============================] - 1s 56ms/step - loss: 0.0139 - accuracy: 0.9934 - val_loss: 2.8089 - val_accuracy: 0.5421\n",
      "Epoch 41/60\n",
      "19/19 [==============================] - 1s 51ms/step - loss: 0.0095 - accuracy: 0.9934 - val_loss: 2.8142 - val_accuracy: 0.5514\n",
      "Epoch 42/60\n",
      "19/19 [==============================] - 1s 52ms/step - loss: 0.0076 - accuracy: 0.9934 - val_loss: 2.8774 - val_accuracy: 0.5514\n",
      "Epoch 43/60\n",
      "19/19 [==============================] - 1s 52ms/step - loss: 0.0073 - accuracy: 0.9950 - val_loss: 2.9536 - val_accuracy: 0.5514\n",
      "Epoch 44/60\n",
      "19/19 [==============================] - 1s 52ms/step - loss: 0.0075 - accuracy: 0.9950 - val_loss: 2.9784 - val_accuracy: 0.5514\n",
      "Epoch 45/60\n",
      "19/19 [==============================] - 1s 51ms/step - loss: 0.0079 - accuracy: 0.9950 - val_loss: 3.0370 - val_accuracy: 0.5514\n",
      "Epoch 46/60\n",
      "19/19 [==============================] - 1s 51ms/step - loss: 0.0066 - accuracy: 0.9967 - val_loss: 3.0642 - val_accuracy: 0.5514\n",
      "Epoch 47/60\n",
      "19/19 [==============================] - 1s 54ms/step - loss: 0.0068 - accuracy: 0.9967 - val_loss: 3.0880 - val_accuracy: 0.5514\n",
      "Epoch 48/60\n",
      "19/19 [==============================] - 1s 52ms/step - loss: 0.0067 - accuracy: 0.9950 - val_loss: 3.1009 - val_accuracy: 0.5514\n",
      "Epoch 49/60\n",
      "19/19 [==============================] - 1s 50ms/step - loss: 0.0074 - accuracy: 0.9950 - val_loss: 3.1413 - val_accuracy: 0.5514\n",
      "Epoch 50/60\n",
      "19/19 [==============================] - 1s 50ms/step - loss: 0.0070 - accuracy: 0.9967 - val_loss: 3.1525 - val_accuracy: 0.5514\n",
      "Epoch 51/60\n",
      "19/19 [==============================] - 1s 50ms/step - loss: 0.0071 - accuracy: 0.9967 - val_loss: 3.1627 - val_accuracy: 0.5514\n",
      "Epoch 52/60\n",
      "19/19 [==============================] - 1s 50ms/step - loss: 0.0061 - accuracy: 0.9967 - val_loss: 3.1757 - val_accuracy: 0.5514\n",
      "Epoch 53/60\n",
      "19/19 [==============================] - 1s 50ms/step - loss: 0.0062 - accuracy: 0.9950 - val_loss: 3.2009 - val_accuracy: 0.5421\n",
      "Epoch 54/60\n",
      "19/19 [==============================] - 1s 50ms/step - loss: 0.0064 - accuracy: 0.9934 - val_loss: 3.2242 - val_accuracy: 0.5421\n",
      "Epoch 55/60\n",
      "19/19 [==============================] - 1s 51ms/step - loss: 0.0066 - accuracy: 0.9950 - val_loss: 3.2353 - val_accuracy: 0.5514\n",
      "Epoch 56/60\n",
      "19/19 [==============================] - 1s 51ms/step - loss: 0.0061 - accuracy: 0.9967 - val_loss: 3.2628 - val_accuracy: 0.5514\n",
      "Epoch 57/60\n",
      "19/19 [==============================] - 1s 51ms/step - loss: 0.0054 - accuracy: 0.9950 - val_loss: 3.2793 - val_accuracy: 0.5514\n",
      "Epoch 58/60\n",
      "19/19 [==============================] - 1s 51ms/step - loss: 0.0053 - accuracy: 0.9983 - val_loss: 3.3230 - val_accuracy: 0.5421\n",
      "Epoch 59/60\n",
      "19/19 [==============================] - 1s 50ms/step - loss: 0.0075 - accuracy: 0.9950 - val_loss: 3.3649 - val_accuracy: 0.5514\n",
      "Epoch 60/60\n",
      "19/19 [==============================] - 1s 52ms/step - loss: 0.0078 - accuracy: 0.9967 - val_loss: 3.3976 - val_accuracy: 0.5421\n",
      "CPU times: user 6 µs, sys: 1e+03 ns, total: 7 µs\n",
      "Wall time: 12.9 µs\n"
     ]
    }
   ],
   "source": [
    "num_epochs = 60\n",
    "\n",
    "# Train the model\n",
    "history = model.fit(X_train_padded, y_train, epochs=num_epochs, validation_data=(X_test_padded, y_test))\n",
    "%time"
   ]
  },
  {
   "cell_type": "markdown",
   "metadata": {},
   "source": [
    "#### Evaluation"
   ]
  },
  {
   "cell_type": "code",
   "execution_count": 55,
   "metadata": {},
   "outputs": [
    {
     "data": {
      "image/png": "[encoded data removed]",
      "text/plain": [
       "<Figure size 432x288 with 1 Axes>"
      ]
     },
     "metadata": {
      "needs_background": "light"
     },
     "output_type": "display_data"
    },
    {
     "data": {
      "image/png": "[encoded data removed]",
      "text/plain": [
       "<Figure size 432x288 with 1 Axes>"
      ]
     },
     "metadata": {
      "needs_background": "light"
     },
     "output_type": "display_data"
    }
   ],
   "source": [
    "import matplotlib.pyplot as plt\n",
    "\n",
    "# Plot utility\n",
    "def plot_graphs(history, string):\n",
    "  plt.plot(history.history[string])\n",
    "  plt.plot(history.history['val_'+string])\n",
    "  plt.xlabel(\"Epochs\")\n",
    "  plt.ylabel(string)\n",
    "  plt.legend([string, 'val_'+string])\n",
    "  plt.show()\n",
    "  \n",
    "# Plot the accuracy and loss\n",
    "plot_graphs(history, \"accuracy\")\n",
    "plot_graphs(history, \"loss\")"
   ]
  },
  {
   "cell_type": "code",
   "execution_count": 56,
   "metadata": {},
   "outputs": [
    {
     "name": "stdout",
     "output_type": "stream",
     "text": [
      "4/4 [==============================] - 2s 18ms/step\n",
      "                      precision    recall  f1-score   support\n",
      "\n",
      "      VLE and Module       0.44      0.52      0.47        27\n",
      "   Hardware and Room       0.56      0.61      0.58        23\n",
      "                Mail       0.50      0.17      0.25         6\n",
      " Software and Access       0.63      0.58      0.60        45\n",
      "Account and Password       0.43      0.50      0.46         6\n",
      "\n",
      "            accuracy                           0.54       107\n",
      "           macro avg       0.51      0.47      0.47       107\n",
      "        weighted avg       0.55      0.54      0.54       107\n",
      "\n"
     ]
    }
   ],
   "source": [
    "y_pred = model.predict(X_test_padded)\n",
    "y_pred = np.argmax(y_pred,axis=1)\n",
    "print(classification_report(y_test, y_pred, target_names= label))"
   ]
  },
  {
   "cell_type": "markdown",
   "metadata": {},
   "source": [
    "### Embedding -> Conv1d -> stacked Bidirectional LSTM "
   ]
  },
  {
   "cell_type": "code",
   "execution_count": 58,
   "metadata": {},
   "outputs": [
    {
     "name": "stdout",
     "output_type": "stream",
     "text": [
      "Model: \"sequential_9\"\n",
      "_________________________________________________________________\n",
      " Layer (type)                Output Shape              Param #   \n",
      "=================================================================\n",
      " embedding_9 (Embedding)     (None, 150, 32)           148704    \n",
      "                                                                 \n",
      " conv1d_2 (Conv1D)           (None, 146, 128)          20608     \n",
      "                                                                 \n",
      " bidirectional_4 (Bidirectio  (None, 146, 128)         98816     \n",
      " nal)                                                            \n",
      "                                                                 \n",
      " bidirectional_5 (Bidirectio  (None, 128)              98816     \n",
      " nal)                                                            \n",
      "                                                                 \n",
      " dense_18 (Dense)            (None, 64)                8256      \n",
      "                                                                 \n",
      " dense_19 (Dense)            (None, 5)                 325       \n",
      "                                                                 \n",
      "=================================================================\n",
      "Total params: 375,525\n",
      "Trainable params: 375,525\n",
      "Non-trainable params: 0\n",
      "_________________________________________________________________\n"
     ]
    }
   ],
   "source": [
    "embedding_dim = 32\n",
    "num_of_filters = 128\n",
    "kernel_size = 5\n",
    "# Build the model\n",
    "model = tf.keras.Sequential([\n",
    "    tf.keras.layers.Embedding(num_words, embedding_dim, input_length = max_length),\n",
    "    tf.keras.layers.Conv1D(num_of_filters, kernel_size),\n",
    "    tf.keras.layers.Bidirectional(tf.keras.layers.LSTM(64, return_sequences = True)),\n",
    "    tf.keras.layers.Bidirectional(tf.keras.layers.LSTM(64)),\n",
    "    tf.keras.layers.Dense(64, activation='relu'),\n",
    "    tf.keras.layers.Dense(5, activation='softmax')\n",
    "])\n",
    "\n",
    "# Print the model summary\n",
    "model.summary()"
   ]
  },
  {
   "cell_type": "code",
   "execution_count": 60,
   "metadata": {},
   "outputs": [],
   "source": [
    "# Compile the modeld\n",
    "model.compile(loss='sparse_categorical_crossentropy',optimizer='adam',metrics=['accuracy'])"
   ]
  },
  {
   "cell_type": "code",
   "execution_count": 61,
   "metadata": {},
   "outputs": [
    {
     "name": "stdout",
     "output_type": "stream",
     "text": [
      "Epoch 1/60\n",
      "19/19 [==============================] - 13s 214ms/step - loss: 1.5105 - accuracy: 0.2952 - val_loss: 1.3631 - val_accuracy: 0.4206\n",
      "Epoch 2/60\n",
      "19/19 [==============================] - 1s 52ms/step - loss: 1.3534 - accuracy: 0.3947 - val_loss: 1.2570 - val_accuracy: 0.2897\n",
      "Epoch 3/60\n",
      "19/19 [==============================] - 1s 53ms/step - loss: 1.0855 - accuracy: 0.5572 - val_loss: 0.9444 - val_accuracy: 0.6355\n",
      "Epoch 4/60\n",
      "19/19 [==============================] - 1s 52ms/step - loss: 0.8606 - accuracy: 0.6915 - val_loss: 0.9867 - val_accuracy: 0.6075\n",
      "Epoch 5/60\n",
      "19/19 [==============================] - 1s 54ms/step - loss: 0.6553 - accuracy: 0.7828 - val_loss: 1.1143 - val_accuracy: 0.5607\n",
      "Epoch 6/60\n",
      "19/19 [==============================] - 1s 52ms/step - loss: 0.4798 - accuracy: 0.8458 - val_loss: 1.2411 - val_accuracy: 0.5701\n",
      "Epoch 7/60\n",
      "19/19 [==============================] - 1s 53ms/step - loss: 0.3198 - accuracy: 0.8905 - val_loss: 1.2839 - val_accuracy: 0.5888\n",
      "Epoch 8/60\n",
      "19/19 [==============================] - 1s 52ms/step - loss: 0.2593 - accuracy: 0.9154 - val_loss: 1.5715 - val_accuracy: 0.5421\n",
      "Epoch 9/60\n",
      "19/19 [==============================] - 1s 53ms/step - loss: 0.1769 - accuracy: 0.9436 - val_loss: 1.7219 - val_accuracy: 0.5421\n",
      "Epoch 10/60\n",
      "19/19 [==============================] - 1s 53ms/step - loss: 0.1304 - accuracy: 0.9552 - val_loss: 1.7744 - val_accuracy: 0.5981\n",
      "Epoch 11/60\n",
      "19/19 [==============================] - 1s 52ms/step - loss: 0.1203 - accuracy: 0.9585 - val_loss: 2.0436 - val_accuracy: 0.5327\n",
      "Epoch 12/60\n",
      "19/19 [==============================] - 1s 52ms/step - loss: 0.1044 - accuracy: 0.9652 - val_loss: 2.1965 - val_accuracy: 0.5140\n",
      "Epoch 13/60\n",
      "19/19 [==============================] - 1s 53ms/step - loss: 0.0943 - accuracy: 0.9685 - val_loss: 1.9811 - val_accuracy: 0.4860\n",
      "Epoch 14/60\n",
      "19/19 [==============================] - 1s 52ms/step - loss: 0.0791 - accuracy: 0.9751 - val_loss: 2.7103 - val_accuracy: 0.4860\n",
      "Epoch 15/60\n",
      "19/19 [==============================] - 1s 54ms/step - loss: 0.1151 - accuracy: 0.9652 - val_loss: 1.9272 - val_accuracy: 0.5327\n",
      "Epoch 16/60\n",
      "19/19 [==============================] - 1s 52ms/step - loss: 0.0970 - accuracy: 0.9602 - val_loss: 2.0871 - val_accuracy: 0.5234\n",
      "Epoch 17/60\n",
      "19/19 [==============================] - 1s 52ms/step - loss: 0.0735 - accuracy: 0.9784 - val_loss: 2.5446 - val_accuracy: 0.4486\n",
      "Epoch 18/60\n",
      "19/19 [==============================] - 1s 51ms/step - loss: 0.0418 - accuracy: 0.9834 - val_loss: 2.3292 - val_accuracy: 0.4766\n",
      "Epoch 19/60\n",
      "19/19 [==============================] - 1s 55ms/step - loss: 0.0366 - accuracy: 0.9867 - val_loss: 2.4754 - val_accuracy: 0.4579\n",
      "Epoch 20/60\n",
      "19/19 [==============================] - 1s 51ms/step - loss: 0.0269 - accuracy: 0.9884 - val_loss: 2.5478 - val_accuracy: 0.4673\n",
      "Epoch 21/60\n",
      "19/19 [==============================] - 1s 52ms/step - loss: 0.0219 - accuracy: 0.9934 - val_loss: 2.4986 - val_accuracy: 0.4766\n",
      "Epoch 22/60\n",
      "19/19 [==============================] - 1s 52ms/step - loss: 0.0186 - accuracy: 0.9884 - val_loss: 2.7489 - val_accuracy: 0.4673\n",
      "Epoch 23/60\n",
      "19/19 [==============================] - 1s 52ms/step - loss: 0.0382 - accuracy: 0.9818 - val_loss: 2.3608 - val_accuracy: 0.5047\n",
      "Epoch 24/60\n",
      "19/19 [==============================] - 1s 52ms/step - loss: 0.0370 - accuracy: 0.9851 - val_loss: 2.2682 - val_accuracy: 0.5234\n",
      "Epoch 25/60\n",
      "19/19 [==============================] - 1s 52ms/step - loss: 0.0349 - accuracy: 0.9900 - val_loss: 2.3442 - val_accuracy: 0.5140\n",
      "Epoch 26/60\n",
      "19/19 [==============================] - 1s 51ms/step - loss: 0.0206 - accuracy: 0.9934 - val_loss: 2.4785 - val_accuracy: 0.4953\n",
      "Epoch 27/60\n",
      "19/19 [==============================] - 1s 52ms/step - loss: 0.0159 - accuracy: 0.9934 - val_loss: 2.5137 - val_accuracy: 0.5140\n",
      "Epoch 28/60\n",
      "19/19 [==============================] - 1s 52ms/step - loss: 0.0124 - accuracy: 0.9934 - val_loss: 2.6558 - val_accuracy: 0.5047\n",
      "Epoch 29/60\n",
      "19/19 [==============================] - 1s 52ms/step - loss: 0.0122 - accuracy: 0.9950 - val_loss: 2.7167 - val_accuracy: 0.4953\n",
      "Epoch 30/60\n",
      "19/19 [==============================] - 1s 53ms/step - loss: 0.0125 - accuracy: 0.9950 - val_loss: 2.7479 - val_accuracy: 0.5047\n",
      "Epoch 31/60\n",
      "19/19 [==============================] - 1s 52ms/step - loss: 0.0102 - accuracy: 0.9950 - val_loss: 2.7846 - val_accuracy: 0.4953\n",
      "Epoch 32/60\n",
      "19/19 [==============================] - 1s 52ms/step - loss: 0.0105 - accuracy: 0.9934 - val_loss: 2.8324 - val_accuracy: 0.4953\n",
      "Epoch 33/60\n",
      "19/19 [==============================] - 1s 53ms/step - loss: 0.0106 - accuracy: 0.9950 - val_loss: 2.8620 - val_accuracy: 0.4953\n",
      "Epoch 34/60\n",
      "19/19 [==============================] - 1s 51ms/step - loss: 0.0295 - accuracy: 0.9884 - val_loss: 2.8047 - val_accuracy: 0.4953\n",
      "Epoch 35/60\n",
      "19/19 [==============================] - 1s 55ms/step - loss: 0.0216 - accuracy: 0.9950 - val_loss: 2.7980 - val_accuracy: 0.5234\n",
      "Epoch 36/60\n",
      "19/19 [==============================] - 1s 52ms/step - loss: 0.0200 - accuracy: 0.9950 - val_loss: 2.7617 - val_accuracy: 0.5140\n",
      "Epoch 37/60\n",
      "19/19 [==============================] - 1s 52ms/step - loss: 0.0173 - accuracy: 0.9934 - val_loss: 2.7895 - val_accuracy: 0.5140\n",
      "Epoch 38/60\n",
      "19/19 [==============================] - 1s 55ms/step - loss: 0.0319 - accuracy: 0.9917 - val_loss: 3.1293 - val_accuracy: 0.5140\n",
      "Epoch 39/60\n",
      "19/19 [==============================] - 1s 52ms/step - loss: 0.0329 - accuracy: 0.9900 - val_loss: 2.5431 - val_accuracy: 0.5327\n",
      "Epoch 40/60\n",
      "19/19 [==============================] - 1s 52ms/step - loss: 0.0250 - accuracy: 0.9884 - val_loss: 2.7935 - val_accuracy: 0.5234\n",
      "Epoch 41/60\n",
      "19/19 [==============================] - 1s 52ms/step - loss: 0.0523 - accuracy: 0.9851 - val_loss: 2.8353 - val_accuracy: 0.5047\n",
      "Epoch 42/60\n",
      "19/19 [==============================] - 1s 51ms/step - loss: 0.0737 - accuracy: 0.9735 - val_loss: 2.8942 - val_accuracy: 0.4953\n",
      "Epoch 43/60\n",
      "19/19 [==============================] - 1s 54ms/step - loss: 0.0315 - accuracy: 0.9884 - val_loss: 2.9382 - val_accuracy: 0.5140\n",
      "Epoch 44/60\n",
      "19/19 [==============================] - 1s 53ms/step - loss: 0.0686 - accuracy: 0.9735 - val_loss: 2.9133 - val_accuracy: 0.4766\n",
      "Epoch 45/60\n",
      "19/19 [==============================] - 1s 53ms/step - loss: 0.0529 - accuracy: 0.9834 - val_loss: 2.6593 - val_accuracy: 0.5047\n",
      "Epoch 46/60\n",
      "19/19 [==============================] - 1s 53ms/step - loss: 0.0325 - accuracy: 0.9900 - val_loss: 2.8858 - val_accuracy: 0.4953\n",
      "Epoch 47/60\n",
      "19/19 [==============================] - 1s 52ms/step - loss: 0.0275 - accuracy: 0.9900 - val_loss: 3.0885 - val_accuracy: 0.4766\n",
      "Epoch 48/60\n",
      "19/19 [==============================] - 1s 52ms/step - loss: 0.0231 - accuracy: 0.9917 - val_loss: 2.8826 - val_accuracy: 0.5140\n",
      "Epoch 49/60\n",
      "19/19 [==============================] - 1s 52ms/step - loss: 0.0209 - accuracy: 0.9917 - val_loss: 3.3405 - val_accuracy: 0.4486\n",
      "Epoch 50/60\n",
      "19/19 [==============================] - 1s 52ms/step - loss: 0.0175 - accuracy: 0.9917 - val_loss: 2.9188 - val_accuracy: 0.5047\n",
      "Epoch 51/60\n",
      "19/19 [==============================] - 1s 52ms/step - loss: 0.0123 - accuracy: 0.9950 - val_loss: 3.1848 - val_accuracy: 0.4766\n",
      "Epoch 52/60\n",
      "19/19 [==============================] - 1s 52ms/step - loss: 0.0111 - accuracy: 0.9967 - val_loss: 2.9796 - val_accuracy: 0.5047\n",
      "Epoch 53/60\n",
      "19/19 [==============================] - 1s 51ms/step - loss: 0.0132 - accuracy: 0.9950 - val_loss: 2.9734 - val_accuracy: 0.5234\n",
      "Epoch 54/60\n",
      "19/19 [==============================] - 1s 56ms/step - loss: 0.0080 - accuracy: 0.9967 - val_loss: 3.3451 - val_accuracy: 0.4673\n",
      "Epoch 55/60\n",
      "19/19 [==============================] - 1s 51ms/step - loss: 0.0163 - accuracy: 0.9950 - val_loss: 2.9671 - val_accuracy: 0.4766\n",
      "Epoch 56/60\n",
      "19/19 [==============================] - 1s 52ms/step - loss: 0.0079 - accuracy: 0.9983 - val_loss: 3.1492 - val_accuracy: 0.4579\n",
      "Epoch 57/60\n",
      "19/19 [==============================] - 1s 56ms/step - loss: 0.0063 - accuracy: 0.9967 - val_loss: 3.2400 - val_accuracy: 0.4766\n",
      "Epoch 58/60\n",
      "19/19 [==============================] - 1s 53ms/step - loss: 0.0058 - accuracy: 0.9983 - val_loss: 3.3111 - val_accuracy: 0.4673\n",
      "Epoch 59/60\n",
      "19/19 [==============================] - 1s 52ms/step - loss: 0.0053 - accuracy: 0.9967 - val_loss: 3.3413 - val_accuracy: 0.4766\n",
      "Epoch 60/60\n",
      "19/19 [==============================] - 1s 52ms/step - loss: 0.0058 - accuracy: 0.9950 - val_loss: 3.3925 - val_accuracy: 0.4766\n",
      "CPU times: user 6 µs, sys: 0 ns, total: 6 µs\n",
      "Wall time: 13.1 µs\n"
     ]
    }
   ],
   "source": [
    "num_epochs = 60\n",
    "\n",
    "# Train the model\n",
    "history = model.fit(X_train_padded, y_train, epochs=num_epochs, validation_data=(X_test_padded, y_test))\n",
    "%time"
   ]
  },
  {
   "cell_type": "markdown",
   "metadata": {},
   "source": [
    "#### Evaluation"
   ]
  },
  {
   "cell_type": "code",
   "execution_count": 59,
   "metadata": {},
   "outputs": [
    {
     "data": {
      "image/png": "[encoded data removed]",
      "text/plain": [
       "<Figure size 432x288 with 1 Axes>"
      ]
     },
     "metadata": {
      "needs_background": "light"
     },
     "output_type": "display_data"
    },
    {
     "data": {
      "image/png": "[encoded data removed]",
      "text/plain": [
       "<Figure size 432x288 with 1 Axes>"
      ]
     },
     "metadata": {
      "needs_background": "light"
     },
     "output_type": "display_data"
    }
   ],
   "source": [
    "import matplotlib.pyplot as plt\n",
    "\n",
    "# Plot utility\n",
    "def plot_graphs(history, string):\n",
    "  plt.plot(history.history[string])\n",
    "  plt.plot(history.history['val_'+string])\n",
    "  plt.xlabel(\"Epochs\")\n",
    "  plt.ylabel(string)\n",
    "  plt.legend([string, 'val_'+string])\n",
    "  plt.show()\n",
    "  \n",
    "# Plot the accuracy and loss\n",
    "plot_graphs(history, \"accuracy\")\n",
    "plot_graphs(history, \"loss\")"
   ]
  }
 ],
 "metadata": {
  "colab": {
   "collapsed_sections": [],
   "provenance": []
  },
  "kernelspec": {
   "display_name": "Python 3 (ipykernel)",
   "language": "python",
   "name": "python3"
  },
  "language_info": {
   "codemirror_mode": {
    "name": "ipython",
    "version": 3
   },
   "file_extension": ".py",
   "mimetype": "text/x-python",
   "name": "python",
   "nbconvert_exporter": "python",
   "pygments_lexer": "ipython3",
   "version": "3.9.13"
  }
 },
 "nbformat": 4,
 "nbformat_minor": 4
}

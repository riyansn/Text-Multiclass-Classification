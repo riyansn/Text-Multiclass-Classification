{
 "cells": [
  {
   "cell_type": "code",
   "execution_count": 749,
   "metadata": {
    "id": "AJwBCvdW1UrV"
   },
   "outputs": [],
   "source": [
    "import tensorflow as tf\n",
    "import pandas as pd\n",
    "import numpy as np\n",
    "\n",
    "from sklearn.model_selection import train_test_split\n",
    "from sklearn.metrics import classification_report\n",
    "\n",
    "from tensorflow.keras.preprocessing.text import Tokenizer\n",
    "from tensorflow.keras.preprocessing.sequence import pad_sequences"
   ]
  },
  {
   "cell_type": "markdown",
   "metadata": {
    "tags": []
   },
   "source": [
    "## Data Preparation"
   ]
  },
  {
   "cell_type": "code",
   "execution_count": 750,
   "metadata": {
    "tags": []
   },
   "outputs": [
    {
     "data": {
      "text/html": [
       "<div>\n",
       "<style scoped>\n",
       "    .dataframe tbody tr th:only-of-type {\n",
       "        vertical-align: middle;\n",
       "    }\n",
       "\n",
       "    .dataframe tbody tr th {\n",
       "        vertical-align: top;\n",
       "    }\n",
       "\n",
       "    .dataframe thead th {\n",
       "        text-align: right;\n",
       "    }\n",
       "</style>\n",
       "<table border=\"1\" class=\"dataframe\">\n",
       "  <thead>\n",
       "    <tr style=\"text-align: right;\">\n",
       "      <th></th>\n",
       "      <th>clean_text</th>\n",
       "      <th>Dominant Label</th>\n",
       "    </tr>\n",
       "    <tr>\n",
       "      <th>Count</th>\n",
       "      <th></th>\n",
       "      <th></th>\n",
       "    </tr>\n",
       "  </thead>\n",
       "  <tbody>\n",
       "    <tr>\n",
       "      <th>0</th>\n",
       "      <td>module transfer  module leader module  copy co...</td>\n",
       "      <td>VLE and Module</td>\n",
       "    </tr>\n",
       "    <tr>\n",
       "      <th>1</th>\n",
       "      <td>compromise manatee         might    send  add...</td>\n",
       "      <td>Unclassifiable</td>\n",
       "    </tr>\n",
       "    <tr>\n",
       "      <th>2</th>\n",
       "      <td>reassign setup rove mikes room  lib opsbusadm...</td>\n",
       "      <td>Hardware and Room</td>\n",
       "    </tr>\n",
       "    <tr>\n",
       "      <th>3</th>\n",
       "      <td>conference  facilities room next wednesday   b...</td>\n",
       "      <td>Hardware and Room</td>\n",
       "    </tr>\n",
       "    <tr>\n",
       "      <th>4</th>\n",
       "      <td>room  seem lack function mfd  room  scan usb ...</td>\n",
       "      <td>Hardware and Room</td>\n",
       "    </tr>\n",
       "  </tbody>\n",
       "</table>\n",
       "</div>"
      ],
      "text/plain": [
       "                                              clean_text     Dominant Label\n",
       "Count                                                                      \n",
       "0      module transfer  module leader module  copy co...     VLE and Module\n",
       "1       compromise manatee         might    send  add...     Unclassifiable\n",
       "2       reassign setup rove mikes room  lib opsbusadm...  Hardware and Room\n",
       "3      conference  facilities room next wednesday   b...  Hardware and Room\n",
       "4       room  seem lack function mfd  room  scan usb ...  Hardware and Room"
      ]
     },
     "execution_count": 750,
     "metadata": {},
     "output_type": "execute_result"
    }
   ],
   "source": [
    "df = pd.read_csv(\"/notebooks/Text-Multiclass-Classification/data_input/770 Whole Thread LabelledU.csv\", index_col=0)\n",
    "df = df[['clean_text', 'Dominant Label']]\n",
    "df.head()"
   ]
  },
  {
   "cell_type": "markdown",
   "metadata": {},
   "source": [
    "### Remove row labeled : ['unclassifiable', 'None', and 'Network and database']"
   ]
  },
  {
   "cell_type": "code",
   "execution_count": 751,
   "metadata": {
    "tags": []
   },
   "outputs": [
    {
     "data": {
      "text/plain": [
       "Software and Access     271\n",
       "VLE and Module          204\n",
       "Hardware and Room       150\n",
       "Mail                     47\n",
       "Account and Password     40\n",
       "Unclassifiable           30\n",
       "Network and Database     25\n",
       "None                      2\n",
       "Name: Dominant Label, dtype: int64"
      ]
     },
     "execution_count": 751,
     "metadata": {},
     "output_type": "execute_result"
    }
   ],
   "source": [
    "df[\"Dominant Label\"].value_counts()"
   ]
  },
  {
   "cell_type": "code",
   "execution_count": 752,
   "metadata": {},
   "outputs": [],
   "source": [
    "unclassifiable_mask = (df['Dominant Label'] != 'Unclassifiable')\n",
    "none_mask = (df['Dominant Label'] != 'None')\n",
    "network_database_mask = (df['Dominant Label'] != 'Network and Database')"
   ]
  },
  {
   "cell_type": "code",
   "execution_count": 753,
   "metadata": {},
   "outputs": [
    {
     "data": {
      "text/plain": [
       "Software and Access     271\n",
       "VLE and Module          204\n",
       "Hardware and Room       150\n",
       "Mail                     47\n",
       "Account and Password     40\n",
       "Name: Dominant Label, dtype: int64"
      ]
     },
     "execution_count": 753,
     "metadata": {},
     "output_type": "execute_result"
    }
   ],
   "source": [
    "df = df[unclassifiable_mask & none_mask & network_database_mask]\n",
    "df['Dominant Label'].value_counts()"
   ]
  },
  {
   "cell_type": "code",
   "execution_count": 754,
   "metadata": {},
   "outputs": [],
   "source": [
    "label = df['Dominant Label'].unique()"
   ]
  },
  {
   "cell_type": "code",
   "execution_count": 755,
   "metadata": {},
   "outputs": [],
   "source": [
    "# Encode the Dominant Label to integer value\n",
    "\n",
    "df['Dominant Label'] = df['Dominant Label'].map({'VLE and Module' : 0,\n",
    "                                                 'Hardware and Room' : 1,\n",
    "                                                 'Mail' : 2,\n",
    "                                                 'Software and Access' : 3,\n",
    "                                                 'Account and Password' : 4 })                                         \n",
    "\n",
    "# it's oke if we got Warning after running this code"
   ]
  },
  {
   "cell_type": "markdown",
   "metadata": {},
   "source": [
    "### Handle Missing and Duplicate data"
   ]
  },
  {
   "cell_type": "code",
   "execution_count": 756,
   "metadata": {},
   "outputs": [
    {
     "data": {
      "text/plain": [
       "clean_text        0\n",
       "Dominant Label    0\n",
       "dtype: int64"
      ]
     },
     "execution_count": 756,
     "metadata": {},
     "output_type": "execute_result"
    }
   ],
   "source": [
    "# Detect missing values\n",
    "# isna() will check column if there is Nan, null, or na data it will return True  if not then False\n",
    "# Since True = 1 and False = 0. when we sum together each True and False then we will know how many missing values is\n",
    "df.isna().sum()"
   ]
  },
  {
   "cell_type": "code",
   "execution_count": 757,
   "metadata": {},
   "outputs": [
    {
     "data": {
      "text/plain": [
       "3"
      ]
     },
     "execution_count": 757,
     "metadata": {},
     "output_type": "execute_result"
    }
   ],
   "source": [
    "True + True + True"
   ]
  },
  {
   "cell_type": "code",
   "execution_count": 758,
   "metadata": {},
   "outputs": [
    {
     "data": {
      "text/html": [
       "<div>\n",
       "<style scoped>\n",
       "    .dataframe tbody tr th:only-of-type {\n",
       "        vertical-align: middle;\n",
       "    }\n",
       "\n",
       "    .dataframe tbody tr th {\n",
       "        vertical-align: top;\n",
       "    }\n",
       "\n",
       "    .dataframe thead th {\n",
       "        text-align: right;\n",
       "    }\n",
       "</style>\n",
       "<table border=\"1\" class=\"dataframe\">\n",
       "  <thead>\n",
       "    <tr style=\"text-align: right;\">\n",
       "      <th></th>\n",
       "      <th>clean_text</th>\n",
       "      <th>Dominant Label</th>\n",
       "    </tr>\n",
       "    <tr>\n",
       "      <th>Count</th>\n",
       "      <th></th>\n",
       "      <th></th>\n",
       "    </tr>\n",
       "  </thead>\n",
       "  <tbody>\n",
       "    <tr>\n",
       "      <th>91</th>\n",
       "      <td>add mail address brl mail list  colleague  add...</td>\n",
       "      <td>2</td>\n",
       "    </tr>\n",
       "    <tr>\n",
       "      <th>95</th>\n",
       "      <td>add mail address brl mail list  colleague  add...</td>\n",
       "      <td>2</td>\n",
       "    </tr>\n",
       "    <tr>\n",
       "      <th>102</th>\n",
       "      <td>add mail address brl mail list  colleague  add...</td>\n",
       "      <td>2</td>\n",
       "    </tr>\n",
       "  </tbody>\n",
       "</table>\n",
       "</div>"
      ],
      "text/plain": [
       "                                              clean_text  Dominant Label\n",
       "Count                                                                   \n",
       "91     add mail address brl mail list  colleague  add...               2\n",
       "95     add mail address brl mail list  colleague  add...               2\n",
       "102    add mail address brl mail list  colleague  add...               2"
      ]
     },
     "execution_count": 758,
     "metadata": {},
     "output_type": "execute_result"
    }
   ],
   "source": [
    "# Detect Duplicate data\n",
    "\n",
    "df[df.duplicated(keep = False)]\n",
    "\n",
    "# df.duplicated when we set keep = False : Mark all duplicates as True."
   ]
  },
  {
   "cell_type": "code",
   "execution_count": 759,
   "metadata": {},
   "outputs": [],
   "source": [
    "# Remove the duplicates data\n",
    "df = df.drop_duplicates()"
   ]
  },
  {
   "cell_type": "code",
   "execution_count": 760,
   "metadata": {},
   "outputs": [
    {
     "data": {
      "text/html": [
       "<div>\n",
       "<style scoped>\n",
       "    .dataframe tbody tr th:only-of-type {\n",
       "        vertical-align: middle;\n",
       "    }\n",
       "\n",
       "    .dataframe tbody tr th {\n",
       "        vertical-align: top;\n",
       "    }\n",
       "\n",
       "    .dataframe thead th {\n",
       "        text-align: right;\n",
       "    }\n",
       "</style>\n",
       "<table border=\"1\" class=\"dataframe\">\n",
       "  <thead>\n",
       "    <tr style=\"text-align: right;\">\n",
       "      <th></th>\n",
       "      <th>clean_text</th>\n",
       "      <th>Dominant Label</th>\n",
       "    </tr>\n",
       "    <tr>\n",
       "      <th>Count</th>\n",
       "      <th></th>\n",
       "      <th></th>\n",
       "    </tr>\n",
       "  </thead>\n",
       "  <tbody>\n",
       "    <tr>\n",
       "      <th>0</th>\n",
       "      <td>module transfer  module leader module  copy co...</td>\n",
       "      <td>0</td>\n",
       "    </tr>\n",
       "    <tr>\n",
       "      <th>2</th>\n",
       "      <td>reassign setup rove mikes room  lib opsbusadm...</td>\n",
       "      <td>1</td>\n",
       "    </tr>\n",
       "    <tr>\n",
       "      <th>3</th>\n",
       "      <td>conference  facilities room next wednesday   b...</td>\n",
       "      <td>1</td>\n",
       "    </tr>\n",
       "    <tr>\n",
       "      <th>4</th>\n",
       "      <td>room  seem lack function mfd  room  scan usb ...</td>\n",
       "      <td>1</td>\n",
       "    </tr>\n",
       "    <tr>\n",
       "      <th>5</th>\n",
       "      <td>phone  frustrate polycom phone sign skype wont...</td>\n",
       "      <td>1</td>\n",
       "    </tr>\n",
       "    <tr>\n",
       "      <th>...</th>\n",
       "      <td>...</td>\n",
       "      <td>...</td>\n",
       "    </tr>\n",
       "    <tr>\n",
       "      <th>764</th>\n",
       "      <td>authenticator  failure  sign anything  microso...</td>\n",
       "      <td>2</td>\n",
       "    </tr>\n",
       "    <tr>\n",
       "      <th>765</th>\n",
       "      <td>password    password way reset apparently reg...</td>\n",
       "      <td>1</td>\n",
       "    </tr>\n",
       "    <tr>\n",
       "      <th>766</th>\n",
       "      <td>phone line  student support line  support phon...</td>\n",
       "      <td>3</td>\n",
       "    </tr>\n",
       "    <tr>\n",
       "      <th>767</th>\n",
       "      <td>cannot  chrome cannot  google chrome laptop  t...</td>\n",
       "      <td>0</td>\n",
       "    </tr>\n",
       "    <tr>\n",
       "      <th>768</th>\n",
       "      <td>attach timetable programme activities include...</td>\n",
       "      <td>0</td>\n",
       "    </tr>\n",
       "  </tbody>\n",
       "</table>\n",
       "<p>710 rows × 2 columns</p>\n",
       "</div>"
      ],
      "text/plain": [
       "                                              clean_text  Dominant Label\n",
       "Count                                                                   \n",
       "0      module transfer  module leader module  copy co...               0\n",
       "2       reassign setup rove mikes room  lib opsbusadm...               1\n",
       "3      conference  facilities room next wednesday   b...               1\n",
       "4       room  seem lack function mfd  room  scan usb ...               1\n",
       "5      phone  frustrate polycom phone sign skype wont...               1\n",
       "...                                                  ...             ...\n",
       "764    authenticator  failure  sign anything  microso...               2\n",
       "765     password    password way reset apparently reg...               1\n",
       "766    phone line  student support line  support phon...               3\n",
       "767    cannot  chrome cannot  google chrome laptop  t...               0\n",
       "768     attach timetable programme activities include...               0\n",
       "\n",
       "[710 rows x 2 columns]"
      ]
     },
     "execution_count": 760,
     "metadata": {},
     "output_type": "execute_result"
    }
   ],
   "source": [
    "df"
   ]
  },
  {
   "cell_type": "code",
   "execution_count": 761,
   "metadata": {},
   "outputs": [],
   "source": [
    "X, y = df['clean_text'], df['Dominant Label']"
   ]
  },
  {
   "cell_type": "markdown",
   "metadata": {},
   "source": [
    "### Train Test Split\n",
    "\n"
   ]
  },
  {
   "cell_type": "code",
   "execution_count": 762,
   "metadata": {},
   "outputs": [],
   "source": [
    "X_train, X_test, y_train, y_test = train_test_split(X, y,test_size = 0.2, random_state=12431)"
   ]
  },
  {
   "cell_type": "markdown",
   "metadata": {},
   "source": [
    "### Preprocessing Data"
   ]
  },
  {
   "cell_type": "markdown",
   "metadata": {},
   "source": [
    " ####  Tokenizer"
   ]
  },
  {
   "cell_type": "markdown",
   "metadata": {},
   "source": [
    "##### Example Of Tokenizer"
   ]
  },
  {
   "cell_type": "code",
   "execution_count": 763,
   "metadata": {},
   "outputs": [],
   "source": [
    "example_train_sentence = ['the film is so cool wow', 'the film is not interesting']\n",
    "example_test_sentence = ['the film is dissapointing']"
   ]
  },
  {
   "cell_type": "code",
   "execution_count": 764,
   "metadata": {},
   "outputs": [],
   "source": [
    "# num_words = 2, mean Tokenizer will take the top 2 words by volume \n",
    "# usually minimum num_words will give  huge training time and less training acc \n",
    "example_num_words = 2\n",
    "\n",
    "#oov_token = \"<OOV>\" mean Out Of Vocabulary, since the test data is getting token by fitted train data then there is probability, \n",
    "#the word in test data is not recognize by the tokenizer then tokenizer will encode it as <OOV>\n",
    "example_oov_token = \"OOV\"\n",
    "\n",
    "example_tokenizer = Tokenizer(num_words = example_num_words, oov_token = example_oov_token)"
   ]
  },
  {
   "cell_type": "code",
   "execution_count": 765,
   "metadata": {},
   "outputs": [],
   "source": [
    "example_tokenizer.fit_on_texts(example_train_sentence)"
   ]
  },
  {
   "cell_type": "code",
   "execution_count": 766,
   "metadata": {},
   "outputs": [
    {
     "data": {
      "text/plain": [
       "{'OOV': 1,\n",
       " 'the': 2,\n",
       " 'film': 3,\n",
       " 'is': 4,\n",
       " 'so': 5,\n",
       " 'cool': 6,\n",
       " 'wow': 7,\n",
       " 'not': 8,\n",
       " 'interesting': 9}"
      ]
     },
     "execution_count": 766,
     "metadata": {},
     "output_type": "execute_result"
    }
   ],
   "source": [
    "example_tokenizer.word_index"
   ]
  },
  {
   "cell_type": "code",
   "execution_count": 767,
   "metadata": {},
   "outputs": [
    {
     "data": {
      "text/plain": [
       "OrderedDict([('the', 2),\n",
       "             ('film', 2),\n",
       "             ('is', 2),\n",
       "             ('so', 1),\n",
       "             ('cool', 1),\n",
       "             ('wow', 1),\n",
       "             ('not', 1),\n",
       "             ('interesting', 1)])"
      ]
     },
     "execution_count": 767,
     "metadata": {},
     "output_type": "execute_result"
    }
   ],
   "source": [
    "example_tokenizer.word_counts"
   ]
  },
  {
   "cell_type": "code",
   "execution_count": 768,
   "metadata": {},
   "outputs": [
    {
     "name": "stdout",
     "output_type": "stream",
     "text": [
      "train sequences : [[1, 1, 1, 1, 1, 1], [1, 1, 1, 1, 1]]\n",
      "test sequences : [[1, 1, 1, 1]]\n"
     ]
    }
   ],
   "source": [
    "example_X_train_sequences = example_tokenizer.texts_to_sequences(example_train_sentence)\n",
    "print(\"train sequences : {}\".format(example_X_train_sequences))\n",
    "\n",
    "\n",
    "example_X_test_sequences = example_tokenizer.texts_to_sequences(example_test_sentence)\n",
    "print(\"test sequences : {}\".format(example_X_test_sequences))\n"
   ]
  },
  {
   "cell_type": "markdown",
   "metadata": {},
   "source": [
    "💡 we can see all test text is encoded to 1, or if we see on the index as OOV. it's because we set num_words = 2 when define the Tokenizer"
   ]
  },
  {
   "cell_type": "markdown",
   "metadata": {},
   "source": [
    "💡 why only encoded to 1 isn't word <b>'the'</b> should be encoded to <b>2</b> also ?"
   ]
  },
  {
   "cell_type": "markdown",
   "metadata": {},
   "source": [
    "💡 according to the documentation, it will take Only the most common num_words-1 words will be kept<br>\n",
    "Docs : https://www.tensorflow.org/api_docs/python/tf/keras/preprocessing/text/Tokenizer"
   ]
  },
  {
   "cell_type": "markdown",
   "metadata": {},
   "source": [
    "💡 so if we want encoding the word \"the\" also. then we need to set the num_words = 3"
   ]
  },
  {
   "cell_type": "markdown",
   "metadata": {},
   "source": [
    "##### The Tokenizer will be used"
   ]
  },
  {
   "cell_type": "code",
   "execution_count": 769,
   "metadata": {},
   "outputs": [],
   "source": [
    "# currently im not define the num_words, so it will take all words on all the training text.\n",
    "oov_token = \"<OOV>\"\n",
    "tokenizer = Tokenizer(oov_token=oov_token)\n",
    "\n",
    "tokenizer.fit_on_texts(X_train)\n",
    "\n",
    "X_train_sequences = tokenizer.texts_to_sequences(X_train)\n",
    "X_test_sequences = tokenizer.texts_to_sequences(X_test)"
   ]
  },
  {
   "cell_type": "code",
   "execution_count": 770,
   "metadata": {},
   "outputs": [
    {
     "data": {
      "text/plain": [
       "4528"
      ]
     },
     "execution_count": 770,
     "metadata": {},
     "output_type": "execute_result"
    }
   ],
   "source": [
    "# although we didn't define num_words before defining the tokenizer class. we still need num_words as dimmer input from Embedding layer later\n",
    "num_words = len(tokenizer.word_index) + 1\n",
    "num_words"
   ]
  },
  {
   "cell_type": "markdown",
   "metadata": {},
   "source": [
    "💡  always + 1 because tokenizer.word_index not include 0 value"
   ]
  },
  {
   "cell_type": "markdown",
   "metadata": {},
   "source": [
    "#### Padding"
   ]
  },
  {
   "cell_type": "markdown",
   "metadata": {},
   "source": [
    "##### Example of Padding"
   ]
  },
  {
   "cell_type": "markdown",
   "metadata": {},
   "source": [
    "💡  the default pad_sequences function\n",
    "\n",
    "tf.keras.utils.pad_sequences(<br>\n",
    "    sequences,<br>\n",
    "    maxlen=None,<br>\n",
    "    dtype='int32',<br>\n",
    "    padding='pre',<br>\n",
    "    truncating='pre',<br>\n",
    "    value=0.0\n",
    ")\n",
    "<br>\n",
    "<br>\n",
    "docs : https://www.tensorflow.org/api_docs/python/tf/keras/utils/pad_sequences\n"
   ]
  },
  {
   "cell_type": "markdown",
   "metadata": {},
   "source": [
    "💡  our example sequences data <br>\n",
    "example X_train_sequences : [[1, 1, 1, 1, 1, 1], [1, 1, 1, 1, 1]] <br>\n",
    "example X_test_sequences : [[1, 1, 1, 1]]"
   ]
  },
  {
   "cell_type": "code",
   "execution_count": 771,
   "metadata": {},
   "outputs": [
    {
     "name": "stdout",
     "output_type": "stream",
     "text": [
      "[[1 1 1 1 1 1]\n",
      " [0 1 1 1 1 1]]\n"
     ]
    }
   ],
   "source": [
    "# let say we not define maxlen\n",
    "# if maxlen not defined then all the texts will padded follow the length of most word in the texts\n",
    "# if the length of word in a text < maxlen we define then it will padding\n",
    "# if the length of word in a text > maxlen we define then it will truncating\n",
    "\n",
    "example_X_train_padded = pad_sequences(example_X_train_sequences)\n",
    "example_X_test_padded = pad_sequences(example_X_test_sequences)\n",
    "\n",
    "print(example_X_train_padded)"
   ]
  },
  {
   "cell_type": "markdown",
   "metadata": {},
   "source": [
    "💡 we can see, the text 2 is padded with 0 because follow the length of most word in the texts"
   ]
  },
  {
   "cell_type": "markdown",
   "metadata": {},
   "source": [
    "💡 because the default padding='pre' so it will do 'pre' padding. it can be changed to \"post\""
   ]
  },
  {
   "cell_type": "markdown",
   "metadata": {},
   "source": [
    "##### The Padding will be used"
   ]
  },
  {
   "cell_type": "code",
   "execution_count": 772,
   "metadata": {},
   "outputs": [
    {
     "name": "stdout",
     "output_type": "stream",
     "text": [
      "maximum length of sequence in train data is : 1057\n",
      "maximum length of sequence in test data is : 744\n"
     ]
    }
   ],
   "source": [
    "list_of_train_sequence_length = []\n",
    "list_of_test_sequence_length = []\n",
    "\n",
    "# let see what maximum number of words on a train text data we can found\n",
    "for sequence in X_train_sequences :\n",
    "    list_of_train_sequence_length.append(len(sequence))\n",
    "\n",
    "for sequence in X_test_sequences :\n",
    "    list_of_test_sequence_length.append(len(sequence))\n",
    "\n",
    "print(\"maximum length of sequence in train data is : {}\".format(max(list_of_train_sequence_length)))\n",
    "print(\"maximum length of sequence in test data is : {}\".format(max(list_of_test_sequence_length)))"
   ]
  },
  {
   "cell_type": "code",
   "execution_count": 773,
   "metadata": {},
   "outputs": [],
   "source": [
    "# Generate and pad the training sequences\n",
    "maxlen = 150\n",
    "padding = \"post\"\n",
    "truncating = \"post\"\n",
    "\n",
    "X_train_padded = pad_sequences(X_train_sequences, maxlen=maxlen, padding=padding, truncating=truncating)\n",
    "X_test_padded = pad_sequences(X_test_sequences, maxlen=maxlen, padding=padding, truncating = truncating)"
   ]
  },
  {
   "cell_type": "markdown",
   "metadata": {},
   "source": [
    "💡 we need to make the train and test in same shape, so we need define the maxlen"
   ]
  },
  {
   "cell_type": "code",
   "execution_count": 774,
   "metadata": {},
   "outputs": [],
   "source": [
    "# Convert the labels lists into numpy arrays\n",
    "y_train = np.array(y_train)\n",
    "y_test = np.array(y_test)"
   ]
  },
  {
   "cell_type": "markdown",
   "metadata": {},
   "source": [
    "## Modeling"
   ]
  },
  {
   "cell_type": "markdown",
   "metadata": {},
   "source": [
    "💡 Overfitting naturally occurs in NLP. it's because the OOV Token found on the test data can't be classified"
   ]
  },
  {
   "cell_type": "markdown",
   "metadata": {},
   "source": [
    "💡  The target of this modeling is try to get model with smoother decreased loss/ stable loss. so even model still Overfitting we have conviction to the model"
   ]
  },
  {
   "cell_type": "markdown",
   "metadata": {},
   "source": [
    "### Always start with embedding first"
   ]
  },
  {
   "cell_type": "code",
   "execution_count": 775,
   "metadata": {},
   "outputs": [
    {
     "name": "stdout",
     "output_type": "stream",
     "text": [
      "Model: \"sequential_55\"\n",
      "_________________________________________________________________\n",
      " Layer (type)                Output Shape              Param #   \n",
      "=================================================================\n",
      " embedding_56 (Embedding)    (None, 150, 16)           72448     \n",
      "                                                                 \n",
      " flatten_36 (Flatten)        (None, 2400)              0         \n",
      "                                                                 \n",
      " dense_110 (Dense)           (None, 16)                38416     \n",
      "                                                                 \n",
      " dense_111 (Dense)           (None, 5)                 85        \n",
      "                                                                 \n",
      "=================================================================\n",
      "Total params: 110,949\n",
      "Trainable params: 110,949\n",
      "Non-trainable params: 0\n",
      "_________________________________________________________________\n"
     ]
    }
   ],
   "source": [
    "embedding_dim = 16\n",
    "\n",
    "# Build the model\n",
    "model = tf.keras.Sequential([\n",
    "    tf.keras.layers.Embedding(num_words , embedding_dim, input_length = maxlen),\n",
    "    tf.keras.layers.Flatten(),\n",
    "    tf.keras.layers.Dense(16, activation='relu'),\n",
    "    tf.keras.layers.Dense(5, activation='softmax')\n",
    "])\n",
    "\n",
    "# Print the model summary\n",
    "model.summary()"
   ]
  },
  {
   "cell_type": "markdown",
   "metadata": {},
   "source": [
    "💡 Embedding : Embed all word in similiar class in a vector.<br>\n",
    "example : we say a negative review and the words dull and boring show up a lot in the negative review so that they have similar sentiments, and they are close to each other in the sentence. Thus their vectors will be similar."
   ]
  },
  {
   "cell_type": "markdown",
   "metadata": {},
   "source": [
    "💡 Flatten : since the output of the embedding is (batch size, maxlen, embedding_dim) we need to flatten its output to (batch_size, maxlen * embedding_dim) since the dense take that shape of input."
   ]
  },
  {
   "cell_type": "markdown",
   "metadata": {},
   "source": [
    "💡 usually we can change flatten -> GlobalPoolingAverage.\n",
    "it will convert the output of our embedding (batch size, maxlen, embedding_dim) -> (batch size, average of maxlen each of embedding dimension)\n",
    "\n",
    "advantage :\n",
    "More Faster\n",
    "\n",
    "deficiency:\n",
    "reduced accuracy"
   ]
  },
  {
   "cell_type": "markdown",
   "metadata": {},
   "source": [
    "💡 The Output of Flatten layer untul last layers in the model above usually called Fully Connected Layer / Neural Network <br>\n",
    "💡 The Output of Flatten called Input Layer <br>\n",
    "💡 The next layer after Flattern layer called hidden layer <br>\n",
    "💡 The last layer called Output layer "
   ]
  },
  {
   "cell_type": "markdown",
   "metadata": {},
   "source": [
    "💡 usually hidden layer can be stacked as many as needed. but usually 2 hidden layer is enough to solve complex problem <br>\n",
    "💡 Why we define 64 as the num_of_dense in the hidden layer ? its free actualy but usually in Fully connected layer people define it conical. so if the first hidden layer is 64 then the next hidden layer will be 32. <br>\n",
    "💡 Why we define \"Relu\" as the activation function of Hidden layer ? it's because Relu output is 0 until Infinity. it's same like our sequences data which is if you see on the sequences, our data value minimum is  0 (result of padding), 1 (OOV), ...., num_words we define"
   ]
  },
  {
   "cell_type": "markdown",
   "metadata": {},
   "source": [
    "💡 Output layers is customized. <br>\n",
    "💡 Since we want to classify 5 class then we need define the num_dense of last layers is 5. <br>\n",
    "💡 if we want to classify 2 class then 1 dense <br>\n",
    "💡 Softmax is used for multiclass <br>\n",
    "💡 Sigmoid is used for binary class (2 class)"
   ]
  },
  {
   "cell_type": "code",
   "execution_count": 776,
   "metadata": {},
   "outputs": [],
   "source": [
    "# Compile the modeld\n",
    "model.compile(loss='sparse_categorical_crossentropy',optimizer='adam',metrics=['accuracy'])"
   ]
  },
  {
   "cell_type": "markdown",
   "metadata": {},
   "source": [
    "💡 Don't forget to always Compile the model before training. if you already train the model and forget to compile then it is called retraining with same data (if you passing same train and test data to the model.fit)"
   ]
  },
  {
   "cell_type": "markdown",
   "metadata": {},
   "source": [
    "💡 loss : sparse_categorical_cross_entropy is used because our label using integer value (0-4) <br>\n",
    "💡 we can use \"categorical_crossentropy\" if our label is encoded with one hot encoding <br>\n",
    "💡 adam optimizer is the best optimizer currently : https://towardsdatascience.com/optimizers-for-training-neural-network-59450d71caf6"
   ]
  },
  {
   "cell_type": "code",
   "execution_count": 777,
   "metadata": {},
   "outputs": [
    {
     "name": "stdout",
     "output_type": "stream",
     "text": [
      "Epoch 1/50\n",
      "18/18 [==============================] - 1s 15ms/step - loss: 1.5908 - accuracy: 0.2641 - val_loss: 1.5864 - val_accuracy: 0.2887\n",
      "Epoch 2/50\n",
      "18/18 [==============================] - 0s 6ms/step - loss: 1.5047 - accuracy: 0.5563 - val_loss: 1.5646 - val_accuracy: 0.3099\n",
      "Epoch 3/50\n",
      "18/18 [==============================] - 0s 6ms/step - loss: 1.4041 - accuracy: 0.6655 - val_loss: 1.5108 - val_accuracy: 0.3662\n",
      "Epoch 4/50\n",
      "18/18 [==============================] - 0s 7ms/step - loss: 1.2551 - accuracy: 0.6620 - val_loss: 1.4761 - val_accuracy: 0.2746\n",
      "Epoch 5/50\n",
      "18/18 [==============================] - 0s 7ms/step - loss: 1.0433 - accuracy: 0.7183 - val_loss: 1.3425 - val_accuracy: 0.4718\n",
      "Epoch 6/50\n",
      "18/18 [==============================] - 0s 8ms/step - loss: 0.8001 - accuracy: 0.8028 - val_loss: 1.2709 - val_accuracy: 0.4577\n",
      "Epoch 7/50\n",
      "18/18 [==============================] - 0s 6ms/step - loss: 0.5942 - accuracy: 0.8592 - val_loss: 1.2346 - val_accuracy: 0.4859\n",
      "Epoch 8/50\n",
      "18/18 [==============================] - 0s 6ms/step - loss: 0.4249 - accuracy: 0.8944 - val_loss: 1.1661 - val_accuracy: 0.5915\n",
      "Epoch 9/50\n",
      "18/18 [==============================] - 0s 8ms/step - loss: 0.3060 - accuracy: 0.9472 - val_loss: 1.2126 - val_accuracy: 0.5563\n",
      "Epoch 10/50\n",
      "18/18 [==============================] - 0s 6ms/step - loss: 0.2130 - accuracy: 0.9771 - val_loss: 1.1832 - val_accuracy: 0.6127\n",
      "Epoch 11/50\n",
      "18/18 [==============================] - 0s 6ms/step - loss: 0.1496 - accuracy: 0.9912 - val_loss: 1.1870 - val_accuracy: 0.6056\n",
      "Epoch 12/50\n",
      "18/18 [==============================] - 0s 6ms/step - loss: 0.1077 - accuracy: 1.0000 - val_loss: 1.2228 - val_accuracy: 0.5775\n",
      "Epoch 13/50\n",
      "18/18 [==============================] - 0s 6ms/step - loss: 0.0786 - accuracy: 0.9947 - val_loss: 1.2256 - val_accuracy: 0.5986\n",
      "Epoch 14/50\n",
      "18/18 [==============================] - 0s 6ms/step - loss: 0.0608 - accuracy: 0.9982 - val_loss: 1.2520 - val_accuracy: 0.5986\n",
      "Epoch 15/50\n",
      "18/18 [==============================] - 0s 7ms/step - loss: 0.0480 - accuracy: 0.9982 - val_loss: 1.2663 - val_accuracy: 0.5915\n",
      "Epoch 16/50\n",
      "18/18 [==============================] - 0s 8ms/step - loss: 0.0380 - accuracy: 1.0000 - val_loss: 1.2757 - val_accuracy: 0.5845\n",
      "Epoch 17/50\n",
      "18/18 [==============================] - 0s 8ms/step - loss: 0.0302 - accuracy: 1.0000 - val_loss: 1.2862 - val_accuracy: 0.5845\n",
      "Epoch 18/50\n",
      "18/18 [==============================] - 0s 8ms/step - loss: 0.0252 - accuracy: 1.0000 - val_loss: 1.3053 - val_accuracy: 0.5845\n",
      "Epoch 19/50\n",
      "18/18 [==============================] - 0s 9ms/step - loss: 0.0217 - accuracy: 1.0000 - val_loss: 1.3361 - val_accuracy: 0.5704\n",
      "Epoch 20/50\n",
      "18/18 [==============================] - 0s 8ms/step - loss: 0.0180 - accuracy: 1.0000 - val_loss: 1.3260 - val_accuracy: 0.5775\n",
      "Epoch 21/50\n",
      "18/18 [==============================] - 0s 9ms/step - loss: 0.0155 - accuracy: 1.0000 - val_loss: 1.3415 - val_accuracy: 0.5845\n",
      "Epoch 22/50\n",
      "18/18 [==============================] - 0s 8ms/step - loss: 0.0135 - accuracy: 1.0000 - val_loss: 1.3556 - val_accuracy: 0.5775\n",
      "Epoch 23/50\n",
      "18/18 [==============================] - 0s 8ms/step - loss: 0.0119 - accuracy: 1.0000 - val_loss: 1.3687 - val_accuracy: 0.5915\n",
      "Epoch 24/50\n",
      "18/18 [==============================] - 0s 9ms/step - loss: 0.0104 - accuracy: 1.0000 - val_loss: 1.3743 - val_accuracy: 0.5704\n",
      "Epoch 25/50\n",
      "18/18 [==============================] - 0s 8ms/step - loss: 0.0094 - accuracy: 1.0000 - val_loss: 1.3848 - val_accuracy: 0.5704\n",
      "Epoch 26/50\n",
      "18/18 [==============================] - 0s 8ms/step - loss: 0.0084 - accuracy: 1.0000 - val_loss: 1.3983 - val_accuracy: 0.5704\n",
      "Epoch 27/50\n",
      "18/18 [==============================] - 0s 8ms/step - loss: 0.0076 - accuracy: 1.0000 - val_loss: 1.4069 - val_accuracy: 0.5775\n",
      "Epoch 28/50\n",
      "18/18 [==============================] - 0s 8ms/step - loss: 0.0069 - accuracy: 1.0000 - val_loss: 1.4140 - val_accuracy: 0.5704\n",
      "Epoch 29/50\n",
      "18/18 [==============================] - 0s 8ms/step - loss: 0.0063 - accuracy: 1.0000 - val_loss: 1.4168 - val_accuracy: 0.5775\n",
      "Epoch 30/50\n",
      "18/18 [==============================] - 0s 7ms/step - loss: 0.0057 - accuracy: 1.0000 - val_loss: 1.4330 - val_accuracy: 0.5775\n",
      "Epoch 31/50\n",
      "18/18 [==============================] - 0s 7ms/step - loss: 0.0053 - accuracy: 1.0000 - val_loss: 1.4429 - val_accuracy: 0.5775\n",
      "Epoch 32/50\n",
      "18/18 [==============================] - 0s 6ms/step - loss: 0.0049 - accuracy: 1.0000 - val_loss: 1.4463 - val_accuracy: 0.5775\n",
      "Epoch 33/50\n",
      "18/18 [==============================] - 0s 6ms/step - loss: 0.0045 - accuracy: 1.0000 - val_loss: 1.4478 - val_accuracy: 0.5845\n",
      "Epoch 34/50\n",
      "18/18 [==============================] - 0s 6ms/step - loss: 0.0041 - accuracy: 1.0000 - val_loss: 1.4611 - val_accuracy: 0.5775\n",
      "Epoch 35/50\n",
      "18/18 [==============================] - 0s 7ms/step - loss: 0.0039 - accuracy: 1.0000 - val_loss: 1.4708 - val_accuracy: 0.5775\n",
      "Epoch 36/50\n",
      "18/18 [==============================] - 0s 9ms/step - loss: 0.0036 - accuracy: 1.0000 - val_loss: 1.4721 - val_accuracy: 0.5775\n",
      "Epoch 37/50\n",
      "18/18 [==============================] - 0s 9ms/step - loss: 0.0034 - accuracy: 1.0000 - val_loss: 1.4796 - val_accuracy: 0.5845\n",
      "Epoch 38/50\n",
      "18/18 [==============================] - 0s 10ms/step - loss: 0.0031 - accuracy: 1.0000 - val_loss: 1.4907 - val_accuracy: 0.5775\n",
      "Epoch 39/50\n",
      "18/18 [==============================] - 0s 9ms/step - loss: 0.0030 - accuracy: 1.0000 - val_loss: 1.4938 - val_accuracy: 0.5775\n",
      "Epoch 40/50\n",
      "18/18 [==============================] - 0s 8ms/step - loss: 0.0028 - accuracy: 1.0000 - val_loss: 1.4963 - val_accuracy: 0.5845\n",
      "Epoch 41/50\n",
      "18/18 [==============================] - 0s 7ms/step - loss: 0.0026 - accuracy: 1.0000 - val_loss: 1.5044 - val_accuracy: 0.5775\n",
      "Epoch 42/50\n",
      "18/18 [==============================] - 0s 6ms/step - loss: 0.0025 - accuracy: 1.0000 - val_loss: 1.5104 - val_accuracy: 0.5845\n",
      "Epoch 43/50\n",
      "18/18 [==============================] - 0s 7ms/step - loss: 0.0023 - accuracy: 1.0000 - val_loss: 1.5159 - val_accuracy: 0.5845\n",
      "Epoch 44/50\n",
      "18/18 [==============================] - 0s 6ms/step - loss: 0.0022 - accuracy: 1.0000 - val_loss: 1.5221 - val_accuracy: 0.5775\n",
      "Epoch 45/50\n",
      "18/18 [==============================] - 0s 7ms/step - loss: 0.0021 - accuracy: 1.0000 - val_loss: 1.5288 - val_accuracy: 0.5775\n",
      "Epoch 46/50\n",
      "18/18 [==============================] - 0s 7ms/step - loss: 0.0020 - accuracy: 1.0000 - val_loss: 1.5324 - val_accuracy: 0.5845\n",
      "Epoch 47/50\n",
      "18/18 [==============================] - 0s 6ms/step - loss: 0.0019 - accuracy: 1.0000 - val_loss: 1.5359 - val_accuracy: 0.5845\n",
      "Epoch 48/50\n",
      "18/18 [==============================] - 0s 5ms/step - loss: 0.0018 - accuracy: 1.0000 - val_loss: 1.5423 - val_accuracy: 0.5845\n",
      "Epoch 49/50\n",
      "18/18 [==============================] - 0s 6ms/step - loss: 0.0017 - accuracy: 1.0000 - val_loss: 1.5473 - val_accuracy: 0.5845\n",
      "Epoch 50/50\n",
      "18/18 [==============================] - 0s 6ms/step - loss: 0.0016 - accuracy: 1.0000 - val_loss: 1.5537 - val_accuracy: 0.5775\n",
      "CPU times: user 6 µs, sys: 1e+03 ns, total: 7 µs\n",
      "Wall time: 14.3 µs\n"
     ]
    }
   ],
   "source": [
    "num_epochs = 50\n",
    "# Train the model\n",
    "history_embedding = model.fit(X_train_padded, y_train, epochs=num_epochs, validation_data=(X_test_padded, y_test))\n",
    "%time"
   ]
  },
  {
   "cell_type": "markdown",
   "metadata": {},
   "source": [
    "#### Evaluation"
   ]
  },
  {
   "cell_type": "code",
   "execution_count": 778,
   "metadata": {},
   "outputs": [],
   "source": [
    "import matplotlib.pyplot as plt\n",
    "\n",
    "# Plot utility\n",
    "def plot_graphs(history, string, model_name):\n",
    "  plt.title('Training and validation {} of {}'.format(string,model_name))\n",
    "  plt.plot(history.history[string])\n",
    "  plt.plot(history.history['val_'+string])\n",
    "  plt.xlabel(\"Epochs\")\n",
    "  plt.ylabel(string)\n",
    "  plt.legend([string, 'val_'+string])\n",
    "  plt.show()"
   ]
  },
  {
   "cell_type": "markdown",
   "metadata": {},
   "source": [
    "##### Accuracy"
   ]
  },
  {
   "cell_type": "code",
   "execution_count": 779,
   "metadata": {},
   "outputs": [
    {
     "data": {
      "image/png": "[encoded data removed]",
      "text/plain": [
       "<Figure size 432x288 with 1 Axes>"
      ]
     },
     "metadata": {
      "needs_background": "light"
     },
     "output_type": "display_data"
    }
   ],
   "source": [
    "plot_graphs(history_embedding, \"accuracy\", \"Embedding + FCN\")"
   ]
  },
  {
   "cell_type": "markdown",
   "metadata": {},
   "source": [
    "##### Loss"
   ]
  },
  {
   "cell_type": "code",
   "execution_count": 780,
   "metadata": {},
   "outputs": [
    {
     "data": {
      "image/png": "[encoded data removed]",
      "text/plain": [
       "<Figure size 432x288 with 1 Axes>"
      ]
     },
     "metadata": {
      "needs_background": "light"
     },
     "output_type": "display_data"
    }
   ],
   "source": [
    "plot_graphs(history_embedding, \"loss\", \"Embeding + FCN\")"
   ]
  },
  {
   "cell_type": "markdown",
   "metadata": {},
   "source": [
    "##### Classification Report"
   ]
  },
  {
   "cell_type": "code",
   "execution_count": 781,
   "metadata": {},
   "outputs": [
    {
     "name": "stdout",
     "output_type": "stream",
     "text": [
      "5/5 [==============================] - 0s 2ms/step\n",
      "                      precision    recall  f1-score   support\n",
      "\n",
      "      VLE and Module       0.48      0.74      0.58        31\n",
      "   Hardware and Room       0.89      0.57      0.70        42\n",
      "                Mail       0.33      0.09      0.14        11\n",
      " Software and Access       0.53      0.61      0.56        51\n",
      "Account and Password       0.60      0.43      0.50         7\n",
      "\n",
      "            accuracy                           0.58       142\n",
      "           macro avg       0.57      0.49      0.50       142\n",
      "        weighted avg       0.61      0.58      0.57       142\n",
      "\n"
     ]
    }
   ],
   "source": [
    "y_pred = model.predict(X_test_padded)\n",
    "y_pred = np.argmax(y_pred,axis=1)\n",
    "print(classification_report(y_test, y_pred, target_names= label))"
   ]
  },
  {
   "cell_type": "markdown",
   "metadata": {},
   "source": [
    "💡 Since the val loss still increasing each epoch and still high overfitting. we can try to solve the overfitting with tweaking the embedding parameter <br>"
   ]
  },
  {
   "cell_type": "markdown",
   "metadata": {
    "tags": []
   },
   "source": [
    "### Increasing Accuracy : Adding Conv1D"
   ]
  },
  {
   "cell_type": "code",
   "execution_count": 782,
   "metadata": {},
   "outputs": [
    {
     "name": "stdout",
     "output_type": "stream",
     "text": [
      "Model: \"sequential_56\"\n",
      "_________________________________________________________________\n",
      " Layer (type)                Output Shape              Param #   \n",
      "=================================================================\n",
      " embedding_57 (Embedding)    (None, 150, 16)           72448     \n",
      "                                                                 \n",
      " conv1d_41 (Conv1D)          (None, 147, 16)           1040      \n",
      "                                                                 \n",
      " max_pooling1d_41 (MaxPoolin  (None, 73, 16)           0         \n",
      " g1D)                                                            \n",
      "                                                                 \n",
      " flatten_37 (Flatten)        (None, 1168)              0         \n",
      "                                                                 \n",
      " dense_112 (Dense)           (None, 16)                18704     \n",
      "                                                                 \n",
      " dense_113 (Dense)           (None, 5)                 85        \n",
      "                                                                 \n",
      "=================================================================\n",
      "Total params: 92,277\n",
      "Trainable params: 92,277\n",
      "Non-trainable params: 0\n",
      "_________________________________________________________________\n"
     ]
    }
   ],
   "source": [
    "embedding_dim = 16\n",
    "\n",
    "# Build the model\n",
    "model = tf.keras.Sequential([\n",
    "    tf.keras.layers.Embedding(num_words , embedding_dim, input_length = maxlen),\n",
    "    tf.keras.layers.Conv1D(16, 4),\n",
    "    tf.keras.layers.MaxPooling1D(),\n",
    "    tf.keras.layers.Flatten(),\n",
    "    tf.keras.layers.Dense(16, activation='relu'),\n",
    "    tf.keras.layers.Dense(5, activation='softmax')\n",
    "])\n",
    "\n",
    "# Compile the modeld\n",
    "model.compile(loss='sparse_categorical_crossentropy',optimizer='adam',metrics=['accuracy'])\n",
    "\n",
    "# Print the model summary\n",
    "model.summary()"
   ]
  },
  {
   "cell_type": "code",
   "execution_count": 783,
   "metadata": {},
   "outputs": [
    {
     "name": "stdout",
     "output_type": "stream",
     "text": [
      "Epoch 1/50\n",
      "18/18 [==============================] - 1s 17ms/step - loss: 1.5521 - accuracy: 0.3063 - val_loss: 1.5447 - val_accuracy: 0.2324\n",
      "Epoch 2/50\n",
      "18/18 [==============================] - 0s 7ms/step - loss: 1.3869 - accuracy: 0.4243 - val_loss: 1.4821 - val_accuracy: 0.3592\n",
      "Epoch 3/50\n",
      "18/18 [==============================] - 0s 7ms/step - loss: 1.2816 - accuracy: 0.4542 - val_loss: 1.3911 - val_accuracy: 0.3944\n",
      "Epoch 4/50\n",
      "18/18 [==============================] - 0s 6ms/step - loss: 1.1358 - accuracy: 0.5458 - val_loss: 1.2996 - val_accuracy: 0.4577\n",
      "Epoch 5/50\n",
      "18/18 [==============================] - 0s 7ms/step - loss: 0.9664 - accuracy: 0.6021 - val_loss: 1.1686 - val_accuracy: 0.4437\n",
      "Epoch 6/50\n",
      "18/18 [==============================] - 0s 7ms/step - loss: 0.8103 - accuracy: 0.7236 - val_loss: 1.0883 - val_accuracy: 0.5211\n",
      "Epoch 7/50\n",
      "18/18 [==============================] - 0s 7ms/step - loss: 0.6379 - accuracy: 0.8046 - val_loss: 1.0606 - val_accuracy: 0.5845\n",
      "Epoch 8/50\n",
      "18/18 [==============================] - 0s 7ms/step - loss: 0.4932 - accuracy: 0.8327 - val_loss: 1.0321 - val_accuracy: 0.6620\n",
      "Epoch 9/50\n",
      "18/18 [==============================] - 0s 8ms/step - loss: 0.3590 - accuracy: 0.8873 - val_loss: 1.0740 - val_accuracy: 0.6549\n",
      "Epoch 10/50\n",
      "18/18 [==============================] - 0s 7ms/step - loss: 0.2596 - accuracy: 0.9384 - val_loss: 1.1032 - val_accuracy: 0.6197\n",
      "Epoch 11/50\n",
      "18/18 [==============================] - 0s 8ms/step - loss: 0.1870 - accuracy: 0.9683 - val_loss: 1.1538 - val_accuracy: 0.6549\n",
      "Epoch 12/50\n",
      "18/18 [==============================] - 0s 7ms/step - loss: 0.1311 - accuracy: 0.9824 - val_loss: 1.2052 - val_accuracy: 0.6690\n",
      "Epoch 13/50\n",
      "18/18 [==============================] - 0s 7ms/step - loss: 0.0947 - accuracy: 0.9912 - val_loss: 1.2726 - val_accuracy: 0.6690\n",
      "Epoch 14/50\n",
      "18/18 [==============================] - 0s 7ms/step - loss: 0.0690 - accuracy: 0.9965 - val_loss: 1.3506 - val_accuracy: 0.6690\n",
      "Epoch 15/50\n",
      "18/18 [==============================] - 0s 7ms/step - loss: 0.0500 - accuracy: 1.0000 - val_loss: 1.3968 - val_accuracy: 0.6549\n",
      "Epoch 16/50\n",
      "18/18 [==============================] - 0s 7ms/step - loss: 0.0381 - accuracy: 1.0000 - val_loss: 1.4767 - val_accuracy: 0.6690\n",
      "Epoch 17/50\n",
      "18/18 [==============================] - 0s 7ms/step - loss: 0.0298 - accuracy: 1.0000 - val_loss: 1.4858 - val_accuracy: 0.6761\n",
      "Epoch 18/50\n",
      "18/18 [==============================] - 0s 6ms/step - loss: 0.0230 - accuracy: 1.0000 - val_loss: 1.5433 - val_accuracy: 0.6761\n",
      "Epoch 19/50\n",
      "18/18 [==============================] - 0s 7ms/step - loss: 0.0182 - accuracy: 1.0000 - val_loss: 1.5802 - val_accuracy: 0.6761\n",
      "Epoch 20/50\n",
      "18/18 [==============================] - 0s 7ms/step - loss: 0.0150 - accuracy: 1.0000 - val_loss: 1.6222 - val_accuracy: 0.6690\n",
      "Epoch 21/50\n",
      "18/18 [==============================] - 0s 7ms/step - loss: 0.0124 - accuracy: 1.0000 - val_loss: 1.6598 - val_accuracy: 0.6690\n",
      "Epoch 22/50\n",
      "18/18 [==============================] - 0s 7ms/step - loss: 0.0102 - accuracy: 1.0000 - val_loss: 1.6745 - val_accuracy: 0.6690\n",
      "Epoch 23/50\n",
      "18/18 [==============================] - 0s 7ms/step - loss: 0.0084 - accuracy: 1.0000 - val_loss: 1.7052 - val_accuracy: 0.6690\n",
      "Epoch 24/50\n",
      "18/18 [==============================] - 0s 8ms/step - loss: 0.0074 - accuracy: 1.0000 - val_loss: 1.7384 - val_accuracy: 0.6690\n",
      "Epoch 25/50\n",
      "18/18 [==============================] - 0s 7ms/step - loss: 0.0064 - accuracy: 1.0000 - val_loss: 1.7596 - val_accuracy: 0.6549\n",
      "Epoch 26/50\n",
      "18/18 [==============================] - 0s 7ms/step - loss: 0.0055 - accuracy: 1.0000 - val_loss: 1.7830 - val_accuracy: 0.6690\n",
      "Epoch 27/50\n",
      "18/18 [==============================] - 0s 7ms/step - loss: 0.0050 - accuracy: 1.0000 - val_loss: 1.8050 - val_accuracy: 0.6690\n",
      "Epoch 28/50\n",
      "18/18 [==============================] - 0s 7ms/step - loss: 0.0045 - accuracy: 1.0000 - val_loss: 1.8245 - val_accuracy: 0.6479\n",
      "Epoch 29/50\n",
      "18/18 [==============================] - 0s 6ms/step - loss: 0.0039 - accuracy: 1.0000 - val_loss: 1.8462 - val_accuracy: 0.6620\n",
      "Epoch 30/50\n",
      "18/18 [==============================] - 0s 7ms/step - loss: 0.0035 - accuracy: 1.0000 - val_loss: 1.8657 - val_accuracy: 0.6408\n",
      "Epoch 31/50\n",
      "18/18 [==============================] - 0s 7ms/step - loss: 0.0032 - accuracy: 1.0000 - val_loss: 1.8820 - val_accuracy: 0.6479\n",
      "Epoch 32/50\n",
      "18/18 [==============================] - 0s 7ms/step - loss: 0.0029 - accuracy: 1.0000 - val_loss: 1.9041 - val_accuracy: 0.6479\n",
      "Epoch 33/50\n",
      "18/18 [==============================] - 0s 6ms/step - loss: 0.0027 - accuracy: 1.0000 - val_loss: 1.9073 - val_accuracy: 0.6549\n",
      "Epoch 34/50\n",
      "18/18 [==============================] - 0s 6ms/step - loss: 0.0024 - accuracy: 1.0000 - val_loss: 1.9339 - val_accuracy: 0.6479\n",
      "Epoch 35/50\n",
      "18/18 [==============================] - 0s 7ms/step - loss: 0.0022 - accuracy: 1.0000 - val_loss: 1.9480 - val_accuracy: 0.6479\n",
      "Epoch 36/50\n",
      "18/18 [==============================] - 0s 7ms/step - loss: 0.0021 - accuracy: 1.0000 - val_loss: 1.9535 - val_accuracy: 0.6479\n",
      "Epoch 37/50\n",
      "18/18 [==============================] - 0s 9ms/step - loss: 0.0019 - accuracy: 1.0000 - val_loss: 1.9771 - val_accuracy: 0.6479\n",
      "Epoch 38/50\n",
      "18/18 [==============================] - 0s 8ms/step - loss: 0.0018 - accuracy: 1.0000 - val_loss: 1.9814 - val_accuracy: 0.6479\n",
      "Epoch 39/50\n",
      "18/18 [==============================] - 0s 10ms/step - loss: 0.0017 - accuracy: 1.0000 - val_loss: 2.0015 - val_accuracy: 0.6408\n",
      "Epoch 40/50\n",
      "18/18 [==============================] - 0s 9ms/step - loss: 0.0015 - accuracy: 1.0000 - val_loss: 2.0089 - val_accuracy: 0.6479\n",
      "Epoch 41/50\n",
      "18/18 [==============================] - 0s 9ms/step - loss: 0.0014 - accuracy: 1.0000 - val_loss: 2.0250 - val_accuracy: 0.6408\n",
      "Epoch 42/50\n",
      "18/18 [==============================] - 0s 8ms/step - loss: 0.0014 - accuracy: 1.0000 - val_loss: 2.0336 - val_accuracy: 0.6479\n",
      "Epoch 43/50\n",
      "18/18 [==============================] - 0s 9ms/step - loss: 0.0013 - accuracy: 1.0000 - val_loss: 2.0435 - val_accuracy: 0.6479\n",
      "Epoch 44/50\n",
      "18/18 [==============================] - 0s 9ms/step - loss: 0.0012 - accuracy: 1.0000 - val_loss: 2.0592 - val_accuracy: 0.6479\n",
      "Epoch 45/50\n",
      "18/18 [==============================] - 0s 9ms/step - loss: 0.0011 - accuracy: 1.0000 - val_loss: 2.0714 - val_accuracy: 0.6338\n",
      "Epoch 46/50\n",
      "18/18 [==============================] - 0s 8ms/step - loss: 0.0011 - accuracy: 1.0000 - val_loss: 2.0739 - val_accuracy: 0.6408\n",
      "Epoch 47/50\n",
      "18/18 [==============================] - 0s 9ms/step - loss: 0.0010 - accuracy: 1.0000 - val_loss: 2.0883 - val_accuracy: 0.6338\n",
      "Epoch 48/50\n",
      "18/18 [==============================] - 0s 8ms/step - loss: 9.5415e-04 - accuracy: 1.0000 - val_loss: 2.0973 - val_accuracy: 0.6268\n",
      "Epoch 49/50\n",
      "18/18 [==============================] - 0s 8ms/step - loss: 9.0370e-04 - accuracy: 1.0000 - val_loss: 2.1079 - val_accuracy: 0.6408\n",
      "Epoch 50/50\n",
      "18/18 [==============================] - 0s 7ms/step - loss: 8.5956e-04 - accuracy: 1.0000 - val_loss: 2.1189 - val_accuracy: 0.6338\n",
      "CPU times: user 6 µs, sys: 1e+03 ns, total: 7 µs\n",
      "Wall time: 14.8 µs\n"
     ]
    }
   ],
   "source": [
    "num_epochs = 50\n",
    "\n",
    "# Train the model\n",
    "history_embed_conv = model.fit(X_train_padded, y_train, epochs=num_epochs, validation_data=(X_test_padded, y_test))\n",
    "%time"
   ]
  },
  {
   "cell_type": "markdown",
   "metadata": {},
   "source": [
    "#### Evaluation"
   ]
  },
  {
   "cell_type": "markdown",
   "metadata": {},
   "source": [
    "##### Accuracy"
   ]
  },
  {
   "cell_type": "code",
   "execution_count": 784,
   "metadata": {},
   "outputs": [
    {
     "data": {
      "image/png": "[encoded data removed]",
      "text/plain": [
       "<Figure size 432x288 with 1 Axes>"
      ]
     },
     "metadata": {
      "needs_background": "light"
     },
     "output_type": "display_data"
    },
    {
     "data": {
      "image/png": "[encoded data removed]",
      "text/plain": [
       "<Figure size 432x288 with 1 Axes>"
      ]
     },
     "metadata": {
      "needs_background": "light"
     },
     "output_type": "display_data"
    }
   ],
   "source": [
    "plot_graphs(history_embedding, \"accuracy\", \"Embedding + FCN\")\n",
    "plot_graphs(history_embed_conv,\"accuracy\", \"Embeding +  FCN + Conv\")"
   ]
  },
  {
   "cell_type": "markdown",
   "metadata": {},
   "source": [
    "##### Loss"
   ]
  },
  {
   "cell_type": "code",
   "execution_count": 785,
   "metadata": {},
   "outputs": [
    {
     "data": {
      "image/png": "[encoded data removed]",
      "text/plain": [
       "<Figure size 432x288 with 1 Axes>"
      ]
     },
     "metadata": {
      "needs_background": "light"
     },
     "output_type": "display_data"
    },
    {
     "data": {
      "image/png": "[encoded data removed]",
      "text/plain": [
       "<Figure size 432x288 with 1 Axes>"
      ]
     },
     "metadata": {
      "needs_background": "light"
     },
     "output_type": "display_data"
    }
   ],
   "source": [
    "plot_graphs(history_embedding, \"loss\", \"Embedding + FCN\")\n",
    "plot_graphs(history_embed_conv,\"loss\", \"Embeding +  FCN + Conv\")"
   ]
  },
  {
   "cell_type": "markdown",
   "metadata": {},
   "source": [
    "##### Classification Report"
   ]
  },
  {
   "cell_type": "code",
   "execution_count": 786,
   "metadata": {},
   "outputs": [
    {
     "name": "stdout",
     "output_type": "stream",
     "text": [
      "5/5 [==============================] - 0s 3ms/step\n",
      "                      precision    recall  f1-score   support\n",
      "\n",
      "      VLE and Module       0.73      0.71      0.72        31\n",
      "   Hardware and Room       0.74      0.60      0.66        42\n",
      "                Mail       0.40      0.18      0.25        11\n",
      " Software and Access       0.57      0.76      0.66        51\n",
      "Account and Password       0.40      0.29      0.33         7\n",
      "\n",
      "            accuracy                           0.63       142\n",
      "           macro avg       0.57      0.51      0.52       142\n",
      "        weighted avg       0.63      0.63      0.62       142\n",
      "\n"
     ]
    }
   ],
   "source": [
    "y_pred = model.predict(X_test_padded)\n",
    "y_pred = np.argmax(y_pred,axis=1)\n",
    "print(classification_report(y_test, y_pred, target_names= label))"
   ]
  },
  {
   "cell_type": "markdown",
   "metadata": {},
   "source": [
    "💡 our model getting better on accuracy but we still can't have conviction to the model since the loss getting worst <br>\n",
    "💡 usually adding LSTM will help our model to the loss <br>"
   ]
  },
  {
   "cell_type": "markdown",
   "metadata": {
    "tags": []
   },
   "source": [
    "### Stabling the loss of the Model : Adding LSTM"
   ]
  },
  {
   "cell_type": "markdown",
   "metadata": {},
   "source": [
    "💡 usually LSTM used to make the loss more stable even decrease"
   ]
  },
  {
   "cell_type": "markdown",
   "metadata": {},
   "source": [
    "💡 usually people using Bidirectional LSTM rather than normal one"
   ]
  },
  {
   "cell_type": "markdown",
   "metadata": {},
   "source": [
    "💡 advantage Bidirectional than normal LSTM :<br>\n",
    "* more faster train data <br>\n",
    "* more better on fit (avoid overfitting) <br>\n",
    "<br>\n",
    "deficiency : <br>\n",
    "*  need entire sentence to do the prediction. "
   ]
  },
  {
   "cell_type": "markdown",
   "metadata": {},
   "source": [
    "💡 below is how to build single Bidirectional <br>"
   ]
  },
  {
   "cell_type": "code",
   "execution_count": 787,
   "metadata": {},
   "outputs": [],
   "source": [
    "# Ctrl + A and then Ctrl + / to uncomment this cell\n",
    "# # embedding_dim = 16\n",
    "\n",
    "# # Build the model\n",
    "# model = tf.keras.Sequential([\n",
    "#     tf.keras.layers.Embedding(num_words , embedding_dim, input_length = maxlen),\n",
    "#     tf.keras.layers.Conv1D(16, 4),\n",
    "#     tf.keras.layers.MaxPooling1D(),\n",
    "#     tf.keras.layers.Bidirectional(tf.keras.layers.LSTM(16)),\n",
    "#     tf.keras.layers.Dense(16, activation='relu'),\n",
    "#     tf.keras.layers.Dense(5, activation='softmax')\n",
    "# ])\n",
    "\n",
    "# # Compile the modeld\n",
    "# model.compile(loss='sparse_categorical_crossentropy',optimizer='adam',metrics=['accuracy'])\n",
    "\n",
    "# # Print the model summary\n",
    "# model.summary()"
   ]
  },
  {
   "cell_type": "markdown",
   "metadata": {},
   "source": [
    "💡 below is how to build stacked Bidirectional <br>"
   ]
  },
  {
   "cell_type": "markdown",
   "metadata": {},
   "source": [
    "💡 below is how to build stacked Bidirectional <br>\n",
    "💡 to build normal LSTM simply remove tf.keras.layers.Bidirectional <br>\n",
    "so  if you want build stacked normal LSTM the Bidirectional LSTM layers should be : <br>\n",
    "<b> tf.keras.layers.LSTM(16, return_sequences = True),<b><br>\n",
    "<b>tf.keras.layers.LSTM(8),<b><br>"
   ]
  },
  {
   "cell_type": "code",
   "execution_count": 788,
   "metadata": {},
   "outputs": [
    {
     "name": "stdout",
     "output_type": "stream",
     "text": [
      "Model: \"sequential_57\"\n",
      "_________________________________________________________________\n",
      " Layer (type)                Output Shape              Param #   \n",
      "=================================================================\n",
      " embedding_58 (Embedding)    (None, 150, 16)           72448     \n",
      "                                                                 \n",
      " conv1d_42 (Conv1D)          (None, 147, 16)           1040      \n",
      "                                                                 \n",
      " max_pooling1d_42 (MaxPoolin  (None, 73, 16)           0         \n",
      " g1D)                                                            \n",
      "                                                                 \n",
      " dropout_2 (Dropout)         (None, 73, 16)            0         \n",
      "                                                                 \n",
      " bidirectional_38 (Bidirecti  (None, 73, 32)           4224      \n",
      " onal)                                                           \n",
      "                                                                 \n",
      " bidirectional_39 (Bidirecti  (None, 16)               2624      \n",
      " onal)                                                           \n",
      "                                                                 \n",
      " dense_114 (Dense)           (None, 16)                272       \n",
      "                                                                 \n",
      " dense_115 (Dense)           (None, 5)                 85        \n",
      "                                                                 \n",
      "=================================================================\n",
      "Total params: 80,693\n",
      "Trainable params: 80,693\n",
      "Non-trainable params: 0\n",
      "_________________________________________________________________\n"
     ]
    }
   ],
   "source": [
    "embedding_dim = 16\n",
    "\n",
    "# Build the model\n",
    "model = tf.keras.Sequential([\n",
    "    tf.keras.layers.Embedding(num_words , embedding_dim, input_length = maxlen),\n",
    "    tf.keras.layers.Conv1D(16, 4),\n",
    "    tf.keras.layers.MaxPooling1D(),\n",
    "    tf.keras.layers.Dropout(0.3),\n",
    "    tf.keras.layers.Bidirectional(tf.keras.layers.LSTM(16, return_sequences = True)),\n",
    "    tf.keras.layers.Bidirectional(tf.keras.layers.LSTM(8)),\n",
    "    tf.keras.layers.Dense(16, activation='relu'),\n",
    "    tf.keras.layers.Dense(5, activation='softmax')\n",
    "])\n",
    "\n",
    "# Compile the modeld\n",
    "model.compile(loss='sparse_categorical_crossentropy',optimizer='adam',metrics=['accuracy'])\n",
    "\n",
    "# Print the model summary\n",
    "model.summary()"
   ]
  },
  {
   "cell_type": "code",
   "execution_count": 789,
   "metadata": {},
   "outputs": [
    {
     "name": "stdout",
     "output_type": "stream",
     "text": [
      "Epoch 1/50\n",
      "18/18 [==============================] - 9s 137ms/step - loss: 1.5641 - accuracy: 0.3275 - val_loss: 1.5246 - val_accuracy: 0.2183\n",
      "Epoch 2/50\n",
      "18/18 [==============================] - 0s 26ms/step - loss: 1.4512 - accuracy: 0.3046 - val_loss: 1.4663 - val_accuracy: 0.2183\n",
      "Epoch 3/50\n",
      "18/18 [==============================] - 0s 25ms/step - loss: 1.3754 - accuracy: 0.4173 - val_loss: 1.4358 - val_accuracy: 0.3662\n",
      "Epoch 4/50\n",
      "18/18 [==============================] - 0s 25ms/step - loss: 1.3259 - accuracy: 0.4014 - val_loss: 1.3872 - val_accuracy: 0.3592\n",
      "Epoch 5/50\n",
      "18/18 [==============================] - 0s 25ms/step - loss: 1.1762 - accuracy: 0.5282 - val_loss: 1.3707 - val_accuracy: 0.4155\n",
      "Epoch 6/50\n",
      "18/18 [==============================] - 0s 25ms/step - loss: 1.0069 - accuracy: 0.6461 - val_loss: 1.2939 - val_accuracy: 0.4577\n",
      "Epoch 7/50\n",
      "18/18 [==============================] - 0s 25ms/step - loss: 0.8619 - accuracy: 0.7588 - val_loss: 1.3688 - val_accuracy: 0.4507\n",
      "Epoch 8/50\n",
      "18/18 [==============================] - 0s 24ms/step - loss: 0.7497 - accuracy: 0.7923 - val_loss: 1.3897 - val_accuracy: 0.4507\n",
      "Epoch 9/50\n",
      "18/18 [==============================] - 0s 25ms/step - loss: 0.6594 - accuracy: 0.8134 - val_loss: 1.4110 - val_accuracy: 0.5563\n",
      "Epoch 10/50\n",
      "18/18 [==============================] - 0s 25ms/step - loss: 0.5451 - accuracy: 0.8380 - val_loss: 1.5167 - val_accuracy: 0.5352\n",
      "Epoch 11/50\n",
      "18/18 [==============================] - 0s 25ms/step - loss: 0.4565 - accuracy: 0.8521 - val_loss: 1.6058 - val_accuracy: 0.5141\n",
      "Epoch 12/50\n",
      "18/18 [==============================] - 0s 25ms/step - loss: 0.4008 - accuracy: 0.8539 - val_loss: 1.8272 - val_accuracy: 0.5070\n",
      "Epoch 13/50\n",
      "18/18 [==============================] - 0s 25ms/step - loss: 0.3467 - accuracy: 0.8715 - val_loss: 1.9880 - val_accuracy: 0.4718\n",
      "Epoch 14/50\n",
      "18/18 [==============================] - 0s 25ms/step - loss: 0.3223 - accuracy: 0.8785 - val_loss: 1.9717 - val_accuracy: 0.4648\n",
      "Epoch 15/50\n",
      "18/18 [==============================] - 0s 24ms/step - loss: 0.3859 - accuracy: 0.8592 - val_loss: 2.0026 - val_accuracy: 0.4225\n",
      "Epoch 16/50\n",
      "18/18 [==============================] - 0s 25ms/step - loss: 0.4300 - accuracy: 0.8556 - val_loss: 1.8989 - val_accuracy: 0.5141\n",
      "Epoch 17/50\n",
      "18/18 [==============================] - 0s 25ms/step - loss: 0.3357 - accuracy: 0.8715 - val_loss: 1.9808 - val_accuracy: 0.4648\n",
      "Epoch 18/50\n",
      "18/18 [==============================] - 0s 26ms/step - loss: 0.2949 - accuracy: 0.9085 - val_loss: 2.0846 - val_accuracy: 0.4930\n",
      "Epoch 19/50\n",
      "18/18 [==============================] - 0s 26ms/step - loss: 0.2650 - accuracy: 0.9173 - val_loss: 2.0723 - val_accuracy: 0.4930\n",
      "Epoch 20/50\n",
      "18/18 [==============================] - 0s 27ms/step - loss: 0.2921 - accuracy: 0.8979 - val_loss: 2.1778 - val_accuracy: 0.4507\n",
      "Epoch 21/50\n",
      "18/18 [==============================] - 1s 29ms/step - loss: 0.2925 - accuracy: 0.8873 - val_loss: 2.2446 - val_accuracy: 0.4437\n",
      "Epoch 22/50\n",
      "18/18 [==============================] - 0s 26ms/step - loss: 0.2666 - accuracy: 0.9032 - val_loss: 2.2175 - val_accuracy: 0.4718\n",
      "Epoch 23/50\n",
      "18/18 [==============================] - 0s 26ms/step - loss: 0.2526 - accuracy: 0.9243 - val_loss: 2.3013 - val_accuracy: 0.4437\n",
      "Epoch 24/50\n",
      "18/18 [==============================] - 0s 25ms/step - loss: 0.2262 - accuracy: 0.9313 - val_loss: 2.3014 - val_accuracy: 0.4859\n",
      "Epoch 25/50\n",
      "18/18 [==============================] - 0s 25ms/step - loss: 0.2158 - accuracy: 0.9296 - val_loss: 2.3073 - val_accuracy: 0.4789\n",
      "Epoch 26/50\n",
      "18/18 [==============================] - 0s 25ms/step - loss: 0.2047 - accuracy: 0.9401 - val_loss: 2.3527 - val_accuracy: 0.4296\n",
      "Epoch 27/50\n",
      "18/18 [==============================] - 0s 26ms/step - loss: 0.2014 - accuracy: 0.9366 - val_loss: 2.4061 - val_accuracy: 0.4296\n",
      "Epoch 28/50\n",
      "18/18 [==============================] - 0s 25ms/step - loss: 0.1887 - accuracy: 0.9401 - val_loss: 2.3647 - val_accuracy: 0.4789\n",
      "Epoch 29/50\n",
      "18/18 [==============================] - 0s 25ms/step - loss: 0.1845 - accuracy: 0.9349 - val_loss: 2.3760 - val_accuracy: 0.4648\n",
      "Epoch 30/50\n",
      "18/18 [==============================] - 0s 25ms/step - loss: 0.1675 - accuracy: 0.9401 - val_loss: 2.4181 - val_accuracy: 0.4718\n",
      "Epoch 31/50\n",
      "18/18 [==============================] - 0s 25ms/step - loss: 0.1744 - accuracy: 0.9419 - val_loss: 2.3609 - val_accuracy: 0.5070\n",
      "Epoch 32/50\n",
      "18/18 [==============================] - 0s 24ms/step - loss: 0.1875 - accuracy: 0.9472 - val_loss: 2.3527 - val_accuracy: 0.4507\n",
      "Epoch 33/50\n",
      "18/18 [==============================] - 0s 24ms/step - loss: 0.1573 - accuracy: 0.9560 - val_loss: 2.3092 - val_accuracy: 0.5141\n",
      "Epoch 34/50\n",
      "18/18 [==============================] - 0s 24ms/step - loss: 0.1826 - accuracy: 0.9489 - val_loss: 2.4593 - val_accuracy: 0.4507\n",
      "Epoch 35/50\n",
      "18/18 [==============================] - 0s 24ms/step - loss: 0.1935 - accuracy: 0.9507 - val_loss: 2.3425 - val_accuracy: 0.4155\n",
      "Epoch 36/50\n",
      "18/18 [==============================] - 0s 25ms/step - loss: 0.1665 - accuracy: 0.9525 - val_loss: 2.2963 - val_accuracy: 0.4930\n",
      "Epoch 37/50\n",
      "18/18 [==============================] - 0s 25ms/step - loss: 0.1336 - accuracy: 0.9648 - val_loss: 2.3221 - val_accuracy: 0.5000\n",
      "Epoch 38/50\n",
      "18/18 [==============================] - 0s 25ms/step - loss: 0.1277 - accuracy: 0.9613 - val_loss: 2.4370 - val_accuracy: 0.4366\n",
      "Epoch 39/50\n",
      "18/18 [==============================] - 0s 25ms/step - loss: 0.1233 - accuracy: 0.9630 - val_loss: 2.4266 - val_accuracy: 0.4648\n",
      "Epoch 40/50\n",
      "18/18 [==============================] - 0s 25ms/step - loss: 0.1167 - accuracy: 0.9683 - val_loss: 2.3356 - val_accuracy: 0.4789\n",
      "Epoch 41/50\n",
      "18/18 [==============================] - 0s 27ms/step - loss: 0.1078 - accuracy: 0.9665 - val_loss: 2.2747 - val_accuracy: 0.5423\n",
      "Epoch 42/50\n",
      "18/18 [==============================] - 0s 25ms/step - loss: 0.1056 - accuracy: 0.9683 - val_loss: 2.3518 - val_accuracy: 0.5000\n",
      "Epoch 43/50\n",
      "18/18 [==============================] - 0s 25ms/step - loss: 0.1067 - accuracy: 0.9683 - val_loss: 2.3996 - val_accuracy: 0.5070\n",
      "Epoch 44/50\n",
      "18/18 [==============================] - 0s 25ms/step - loss: 0.1103 - accuracy: 0.9683 - val_loss: 2.3523 - val_accuracy: 0.5070\n",
      "Epoch 45/50\n",
      "18/18 [==============================] - 0s 25ms/step - loss: 0.0947 - accuracy: 0.9754 - val_loss: 2.4035 - val_accuracy: 0.5070\n",
      "Epoch 46/50\n",
      "18/18 [==============================] - 0s 24ms/step - loss: 0.0777 - accuracy: 0.9806 - val_loss: 2.4330 - val_accuracy: 0.4930\n",
      "Epoch 47/50\n",
      "18/18 [==============================] - 0s 25ms/step - loss: 0.0704 - accuracy: 0.9806 - val_loss: 2.4831 - val_accuracy: 0.5070\n",
      "Epoch 48/50\n",
      "18/18 [==============================] - 0s 25ms/step - loss: 0.0742 - accuracy: 0.9842 - val_loss: 2.5625 - val_accuracy: 0.4507\n",
      "Epoch 49/50\n",
      "18/18 [==============================] - 0s 26ms/step - loss: 0.1204 - accuracy: 0.9630 - val_loss: 2.7344 - val_accuracy: 0.4718\n",
      "Epoch 50/50\n",
      "18/18 [==============================] - 0s 25ms/step - loss: 0.0933 - accuracy: 0.9771 - val_loss: 2.4285 - val_accuracy: 0.5423\n",
      "CPU times: user 6 µs, sys: 1e+03 ns, total: 7 µs\n",
      "Wall time: 14.5 µs\n"
     ]
    }
   ],
   "source": [
    "num_epochs = 50\n",
    "\n",
    "# Train the model\n",
    "history_adding_lstm = model.fit(X_train_padded, y_train, epochs=num_epochs, validation_data=(X_test_padded, y_test))\n",
    "%time"
   ]
  },
  {
   "cell_type": "markdown",
   "metadata": {},
   "source": [
    "#### Evaluation"
   ]
  },
  {
   "cell_type": "markdown",
   "metadata": {},
   "source": [
    "##### Accuracy"
   ]
  },
  {
   "cell_type": "code",
   "execution_count": 790,
   "metadata": {},
   "outputs": [
    {
     "data": {
      "image/png": "[encoded data removed]",
      "text/plain": [
       "<Figure size 432x288 with 1 Axes>"
      ]
     },
     "metadata": {
      "needs_background": "light"
     },
     "output_type": "display_data"
    },
    {
     "data": {
      "image/png": "[encoded data removed]",
      "text/plain": [
       "<Figure size 432x288 with 1 Axes>"
      ]
     },
     "metadata": {
      "needs_background": "light"
     },
     "output_type": "display_data"
    }
   ],
   "source": [
    "plot_graphs(history_embed_conv, \"accuracy\", \"Embedding + Conv1d + FCN \")\n",
    "plot_graphs(history_adding_lstm,\"accuracy\", \"Embeding + Conv1d+ LSTM + FCN\")"
   ]
  },
  {
   "cell_type": "markdown",
   "metadata": {},
   "source": [
    "##### Loss"
   ]
  },
  {
   "cell_type": "code",
   "execution_count": 791,
   "metadata": {},
   "outputs": [
    {
     "data": {
      "image/png": "[encoded data removed]",
      "text/plain": [
       "<Figure size 432x288 with 1 Axes>"
      ]
     },
     "metadata": {
      "needs_background": "light"
     },
     "output_type": "display_data"
    },
    {
     "data": {
      "image/png": "[encoded data removed]",
      "text/plain": [
       "<Figure size 432x288 with 1 Axes>"
      ]
     },
     "metadata": {
      "needs_background": "light"
     },
     "output_type": "display_data"
    }
   ],
   "source": [
    "plot_graphs(history_embed_conv, \"loss\", \"Embeding + FCN\")\n",
    "plot_graphs(history_adding_lstm,\"loss\", \"Embeding + LSTM + FCN\")"
   ]
  },
  {
   "cell_type": "markdown",
   "metadata": {},
   "source": [
    "##### Classification Report"
   ]
  },
  {
   "cell_type": "code",
   "execution_count": 792,
   "metadata": {},
   "outputs": [
    {
     "name": "stdout",
     "output_type": "stream",
     "text": [
      "5/5 [==============================] - 2s 9ms/step\n",
      "                      precision    recall  f1-score   support\n",
      "\n",
      "      VLE and Module       0.49      0.68      0.57        31\n",
      "   Hardware and Room       0.54      0.45      0.49        42\n",
      "                Mail       0.67      0.18      0.29        11\n",
      " Software and Access       0.56      0.63      0.59        51\n",
      "Account and Password       0.75      0.43      0.55         7\n",
      "\n",
      "            accuracy                           0.54       142\n",
      "           macro avg       0.60      0.47      0.50       142\n",
      "        weighted avg       0.56      0.54      0.53       142\n",
      "\n"
     ]
    }
   ],
   "source": [
    "y_pred = model.predict(X_test_padded)\n",
    "y_pred = np.argmax(y_pred,axis=1)\n",
    "print(classification_report(y_test, y_pred, target_names= label))"
   ]
  },
  {
   "cell_type": "markdown",
   "metadata": {},
   "source": [
    "💡 the loss should be better after added LSTM, but because we just have 710 row and 15% of it (107) row only is used as test and the test is too lame we can see on classification report above that Mail only have 5 data as test and account account and Password only 6 row meanwhile other data have 24+ (four time larger than mail data) it very affect the lost."
   ]
  },
  {
   "cell_type": "markdown",
   "metadata": {},
   "source": [
    "## Testing data"
   ]
  },
  {
   "cell_type": "code",
   "execution_count": 802,
   "metadata": {},
   "outputs": [],
   "source": [
    "texts = \"I buy laptop when VGA price going up and it stuck my head since the VGA getting low and low\""
   ]
  },
  {
   "cell_type": "code",
   "execution_count": 804,
   "metadata": {},
   "outputs": [
    {
     "data": {
      "text/plain": [
       "<bound method Tokenizer.get_config of <keras.preprocessing.text.Tokenizer object at 0x7fd941412e20>>"
      ]
     },
     "execution_count": 804,
     "metadata": {},
     "output_type": "execute_result"
    }
   ],
   "source": [
    "tokenizer."
   ]
  },
  {
   "cell_type": "code",
   "execution_count": null,
   "metadata": {},
   "outputs": [],
   "source": [
    "def predict_text(Tokenizer, pad_sequences,text) :\n",
    "    sequences = Tokenizer.texts_to_sequences(text)\n",
    "    padded_sequences = pad_sequences\n",
    "    "
   ]
  },
  {
   "cell_type": "code",
   "execution_count": 799,
   "metadata": {},
   "outputs": [
    {
     "name": "stdout",
     "output_type": "stream",
     "text": [
      "1/1 [==============================] - 0s 56ms/step\n"
     ]
    },
    {
     "data": {
      "text/plain": [
       "array([[0.8621031 , 0.08898301, 0.00192134, 0.04548291, 0.00150971]],\n",
       "      dtype=float32)"
      ]
     },
     "execution_count": 799,
     "metadata": {},
     "output_type": "execute_result"
    }
   ],
   "source": [
    "model.predict(pad_sequences(tokenizer.texts_to_sequences(text), maxlen=maxlen, padding=padding,truncating=truncating))"
   ]
  },
  {
   "cell_type": "markdown",
   "metadata": {},
   "source": [
    "## Resume, Tips and Trick (don't have to follow)"
   ]
  },
  {
   "cell_type": "markdown",
   "metadata": {},
   "source": [
    "1. Don't set the num_words of the Tokenizer so u will get all words in all sentence as the vocab <br>\n",
    "2. if you build stacked CNN, example first CNN is 8 filters so the second CNN should be 16 the third is 32 and so on <br>\n",
    "3. if you build stacked RNN, example first CNN is 16 units, the second RNN should be 8 units <br>\n",
    "4. if you build stacked hidden layer, example first layer is 16 then the second should be 8"
   ]
  }
 ],
 "metadata": {
  "colab": {
   "collapsed_sections": [],
   "provenance": []
  },
  "kernelspec": {
   "display_name": "Python 3 (ipykernel)",
   "language": "python",
   "name": "python3"
  },
  "language_info": {
   "codemirror_mode": {
    "name": "ipython",
    "version": 3
   },
   "file_extension": ".py",
   "mimetype": "text/x-python",
   "name": "python",
   "nbconvert_exporter": "python",
   "pygments_lexer": "ipython3",
   "version": "3.9.13"
  }
 },
 "nbformat": 4,
 "nbformat_minor": 4
}

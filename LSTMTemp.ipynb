{
 "cells": [
  {
   "cell_type": "code",
   "execution_count": 1,
   "metadata": {
    "id": "AJwBCvdW1UrV"
   },
   "outputs": [],
   "source": [
    "import tensorflow as tf\n",
    "import pandas as pd\n",
    "import numpy as np\n",
    "\n",
    "from sklearn.model_selection import train_test_split\n",
    "\n",
    "from tensorflow.keras.preprocessing.text import Tokenizer\n",
    "from tensorflow.keras.preprocessing.sequence import pad_sequences"
   ]
  },
  {
   "cell_type": "markdown",
   "metadata": {
    "tags": []
   },
   "source": [
    "## Data Preparation"
   ]
  },
  {
   "cell_type": "code",
   "execution_count": 2,
   "metadata": {
    "tags": []
   },
   "outputs": [
    {
     "data": {
      "text/html": [
       "<div>\n",
       "<style scoped>\n",
       "    .dataframe tbody tr th:only-of-type {\n",
       "        vertical-align: middle;\n",
       "    }\n",
       "\n",
       "    .dataframe tbody tr th {\n",
       "        vertical-align: top;\n",
       "    }\n",
       "\n",
       "    .dataframe thead th {\n",
       "        text-align: right;\n",
       "    }\n",
       "</style>\n",
       "<table border=\"1\" class=\"dataframe\">\n",
       "  <thead>\n",
       "    <tr style=\"text-align: right;\">\n",
       "      <th></th>\n",
       "      <th>clean_text</th>\n",
       "      <th>Dominant Label</th>\n",
       "    </tr>\n",
       "    <tr>\n",
       "      <th>Count</th>\n",
       "      <th></th>\n",
       "      <th></th>\n",
       "    </tr>\n",
       "  </thead>\n",
       "  <tbody>\n",
       "    <tr>\n",
       "      <th>0</th>\n",
       "      <td>module transfer  module leader module  copy co...</td>\n",
       "      <td>VLE and Module</td>\n",
       "    </tr>\n",
       "    <tr>\n",
       "      <th>1</th>\n",
       "      <td>compromise manatee         might    send  add...</td>\n",
       "      <td>Unclassifiable</td>\n",
       "    </tr>\n",
       "    <tr>\n",
       "      <th>2</th>\n",
       "      <td>reassign setup rove mikes room  lib opsbusadm...</td>\n",
       "      <td>Hardware and Room</td>\n",
       "    </tr>\n",
       "    <tr>\n",
       "      <th>3</th>\n",
       "      <td>conference  facilities room next wednesday   b...</td>\n",
       "      <td>Hardware and Room</td>\n",
       "    </tr>\n",
       "    <tr>\n",
       "      <th>4</th>\n",
       "      <td>room  seem lack function mfd  room  scan usb ...</td>\n",
       "      <td>Hardware and Room</td>\n",
       "    </tr>\n",
       "  </tbody>\n",
       "</table>\n",
       "</div>"
      ],
      "text/plain": [
       "                                              clean_text     Dominant Label\n",
       "Count                                                                      \n",
       "0      module transfer  module leader module  copy co...     VLE and Module\n",
       "1       compromise manatee         might    send  add...     Unclassifiable\n",
       "2       reassign setup rove mikes room  lib opsbusadm...  Hardware and Room\n",
       "3      conference  facilities room next wednesday   b...  Hardware and Room\n",
       "4       room  seem lack function mfd  room  scan usb ...  Hardware and Room"
      ]
     },
     "execution_count": 2,
     "metadata": {},
     "output_type": "execute_result"
    }
   ],
   "source": [
    "df = pd.read_csv(\"/notebooks/Text-Multiclass-Classification/data_input/770 Whole Thread LabelledU.csv\", index_col=0)\n",
    "df = df[['clean_text', 'Dominant Label']]\n",
    "df.head()"
   ]
  },
  {
   "cell_type": "markdown",
   "metadata": {},
   "source": [
    "### Remove row labeled : ['unclassifiable', 'None', and 'Network and database']"
   ]
  },
  {
   "cell_type": "code",
   "execution_count": 3,
   "metadata": {
    "tags": []
   },
   "outputs": [
    {
     "data": {
      "text/plain": [
       "Software and Access     271\n",
       "VLE and Module          204\n",
       "Hardware and Room       150\n",
       "Mail                     47\n",
       "Account and Password     40\n",
       "Unclassifiable           30\n",
       "Network and Database     25\n",
       "None                      2\n",
       "Name: Dominant Label, dtype: int64"
      ]
     },
     "execution_count": 3,
     "metadata": {},
     "output_type": "execute_result"
    }
   ],
   "source": [
    "df[\"Dominant Label\"].value_counts()"
   ]
  },
  {
   "cell_type": "code",
   "execution_count": 4,
   "metadata": {},
   "outputs": [],
   "source": [
    "unclassifiable_mask = (df['Dominant Label'] != 'Unclassifiable')\n",
    "none_mask = (df['Dominant Label'] != 'None')\n",
    "network_database_mask = (df['Dominant Label'] != 'Network and Database')"
   ]
  },
  {
   "cell_type": "code",
   "execution_count": 5,
   "metadata": {},
   "outputs": [
    {
     "data": {
      "text/plain": [
       "Software and Access     271\n",
       "VLE and Module          204\n",
       "Hardware and Room       150\n",
       "Mail                     47\n",
       "Account and Password     40\n",
       "Name: Dominant Label, dtype: int64"
      ]
     },
     "execution_count": 5,
     "metadata": {},
     "output_type": "execute_result"
    }
   ],
   "source": [
    "df = df[unclassifiable_mask & none_mask & network_database_mask]\n",
    "df['Dominant Label'].value_counts()"
   ]
  },
  {
   "cell_type": "code",
   "execution_count": 6,
   "metadata": {},
   "outputs": [],
   "source": [
    "label = df['Dominant Label'].unique()"
   ]
  },
  {
   "cell_type": "code",
   "execution_count": 7,
   "metadata": {},
   "outputs": [],
   "source": [
    "# Encode the Dominant Label to integer value\n",
    "\n",
    "df['Dominant Label'] = df['Dominant Label'].map({'VLE and Module' : 0,\n",
    "                                                 'Hardware and Room' : 1,\n",
    "                                                 'Mail' : 2,\n",
    "                                                 'Software and Access' : 3,\n",
    "                                                 'Account and Password' : 4 })                                         \n",
    "\n",
    "# it's oke if we got Warning after running this code"
   ]
  },
  {
   "cell_type": "markdown",
   "metadata": {},
   "source": [
    "### Handle Missing and Duplicate data"
   ]
  },
  {
   "cell_type": "code",
   "execution_count": 8,
   "metadata": {},
   "outputs": [
    {
     "data": {
      "text/plain": [
       "clean_text        0\n",
       "Dominant Label    0\n",
       "dtype: int64"
      ]
     },
     "execution_count": 8,
     "metadata": {},
     "output_type": "execute_result"
    }
   ],
   "source": [
    "# Detect missing values\n",
    "# isna() will check column if there is Nan, null, or na data it will return True  if not then False\n",
    "# Since True = 1 and False = 0. when we sum together each True and False then we will know how many missing values is\n",
    "df.isna().sum()"
   ]
  },
  {
   "cell_type": "code",
   "execution_count": 9,
   "metadata": {},
   "outputs": [
    {
     "data": {
      "text/plain": [
       "3"
      ]
     },
     "execution_count": 9,
     "metadata": {},
     "output_type": "execute_result"
    }
   ],
   "source": [
    "True + True + True"
   ]
  },
  {
   "cell_type": "code",
   "execution_count": 10,
   "metadata": {},
   "outputs": [
    {
     "data": {
      "text/html": [
       "<div>\n",
       "<style scoped>\n",
       "    .dataframe tbody tr th:only-of-type {\n",
       "        vertical-align: middle;\n",
       "    }\n",
       "\n",
       "    .dataframe tbody tr th {\n",
       "        vertical-align: top;\n",
       "    }\n",
       "\n",
       "    .dataframe thead th {\n",
       "        text-align: right;\n",
       "    }\n",
       "</style>\n",
       "<table border=\"1\" class=\"dataframe\">\n",
       "  <thead>\n",
       "    <tr style=\"text-align: right;\">\n",
       "      <th></th>\n",
       "      <th>clean_text</th>\n",
       "      <th>Dominant Label</th>\n",
       "    </tr>\n",
       "    <tr>\n",
       "      <th>Count</th>\n",
       "      <th></th>\n",
       "      <th></th>\n",
       "    </tr>\n",
       "  </thead>\n",
       "  <tbody>\n",
       "    <tr>\n",
       "      <th>91</th>\n",
       "      <td>add mail address brl mail list  colleague  add...</td>\n",
       "      <td>2</td>\n",
       "    </tr>\n",
       "    <tr>\n",
       "      <th>95</th>\n",
       "      <td>add mail address brl mail list  colleague  add...</td>\n",
       "      <td>2</td>\n",
       "    </tr>\n",
       "    <tr>\n",
       "      <th>102</th>\n",
       "      <td>add mail address brl mail list  colleague  add...</td>\n",
       "      <td>2</td>\n",
       "    </tr>\n",
       "  </tbody>\n",
       "</table>\n",
       "</div>"
      ],
      "text/plain": [
       "                                              clean_text  Dominant Label\n",
       "Count                                                                   \n",
       "91     add mail address brl mail list  colleague  add...               2\n",
       "95     add mail address brl mail list  colleague  add...               2\n",
       "102    add mail address brl mail list  colleague  add...               2"
      ]
     },
     "execution_count": 10,
     "metadata": {},
     "output_type": "execute_result"
    }
   ],
   "source": [
    "# Detect Duplicate data\n",
    "\n",
    "df[df.duplicated(keep = False)]\n",
    "\n",
    "# df.duplicated when we set keep = False : Mark all duplicates as True."
   ]
  },
  {
   "cell_type": "code",
   "execution_count": 11,
   "metadata": {},
   "outputs": [],
   "source": [
    "# Remove the duplicates data\n",
    "df = df.drop_duplicates()"
   ]
  },
  {
   "cell_type": "code",
   "execution_count": 12,
   "metadata": {},
   "outputs": [
    {
     "data": {
      "text/html": [
       "<div>\n",
       "<style scoped>\n",
       "    .dataframe tbody tr th:only-of-type {\n",
       "        vertical-align: middle;\n",
       "    }\n",
       "\n",
       "    .dataframe tbody tr th {\n",
       "        vertical-align: top;\n",
       "    }\n",
       "\n",
       "    .dataframe thead th {\n",
       "        text-align: right;\n",
       "    }\n",
       "</style>\n",
       "<table border=\"1\" class=\"dataframe\">\n",
       "  <thead>\n",
       "    <tr style=\"text-align: right;\">\n",
       "      <th></th>\n",
       "      <th>clean_text</th>\n",
       "      <th>Dominant Label</th>\n",
       "    </tr>\n",
       "    <tr>\n",
       "      <th>Count</th>\n",
       "      <th></th>\n",
       "      <th></th>\n",
       "    </tr>\n",
       "  </thead>\n",
       "  <tbody>\n",
       "    <tr>\n",
       "      <th>0</th>\n",
       "      <td>module transfer  module leader module  copy co...</td>\n",
       "      <td>0</td>\n",
       "    </tr>\n",
       "    <tr>\n",
       "      <th>2</th>\n",
       "      <td>reassign setup rove mikes room  lib opsbusadm...</td>\n",
       "      <td>1</td>\n",
       "    </tr>\n",
       "    <tr>\n",
       "      <th>3</th>\n",
       "      <td>conference  facilities room next wednesday   b...</td>\n",
       "      <td>1</td>\n",
       "    </tr>\n",
       "    <tr>\n",
       "      <th>4</th>\n",
       "      <td>room  seem lack function mfd  room  scan usb ...</td>\n",
       "      <td>1</td>\n",
       "    </tr>\n",
       "    <tr>\n",
       "      <th>5</th>\n",
       "      <td>phone  frustrate polycom phone sign skype wont...</td>\n",
       "      <td>1</td>\n",
       "    </tr>\n",
       "    <tr>\n",
       "      <th>...</th>\n",
       "      <td>...</td>\n",
       "      <td>...</td>\n",
       "    </tr>\n",
       "    <tr>\n",
       "      <th>764</th>\n",
       "      <td>authenticator  failure  sign anything  microso...</td>\n",
       "      <td>2</td>\n",
       "    </tr>\n",
       "    <tr>\n",
       "      <th>765</th>\n",
       "      <td>password    password way reset apparently reg...</td>\n",
       "      <td>1</td>\n",
       "    </tr>\n",
       "    <tr>\n",
       "      <th>766</th>\n",
       "      <td>phone line  student support line  support phon...</td>\n",
       "      <td>3</td>\n",
       "    </tr>\n",
       "    <tr>\n",
       "      <th>767</th>\n",
       "      <td>cannot  chrome cannot  google chrome laptop  t...</td>\n",
       "      <td>0</td>\n",
       "    </tr>\n",
       "    <tr>\n",
       "      <th>768</th>\n",
       "      <td>attach timetable programme activities include...</td>\n",
       "      <td>0</td>\n",
       "    </tr>\n",
       "  </tbody>\n",
       "</table>\n",
       "<p>710 rows × 2 columns</p>\n",
       "</div>"
      ],
      "text/plain": [
       "                                              clean_text  Dominant Label\n",
       "Count                                                                   \n",
       "0      module transfer  module leader module  copy co...               0\n",
       "2       reassign setup rove mikes room  lib opsbusadm...               1\n",
       "3      conference  facilities room next wednesday   b...               1\n",
       "4       room  seem lack function mfd  room  scan usb ...               1\n",
       "5      phone  frustrate polycom phone sign skype wont...               1\n",
       "...                                                  ...             ...\n",
       "764    authenticator  failure  sign anything  microso...               2\n",
       "765     password    password way reset apparently reg...               1\n",
       "766    phone line  student support line  support phon...               3\n",
       "767    cannot  chrome cannot  google chrome laptop  t...               0\n",
       "768     attach timetable programme activities include...               0\n",
       "\n",
       "[710 rows x 2 columns]"
      ]
     },
     "execution_count": 12,
     "metadata": {},
     "output_type": "execute_result"
    }
   ],
   "source": [
    "df"
   ]
  },
  {
   "cell_type": "code",
   "execution_count": 13,
   "metadata": {},
   "outputs": [],
   "source": [
    "X, y = df['clean_text'], df['Dominant Label']"
   ]
  },
  {
   "cell_type": "markdown",
   "metadata": {},
   "source": [
    "### Train Test Split\n",
    "\n"
   ]
  },
  {
   "cell_type": "code",
   "execution_count": 14,
   "metadata": {},
   "outputs": [],
   "source": [
    "X_train, X_test, y_train, y_test = train_test_split(X, y)"
   ]
  },
  {
   "cell_type": "markdown",
   "metadata": {},
   "source": [
    "### Preprocessing Data"
   ]
  },
  {
   "cell_type": "markdown",
   "metadata": {},
   "source": [
    "NLTK vs Tensorflow"
   ]
  },
  {
   "cell_type": "markdown",
   "metadata": {},
   "source": [
    "NLTK : usually we need to below step :<br>\n",
    "    1. Case Folding <br>\n",
    "    2. Tokenization <br>\n",
    "    3. Stop words removal <br>\n",
    "    4. Digit Removal <br>\n",
    "    5. Punctuation Removal <br>\n",
    "    6. Non ASCII-Removal \n",
    "    \n",
    "when we come to Tensorflow, we just need to do :<br>\n",
    "    1. Tokenization <br>\n",
    "    2. stop words removal (optional)<br>\n",
    "because Tokenization will include to handle the Case Folding, Digit Removal, Punctuation and Non ASCII"
   ]
  },
  {
   "cell_type": "code",
   "execution_count": 15,
   "metadata": {},
   "outputs": [],
   "source": [
    "# Vocabulary size of the tokenizer\n",
    "vocab_size = 150\n",
    "\n",
    "# Maximum length of the padded sequences\n",
    "max_length = 8\n",
    "\n",
    "# Output dimensions of the Embedding layer\n",
    "embedding_dim = 8\n",
    "\n",
    "# Parameters for padding and OOV tokens\n",
    "trunc_type='post'\n",
    "padding_type='post'\n",
    "oov_tok = \"<OOV>\"\n",
    "\n",
    "# Initialize the Tokenizer class\n",
    "tokenizer = Tokenizer(num_words=vocab_size, oov_token=oov_tok)\n",
    "\n",
    "# Generate the word index dictionary\n",
    "tokenizer.fit_on_texts(X_train)\n",
    "word_index = tokenizer.word_index\n",
    "\n",
    "# Generate and pad the training sequences\n",
    "X_train = tokenizer.texts_to_sequences(X_train)\n",
    "X_train_padded = pad_sequences(X_train, maxlen=max_length, padding=padding_type, truncating=trunc_type)\n",
    "\n",
    "# Generate and pad the testing sequences\n",
    "X_test = tokenizer.texts_to_sequences(X_test)\n",
    "X_test_padded = pad_sequences(X_test, maxlen=max_length, padding=padding_type, truncating=trunc_type)\n",
    "\n",
    "# Convert the labels lists into numpy arrays\n",
    "y_train = np.array(y_train)\n",
    "y_test = np.array(y_test)"
   ]
  },
  {
   "cell_type": "markdown",
   "metadata": {},
   "source": [
    "## Modeling"
   ]
  },
  {
   "cell_type": "code",
   "execution_count": 16,
   "metadata": {},
   "outputs": [
    {
     "name": "stdout",
     "output_type": "stream",
     "text": [
      "Model: \"sequential\"\n",
      "_________________________________________________________________\n",
      " Layer (type)                Output Shape              Param #   \n",
      "=================================================================\n",
      " embedding (Embedding)       (None, 8, 8)              1200      \n",
      "                                                                 \n",
      " global_average_pooling1d (G  (None, 8)                0         \n",
      " lobalAveragePooling1D)                                          \n",
      "                                                                 \n",
      " dense (Dense)               (None, 24)                216       \n",
      "                                                                 \n",
      " dense_1 (Dense)             (None, 5)                 125       \n",
      "                                                                 \n",
      "=================================================================\n",
      "Total params: 1,541\n",
      "Trainable params: 1,541\n",
      "Non-trainable params: 0\n",
      "_________________________________________________________________\n"
     ]
    }
   ],
   "source": [
    "# Build the model\n",
    "model = tf.keras.Sequential([\n",
    "    tf.keras.layers.Embedding(vocab_size, embedding_dim, input_length=max_length),\n",
    "    tf.keras.layers.GlobalAveragePooling1D(),\n",
    "    tf.keras.layers.Dense(24, activation='relu'),\n",
    "    tf.keras.layers.Dense(5, activation='softmax')\n",
    "])\n",
    "\n",
    "# Print the model summary\n",
    "model.summary()"
   ]
  },
  {
   "cell_type": "code",
   "execution_count": 17,
   "metadata": {},
   "outputs": [
    {
     "data": {
      "text/plain": [
       "532"
      ]
     },
     "execution_count": 17,
     "metadata": {},
     "output_type": "execute_result"
    }
   ],
   "source": [
    "len(y_train)"
   ]
  },
  {
   "cell_type": "code",
   "execution_count": 18,
   "metadata": {},
   "outputs": [],
   "source": [
    "# Compile the model\n",
    "model.compile(loss='sparse_categorical_crossentropy',optimizer='adam',metrics=['accuracy'])"
   ]
  },
  {
   "cell_type": "code",
   "execution_count": 22,
   "metadata": {},
   "outputs": [
    {
     "name": "stdout",
     "output_type": "stream",
     "text": [
      "Epoch 1/100\n",
      "17/17 [==============================] - 0s 11ms/step - loss: 0.5304 - accuracy: 0.8064 - val_loss: 1.9617 - val_accuracy: 0.4494\n",
      "Epoch 2/100\n",
      "17/17 [==============================] - 0s 8ms/step - loss: 0.5310 - accuracy: 0.8083 - val_loss: 1.9746 - val_accuracy: 0.4551\n",
      "Epoch 3/100\n",
      "17/17 [==============================] - 0s 9ms/step - loss: 0.5297 - accuracy: 0.8045 - val_loss: 1.9803 - val_accuracy: 0.4494\n",
      "Epoch 4/100\n",
      "17/17 [==============================] - 0s 9ms/step - loss: 0.5276 - accuracy: 0.8064 - val_loss: 1.9860 - val_accuracy: 0.4607\n",
      "Epoch 5/100\n",
      "17/17 [==============================] - 0s 8ms/step - loss: 0.5266 - accuracy: 0.8045 - val_loss: 1.9961 - val_accuracy: 0.4551\n",
      "Epoch 6/100\n",
      "17/17 [==============================] - 0s 8ms/step - loss: 0.5256 - accuracy: 0.8083 - val_loss: 2.0021 - val_accuracy: 0.4551\n",
      "Epoch 7/100\n",
      "17/17 [==============================] - 0s 8ms/step - loss: 0.5248 - accuracy: 0.8083 - val_loss: 2.0115 - val_accuracy: 0.4551\n",
      "Epoch 8/100\n",
      "17/17 [==============================] - 0s 8ms/step - loss: 0.5232 - accuracy: 0.8045 - val_loss: 2.0120 - val_accuracy: 0.4494\n",
      "Epoch 9/100\n",
      "17/17 [==============================] - 0s 9ms/step - loss: 0.5229 - accuracy: 0.8102 - val_loss: 2.0278 - val_accuracy: 0.4551\n",
      "Epoch 10/100\n",
      "17/17 [==============================] - 0s 9ms/step - loss: 0.5226 - accuracy: 0.8102 - val_loss: 2.0330 - val_accuracy: 0.4551\n",
      "Epoch 11/100\n",
      "17/17 [==============================] - 0s 9ms/step - loss: 0.5205 - accuracy: 0.8083 - val_loss: 2.0406 - val_accuracy: 0.4494\n",
      "Epoch 12/100\n",
      "17/17 [==============================] - 0s 9ms/step - loss: 0.5199 - accuracy: 0.8064 - val_loss: 2.0444 - val_accuracy: 0.4494\n",
      "Epoch 13/100\n",
      "17/17 [==============================] - 0s 9ms/step - loss: 0.5176 - accuracy: 0.8102 - val_loss: 2.0560 - val_accuracy: 0.4551\n",
      "Epoch 14/100\n",
      "17/17 [==============================] - 0s 8ms/step - loss: 0.5178 - accuracy: 0.8139 - val_loss: 2.0678 - val_accuracy: 0.4551\n",
      "Epoch 15/100\n",
      "17/17 [==============================] - 0s 8ms/step - loss: 0.5168 - accuracy: 0.8102 - val_loss: 2.0661 - val_accuracy: 0.4494\n",
      "Epoch 16/100\n",
      "17/17 [==============================] - 0s 9ms/step - loss: 0.5172 - accuracy: 0.8120 - val_loss: 2.0814 - val_accuracy: 0.4551\n",
      "Epoch 17/100\n",
      "17/17 [==============================] - 0s 8ms/step - loss: 0.5147 - accuracy: 0.8120 - val_loss: 2.0822 - val_accuracy: 0.4494\n",
      "Epoch 18/100\n",
      "17/17 [==============================] - 0s 8ms/step - loss: 0.5157 - accuracy: 0.8139 - val_loss: 2.0936 - val_accuracy: 0.4551\n",
      "Epoch 19/100\n",
      "17/17 [==============================] - 0s 8ms/step - loss: 0.5122 - accuracy: 0.8102 - val_loss: 2.0966 - val_accuracy: 0.4494\n",
      "Epoch 20/100\n",
      "17/17 [==============================] - 0s 8ms/step - loss: 0.5117 - accuracy: 0.8120 - val_loss: 2.1019 - val_accuracy: 0.4494\n",
      "Epoch 21/100\n",
      "17/17 [==============================] - 0s 9ms/step - loss: 0.5105 - accuracy: 0.8139 - val_loss: 2.1162 - val_accuracy: 0.4551\n",
      "Epoch 22/100\n",
      "17/17 [==============================] - 0s 9ms/step - loss: 0.5097 - accuracy: 0.8139 - val_loss: 2.1224 - val_accuracy: 0.4551\n",
      "Epoch 23/100\n",
      "17/17 [==============================] - 0s 9ms/step - loss: 0.5097 - accuracy: 0.8120 - val_loss: 2.1263 - val_accuracy: 0.4551\n",
      "Epoch 24/100\n",
      "17/17 [==============================] - 0s 9ms/step - loss: 0.5081 - accuracy: 0.8120 - val_loss: 2.1348 - val_accuracy: 0.4551\n",
      "Epoch 25/100\n",
      "17/17 [==============================] - 0s 8ms/step - loss: 0.5068 - accuracy: 0.8102 - val_loss: 2.1443 - val_accuracy: 0.4494\n",
      "Epoch 26/100\n",
      "17/17 [==============================] - 0s 8ms/step - loss: 0.5068 - accuracy: 0.8120 - val_loss: 2.1467 - val_accuracy: 0.4494\n",
      "Epoch 27/100\n",
      "17/17 [==============================] - 0s 8ms/step - loss: 0.5060 - accuracy: 0.8139 - val_loss: 2.1547 - val_accuracy: 0.4494\n",
      "Epoch 28/100\n",
      "17/17 [==============================] - 0s 8ms/step - loss: 0.5062 - accuracy: 0.8102 - val_loss: 2.1613 - val_accuracy: 0.4494\n",
      "Epoch 29/100\n",
      "17/17 [==============================] - 0s 10ms/step - loss: 0.5026 - accuracy: 0.8120 - val_loss: 2.1704 - val_accuracy: 0.4494\n",
      "Epoch 30/100\n",
      "17/17 [==============================] - 0s 10ms/step - loss: 0.5052 - accuracy: 0.8195 - val_loss: 2.1781 - val_accuracy: 0.4494\n",
      "Epoch 31/100\n",
      "17/17 [==============================] - 0s 9ms/step - loss: 0.5064 - accuracy: 0.8064 - val_loss: 2.1774 - val_accuracy: 0.4494\n",
      "Epoch 32/100\n",
      "17/17 [==============================] - 0s 9ms/step - loss: 0.5000 - accuracy: 0.8214 - val_loss: 2.1936 - val_accuracy: 0.4494\n",
      "Epoch 33/100\n",
      "17/17 [==============================] - 0s 11ms/step - loss: 0.5002 - accuracy: 0.8177 - val_loss: 2.1978 - val_accuracy: 0.4494\n",
      "Epoch 34/100\n",
      "17/17 [==============================] - 0s 11ms/step - loss: 0.4993 - accuracy: 0.8139 - val_loss: 2.2005 - val_accuracy: 0.4438\n",
      "Epoch 35/100\n",
      "17/17 [==============================] - 0s 10ms/step - loss: 0.4986 - accuracy: 0.8102 - val_loss: 2.2083 - val_accuracy: 0.4438\n",
      "Epoch 36/100\n",
      "17/17 [==============================] - 0s 13ms/step - loss: 0.4985 - accuracy: 0.8177 - val_loss: 2.2151 - val_accuracy: 0.4494\n",
      "Epoch 37/100\n",
      "17/17 [==============================] - 0s 14ms/step - loss: 0.4958 - accuracy: 0.8158 - val_loss: 2.2172 - val_accuracy: 0.4438\n",
      "Epoch 38/100\n",
      "17/17 [==============================] - 0s 11ms/step - loss: 0.4969 - accuracy: 0.8158 - val_loss: 2.2237 - val_accuracy: 0.4438\n",
      "Epoch 39/100\n",
      "17/17 [==============================] - 0s 9ms/step - loss: 0.4940 - accuracy: 0.8214 - val_loss: 2.2318 - val_accuracy: 0.4494\n",
      "Epoch 40/100\n",
      "17/17 [==============================] - 0s 10ms/step - loss: 0.4941 - accuracy: 0.8195 - val_loss: 2.2323 - val_accuracy: 0.4438\n",
      "Epoch 41/100\n",
      "17/17 [==============================] - 0s 11ms/step - loss: 0.4927 - accuracy: 0.8158 - val_loss: 2.2425 - val_accuracy: 0.4438\n",
      "Epoch 42/100\n",
      "17/17 [==============================] - 0s 9ms/step - loss: 0.4914 - accuracy: 0.8233 - val_loss: 2.2501 - val_accuracy: 0.4438\n",
      "Epoch 43/100\n",
      "17/17 [==============================] - 0s 9ms/step - loss: 0.4909 - accuracy: 0.8252 - val_loss: 2.2538 - val_accuracy: 0.4438\n",
      "Epoch 44/100\n",
      "17/17 [==============================] - 0s 9ms/step - loss: 0.4896 - accuracy: 0.8177 - val_loss: 2.2607 - val_accuracy: 0.4438\n",
      "Epoch 45/100\n",
      "17/17 [==============================] - 0s 8ms/step - loss: 0.4897 - accuracy: 0.8214 - val_loss: 2.2672 - val_accuracy: 0.4494\n",
      "Epoch 46/100\n",
      "17/17 [==============================] - 0s 8ms/step - loss: 0.4898 - accuracy: 0.8214 - val_loss: 2.2662 - val_accuracy: 0.4438\n",
      "Epoch 47/100\n",
      "17/17 [==============================] - 0s 9ms/step - loss: 0.4878 - accuracy: 0.8233 - val_loss: 2.2818 - val_accuracy: 0.4494\n",
      "Epoch 48/100\n",
      "17/17 [==============================] - 0s 10ms/step - loss: 0.4857 - accuracy: 0.8177 - val_loss: 2.2856 - val_accuracy: 0.4438\n",
      "Epoch 49/100\n",
      "17/17 [==============================] - 0s 8ms/step - loss: 0.4852 - accuracy: 0.8195 - val_loss: 2.2927 - val_accuracy: 0.4438\n",
      "Epoch 50/100\n",
      "17/17 [==============================] - 0s 8ms/step - loss: 0.4844 - accuracy: 0.8195 - val_loss: 2.2883 - val_accuracy: 0.4438\n",
      "Epoch 51/100\n",
      "17/17 [==============================] - 0s 8ms/step - loss: 0.4861 - accuracy: 0.8271 - val_loss: 2.3074 - val_accuracy: 0.4382\n",
      "Epoch 52/100\n",
      "17/17 [==============================] - 0s 9ms/step - loss: 0.4830 - accuracy: 0.8195 - val_loss: 2.3028 - val_accuracy: 0.4438\n",
      "Epoch 53/100\n",
      "17/17 [==============================] - 0s 9ms/step - loss: 0.4817 - accuracy: 0.8195 - val_loss: 2.3166 - val_accuracy: 0.4382\n",
      "Epoch 54/100\n",
      "17/17 [==============================] - 0s 9ms/step - loss: 0.4805 - accuracy: 0.8177 - val_loss: 2.3194 - val_accuracy: 0.4382\n",
      "Epoch 55/100\n",
      "17/17 [==============================] - 0s 8ms/step - loss: 0.4810 - accuracy: 0.8214 - val_loss: 2.3277 - val_accuracy: 0.4382\n",
      "Epoch 56/100\n",
      "17/17 [==============================] - 0s 8ms/step - loss: 0.4799 - accuracy: 0.8233 - val_loss: 2.3298 - val_accuracy: 0.4382\n",
      "Epoch 57/100\n",
      "17/17 [==============================] - 0s 8ms/step - loss: 0.4784 - accuracy: 0.8214 - val_loss: 2.3398 - val_accuracy: 0.4438\n",
      "Epoch 58/100\n",
      "17/17 [==============================] - 0s 8ms/step - loss: 0.4766 - accuracy: 0.8214 - val_loss: 2.3416 - val_accuracy: 0.4382\n",
      "Epoch 59/100\n",
      "17/17 [==============================] - 0s 8ms/step - loss: 0.4766 - accuracy: 0.8271 - val_loss: 2.3469 - val_accuracy: 0.4438\n",
      "Epoch 60/100\n",
      "17/17 [==============================] - 0s 8ms/step - loss: 0.4770 - accuracy: 0.8252 - val_loss: 2.3469 - val_accuracy: 0.4438\n",
      "Epoch 61/100\n",
      "17/17 [==============================] - 0s 9ms/step - loss: 0.4754 - accuracy: 0.8252 - val_loss: 2.3591 - val_accuracy: 0.4382\n",
      "Epoch 62/100\n",
      "17/17 [==============================] - 0s 8ms/step - loss: 0.4742 - accuracy: 0.8233 - val_loss: 2.3712 - val_accuracy: 0.4382\n",
      "Epoch 63/100\n",
      "17/17 [==============================] - 0s 8ms/step - loss: 0.4732 - accuracy: 0.8233 - val_loss: 2.3693 - val_accuracy: 0.4382\n",
      "Epoch 64/100\n",
      "17/17 [==============================] - 0s 8ms/step - loss: 0.4725 - accuracy: 0.8252 - val_loss: 2.3764 - val_accuracy: 0.4382\n",
      "Epoch 65/100\n",
      "17/17 [==============================] - 0s 10ms/step - loss: 0.4713 - accuracy: 0.8252 - val_loss: 2.3848 - val_accuracy: 0.4382\n",
      "Epoch 66/100\n",
      "17/17 [==============================] - 0s 9ms/step - loss: 0.4726 - accuracy: 0.8195 - val_loss: 2.3856 - val_accuracy: 0.4438\n",
      "Epoch 67/100\n",
      "17/17 [==============================] - 0s 9ms/step - loss: 0.4710 - accuracy: 0.8271 - val_loss: 2.4060 - val_accuracy: 0.4382\n",
      "Epoch 68/100\n",
      "17/17 [==============================] - 0s 9ms/step - loss: 0.4701 - accuracy: 0.8252 - val_loss: 2.4021 - val_accuracy: 0.4382\n",
      "Epoch 69/100\n",
      "17/17 [==============================] - 0s 9ms/step - loss: 0.4675 - accuracy: 0.8252 - val_loss: 2.4065 - val_accuracy: 0.4382\n",
      "Epoch 70/100\n",
      "17/17 [==============================] - 0s 8ms/step - loss: 0.4685 - accuracy: 0.8233 - val_loss: 2.4080 - val_accuracy: 0.4438\n",
      "Epoch 71/100\n",
      "17/17 [==============================] - 0s 9ms/step - loss: 0.4691 - accuracy: 0.8308 - val_loss: 2.4269 - val_accuracy: 0.4382\n",
      "Epoch 72/100\n",
      "17/17 [==============================] - 0s 9ms/step - loss: 0.4673 - accuracy: 0.8252 - val_loss: 2.4268 - val_accuracy: 0.4382\n",
      "Epoch 73/100\n",
      "17/17 [==============================] - 0s 8ms/step - loss: 0.4647 - accuracy: 0.8252 - val_loss: 2.4324 - val_accuracy: 0.4382\n",
      "Epoch 74/100\n",
      "17/17 [==============================] - 0s 9ms/step - loss: 0.4656 - accuracy: 0.8271 - val_loss: 2.4311 - val_accuracy: 0.4382\n",
      "Epoch 75/100\n",
      "17/17 [==============================] - 0s 9ms/step - loss: 0.4637 - accuracy: 0.8271 - val_loss: 2.4458 - val_accuracy: 0.4438\n",
      "Epoch 76/100\n",
      "17/17 [==============================] - 0s 9ms/step - loss: 0.4630 - accuracy: 0.8233 - val_loss: 2.4420 - val_accuracy: 0.4438\n",
      "Epoch 77/100\n",
      "17/17 [==============================] - 0s 9ms/step - loss: 0.4619 - accuracy: 0.8233 - val_loss: 2.4489 - val_accuracy: 0.4438\n",
      "Epoch 78/100\n",
      "17/17 [==============================] - 0s 8ms/step - loss: 0.4615 - accuracy: 0.8271 - val_loss: 2.4626 - val_accuracy: 0.4382\n",
      "Epoch 79/100\n",
      "17/17 [==============================] - 0s 8ms/step - loss: 0.4608 - accuracy: 0.8271 - val_loss: 2.4652 - val_accuracy: 0.4438\n",
      "Epoch 80/100\n",
      "17/17 [==============================] - 0s 9ms/step - loss: 0.4608 - accuracy: 0.8233 - val_loss: 2.4701 - val_accuracy: 0.4382\n",
      "Epoch 81/100\n",
      "17/17 [==============================] - 0s 9ms/step - loss: 0.4601 - accuracy: 0.8271 - val_loss: 2.4806 - val_accuracy: 0.4382\n",
      "Epoch 82/100\n",
      "17/17 [==============================] - 0s 8ms/step - loss: 0.4585 - accuracy: 0.8233 - val_loss: 2.4755 - val_accuracy: 0.4438\n",
      "Epoch 83/100\n",
      "17/17 [==============================] - 0s 8ms/step - loss: 0.4579 - accuracy: 0.8271 - val_loss: 2.4797 - val_accuracy: 0.4494\n",
      "Epoch 84/100\n",
      "17/17 [==============================] - 0s 8ms/step - loss: 0.4577 - accuracy: 0.8271 - val_loss: 2.4921 - val_accuracy: 0.4494\n",
      "Epoch 85/100\n",
      "17/17 [==============================] - 0s 8ms/step - loss: 0.4583 - accuracy: 0.8308 - val_loss: 2.4923 - val_accuracy: 0.4438\n",
      "Epoch 86/100\n",
      "17/17 [==============================] - 0s 8ms/step - loss: 0.4546 - accuracy: 0.8308 - val_loss: 2.5085 - val_accuracy: 0.4438\n",
      "Epoch 87/100\n",
      "17/17 [==============================] - 0s 9ms/step - loss: 0.4557 - accuracy: 0.8252 - val_loss: 2.5150 - val_accuracy: 0.4438\n",
      "Epoch 88/100\n",
      "17/17 [==============================] - 0s 9ms/step - loss: 0.4529 - accuracy: 0.8252 - val_loss: 2.5069 - val_accuracy: 0.4494\n",
      "Epoch 89/100\n",
      "17/17 [==============================] - 0s 9ms/step - loss: 0.4560 - accuracy: 0.8289 - val_loss: 2.5115 - val_accuracy: 0.4494\n",
      "Epoch 90/100\n",
      "17/17 [==============================] - 0s 9ms/step - loss: 0.4524 - accuracy: 0.8289 - val_loss: 2.5258 - val_accuracy: 0.4494\n",
      "Epoch 91/100\n",
      "17/17 [==============================] - 0s 9ms/step - loss: 0.4517 - accuracy: 0.8271 - val_loss: 2.5285 - val_accuracy: 0.4494\n",
      "Epoch 92/100\n",
      "17/17 [==============================] - 0s 8ms/step - loss: 0.4524 - accuracy: 0.8252 - val_loss: 2.5323 - val_accuracy: 0.4494\n",
      "Epoch 93/100\n",
      "17/17 [==============================] - 0s 8ms/step - loss: 0.4525 - accuracy: 0.8271 - val_loss: 2.5461 - val_accuracy: 0.4438\n",
      "Epoch 94/100\n",
      "17/17 [==============================] - 0s 8ms/step - loss: 0.4520 - accuracy: 0.8195 - val_loss: 2.5416 - val_accuracy: 0.4438\n",
      "Epoch 95/100\n",
      "17/17 [==============================] - 0s 8ms/step - loss: 0.4537 - accuracy: 0.8271 - val_loss: 2.5475 - val_accuracy: 0.4438\n",
      "Epoch 96/100\n",
      "17/17 [==============================] - 0s 8ms/step - loss: 0.4527 - accuracy: 0.8308 - val_loss: 2.5543 - val_accuracy: 0.4494\n",
      "Epoch 97/100\n",
      "17/17 [==============================] - 0s 8ms/step - loss: 0.4469 - accuracy: 0.8271 - val_loss: 2.5618 - val_accuracy: 0.4438\n",
      "Epoch 98/100\n",
      "17/17 [==============================] - 0s 9ms/step - loss: 0.4482 - accuracy: 0.8308 - val_loss: 2.5703 - val_accuracy: 0.4494\n",
      "Epoch 99/100\n",
      "17/17 [==============================] - 0s 9ms/step - loss: 0.4457 - accuracy: 0.8252 - val_loss: 2.5669 - val_accuracy: 0.4494\n",
      "Epoch 100/100\n",
      "17/17 [==============================] - 0s 8ms/step - loss: 0.4491 - accuracy: 0.8214 - val_loss: 2.5746 - val_accuracy: 0.4382\n"
     ]
    }
   ],
   "source": [
    "num_epochs = 100\n",
    "\n",
    "# Train the model\n",
    "history = model.fit(X_train_padded, y_train, epochs=num_epochs, validation_data=(X_test_padded, y_test), verbose=1)"
   ]
  },
  {
   "cell_type": "code",
   "execution_count": 21,
   "metadata": {},
   "outputs": [
    {
     "data": {
      "image/png": "[encoded data removed]",
      "text/plain": [
       "<Figure size 432x288 with 1 Axes>"
      ]
     },
     "metadata": {
      "needs_background": "light"
     },
     "output_type": "display_data"
    },
    {
     "data": {
      "image/png": "[encoded data removed]",
      "text/plain": [
       "<Figure size 432x288 with 1 Axes>"
      ]
     },
     "metadata": {
      "needs_background": "light"
     },
     "output_type": "display_data"
    }
   ],
   "source": [
    "import matplotlib.pyplot as plt\n",
    "\n",
    "# Plot utility\n",
    "def plot_graphs(history, string):\n",
    "  plt.plot(history.history[string])\n",
    "  plt.plot(history.history['val_'+string])\n",
    "  plt.xlabel(\"Epochs\")\n",
    "  plt.ylabel(string)\n",
    "  plt.legend([string, 'val_'+string])\n",
    "  plt.show()\n",
    "  \n",
    "# Plot the accuracy and loss\n",
    "plot_graphs(history, \"accuracy\")\n",
    "plot_graphs(history, \"loss\")"
   ]
  },
  {
   "cell_type": "code",
   "execution_count": null,
   "metadata": {},
   "outputs": [],
   "source": []
  }
 ],
 "metadata": {
  "colab": {
   "collapsed_sections": [],
   "provenance": []
  },
  "kernelspec": {
   "display_name": "Python 3 (ipykernel)",
   "language": "python",
   "name": "python3"
  },
  "language_info": {
   "codemirror_mode": {
    "name": "ipython",
    "version": 3
   },
   "file_extension": ".py",
   "mimetype": "text/x-python",
   "name": "python",
   "nbconvert_exporter": "python",
   "pygments_lexer": "ipython3",
   "version": "3.9.13"
  }
 },
 "nbformat": 4,
 "nbformat_minor": 4
}

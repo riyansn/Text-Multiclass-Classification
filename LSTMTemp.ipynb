{
 "cells": [
  {
   "cell_type": "code",
   "execution_count": 177,
   "metadata": {
    "id": "AJwBCvdW1UrV"
   },
   "outputs": [],
   "source": [
    "import tensorflow as tf\n",
    "import pandas as pd\n",
    "import numpy as np\n",
    "\n",
    "from sklearn.model_selection import train_test_split\n",
    "from sklearn.metrics import classification_report\n",
    "\n",
    "from tensorflow.keras.preprocessing.text import Tokenizer\n",
    "from tensorflow.keras.preprocessing.sequence import pad_sequences"
   ]
  },
  {
   "cell_type": "markdown",
   "metadata": {
    "tags": []
   },
   "source": [
    "## Data Preparation"
   ]
  },
  {
   "cell_type": "code",
   "execution_count": 178,
   "metadata": {
    "tags": []
   },
   "outputs": [
    {
     "data": {
      "text/html": [
       "<div>\n",
       "<style scoped>\n",
       "    .dataframe tbody tr th:only-of-type {\n",
       "        vertical-align: middle;\n",
       "    }\n",
       "\n",
       "    .dataframe tbody tr th {\n",
       "        vertical-align: top;\n",
       "    }\n",
       "\n",
       "    .dataframe thead th {\n",
       "        text-align: right;\n",
       "    }\n",
       "</style>\n",
       "<table border=\"1\" class=\"dataframe\">\n",
       "  <thead>\n",
       "    <tr style=\"text-align: right;\">\n",
       "      <th></th>\n",
       "      <th>clean_text</th>\n",
       "      <th>Dominant Label</th>\n",
       "    </tr>\n",
       "    <tr>\n",
       "      <th>Count</th>\n",
       "      <th></th>\n",
       "      <th></th>\n",
       "    </tr>\n",
       "  </thead>\n",
       "  <tbody>\n",
       "    <tr>\n",
       "      <th>0</th>\n",
       "      <td>module transfer  module leader module  copy co...</td>\n",
       "      <td>VLE and Module</td>\n",
       "    </tr>\n",
       "    <tr>\n",
       "      <th>1</th>\n",
       "      <td>compromise manatee         might    send  add...</td>\n",
       "      <td>Unclassifiable</td>\n",
       "    </tr>\n",
       "    <tr>\n",
       "      <th>2</th>\n",
       "      <td>reassign setup rove mikes room  lib opsbusadm...</td>\n",
       "      <td>Hardware and Room</td>\n",
       "    </tr>\n",
       "    <tr>\n",
       "      <th>3</th>\n",
       "      <td>conference  facilities room next wednesday   b...</td>\n",
       "      <td>Hardware and Room</td>\n",
       "    </tr>\n",
       "    <tr>\n",
       "      <th>4</th>\n",
       "      <td>room  seem lack function mfd  room  scan usb ...</td>\n",
       "      <td>Hardware and Room</td>\n",
       "    </tr>\n",
       "  </tbody>\n",
       "</table>\n",
       "</div>"
      ],
      "text/plain": [
       "                                              clean_text     Dominant Label\n",
       "Count                                                                      \n",
       "0      module transfer  module leader module  copy co...     VLE and Module\n",
       "1       compromise manatee         might    send  add...     Unclassifiable\n",
       "2       reassign setup rove mikes room  lib opsbusadm...  Hardware and Room\n",
       "3      conference  facilities room next wednesday   b...  Hardware and Room\n",
       "4       room  seem lack function mfd  room  scan usb ...  Hardware and Room"
      ]
     },
     "execution_count": 178,
     "metadata": {},
     "output_type": "execute_result"
    }
   ],
   "source": [
    "df = pd.read_csv(\"/notebooks/Text-Multiclass-Classification/data_input/770 Whole Thread LabelledU.csv\", index_col=0)\n",
    "df = df[['clean_text', 'Dominant Label']]\n",
    "df.head()"
   ]
  },
  {
   "cell_type": "markdown",
   "metadata": {},
   "source": [
    "### Remove row labeled : ['unclassifiable', 'None', and 'Network and database']"
   ]
  },
  {
   "cell_type": "code",
   "execution_count": 179,
   "metadata": {
    "tags": []
   },
   "outputs": [
    {
     "data": {
      "text/plain": [
       "Software and Access     271\n",
       "VLE and Module          204\n",
       "Hardware and Room       150\n",
       "Mail                     47\n",
       "Account and Password     40\n",
       "Unclassifiable           30\n",
       "Network and Database     25\n",
       "None                      2\n",
       "Name: Dominant Label, dtype: int64"
      ]
     },
     "execution_count": 179,
     "metadata": {},
     "output_type": "execute_result"
    }
   ],
   "source": [
    "df[\"Dominant Label\"].value_counts()"
   ]
  },
  {
   "cell_type": "code",
   "execution_count": 180,
   "metadata": {},
   "outputs": [],
   "source": [
    "unclassifiable_mask = (df['Dominant Label'] != 'Unclassifiable')\n",
    "none_mask = (df['Dominant Label'] != 'None')\n",
    "network_database_mask = (df['Dominant Label'] != 'Network and Database')"
   ]
  },
  {
   "cell_type": "code",
   "execution_count": 181,
   "metadata": {},
   "outputs": [
    {
     "data": {
      "text/plain": [
       "Software and Access     271\n",
       "VLE and Module          204\n",
       "Hardware and Room       150\n",
       "Mail                     47\n",
       "Account and Password     40\n",
       "Name: Dominant Label, dtype: int64"
      ]
     },
     "execution_count": 181,
     "metadata": {},
     "output_type": "execute_result"
    }
   ],
   "source": [
    "df = df[unclassifiable_mask & none_mask & network_database_mask]\n",
    "df['Dominant Label'].value_counts()"
   ]
  },
  {
   "cell_type": "code",
   "execution_count": 182,
   "metadata": {},
   "outputs": [],
   "source": [
    "label = df['Dominant Label'].unique()"
   ]
  },
  {
   "cell_type": "code",
   "execution_count": 183,
   "metadata": {},
   "outputs": [],
   "source": [
    "# Encode the Dominant Label to integer value\n",
    "\n",
    "df['Dominant Label'] = df['Dominant Label'].map({'VLE and Module' : 0,\n",
    "                                                 'Hardware and Room' : 1,\n",
    "                                                 'Mail' : 2,\n",
    "                                                 'Software and Access' : 3,\n",
    "                                                 'Account and Password' : 4 })                                         \n",
    "\n",
    "# it's oke if we got Warning after running this code"
   ]
  },
  {
   "cell_type": "markdown",
   "metadata": {},
   "source": [
    "### Handle Missing and Duplicate data"
   ]
  },
  {
   "cell_type": "code",
   "execution_count": 184,
   "metadata": {},
   "outputs": [
    {
     "data": {
      "text/plain": [
       "clean_text        0\n",
       "Dominant Label    0\n",
       "dtype: int64"
      ]
     },
     "execution_count": 184,
     "metadata": {},
     "output_type": "execute_result"
    }
   ],
   "source": [
    "# Detect missing values\n",
    "# isna() will check column if there is Nan, null, or na data it will return True  if not then False\n",
    "# Since True = 1 and False = 0. when we sum together each True and False then we will know how many missing values is\n",
    "df.isna().sum()"
   ]
  },
  {
   "cell_type": "code",
   "execution_count": 185,
   "metadata": {},
   "outputs": [
    {
     "data": {
      "text/plain": [
       "3"
      ]
     },
     "execution_count": 185,
     "metadata": {},
     "output_type": "execute_result"
    }
   ],
   "source": [
    "True + True + True"
   ]
  },
  {
   "cell_type": "code",
   "execution_count": 186,
   "metadata": {},
   "outputs": [
    {
     "data": {
      "text/html": [
       "<div>\n",
       "<style scoped>\n",
       "    .dataframe tbody tr th:only-of-type {\n",
       "        vertical-align: middle;\n",
       "    }\n",
       "\n",
       "    .dataframe tbody tr th {\n",
       "        vertical-align: top;\n",
       "    }\n",
       "\n",
       "    .dataframe thead th {\n",
       "        text-align: right;\n",
       "    }\n",
       "</style>\n",
       "<table border=\"1\" class=\"dataframe\">\n",
       "  <thead>\n",
       "    <tr style=\"text-align: right;\">\n",
       "      <th></th>\n",
       "      <th>clean_text</th>\n",
       "      <th>Dominant Label</th>\n",
       "    </tr>\n",
       "    <tr>\n",
       "      <th>Count</th>\n",
       "      <th></th>\n",
       "      <th></th>\n",
       "    </tr>\n",
       "  </thead>\n",
       "  <tbody>\n",
       "    <tr>\n",
       "      <th>91</th>\n",
       "      <td>add mail address brl mail list  colleague  add...</td>\n",
       "      <td>2</td>\n",
       "    </tr>\n",
       "    <tr>\n",
       "      <th>95</th>\n",
       "      <td>add mail address brl mail list  colleague  add...</td>\n",
       "      <td>2</td>\n",
       "    </tr>\n",
       "    <tr>\n",
       "      <th>102</th>\n",
       "      <td>add mail address brl mail list  colleague  add...</td>\n",
       "      <td>2</td>\n",
       "    </tr>\n",
       "  </tbody>\n",
       "</table>\n",
       "</div>"
      ],
      "text/plain": [
       "                                              clean_text  Dominant Label\n",
       "Count                                                                   \n",
       "91     add mail address brl mail list  colleague  add...               2\n",
       "95     add mail address brl mail list  colleague  add...               2\n",
       "102    add mail address brl mail list  colleague  add...               2"
      ]
     },
     "execution_count": 186,
     "metadata": {},
     "output_type": "execute_result"
    }
   ],
   "source": [
    "# Detect Duplicate data\n",
    "\n",
    "df[df.duplicated(keep = False)]\n",
    "\n",
    "# df.duplicated when we set keep = False : Mark all duplicates as True."
   ]
  },
  {
   "cell_type": "code",
   "execution_count": 187,
   "metadata": {},
   "outputs": [],
   "source": [
    "# Remove the duplicates data\n",
    "df = df.drop_duplicates()"
   ]
  },
  {
   "cell_type": "code",
   "execution_count": 188,
   "metadata": {},
   "outputs": [
    {
     "data": {
      "text/html": [
       "<div>\n",
       "<style scoped>\n",
       "    .dataframe tbody tr th:only-of-type {\n",
       "        vertical-align: middle;\n",
       "    }\n",
       "\n",
       "    .dataframe tbody tr th {\n",
       "        vertical-align: top;\n",
       "    }\n",
       "\n",
       "    .dataframe thead th {\n",
       "        text-align: right;\n",
       "    }\n",
       "</style>\n",
       "<table border=\"1\" class=\"dataframe\">\n",
       "  <thead>\n",
       "    <tr style=\"text-align: right;\">\n",
       "      <th></th>\n",
       "      <th>clean_text</th>\n",
       "      <th>Dominant Label</th>\n",
       "    </tr>\n",
       "    <tr>\n",
       "      <th>Count</th>\n",
       "      <th></th>\n",
       "      <th></th>\n",
       "    </tr>\n",
       "  </thead>\n",
       "  <tbody>\n",
       "    <tr>\n",
       "      <th>0</th>\n",
       "      <td>module transfer  module leader module  copy co...</td>\n",
       "      <td>0</td>\n",
       "    </tr>\n",
       "    <tr>\n",
       "      <th>2</th>\n",
       "      <td>reassign setup rove mikes room  lib opsbusadm...</td>\n",
       "      <td>1</td>\n",
       "    </tr>\n",
       "    <tr>\n",
       "      <th>3</th>\n",
       "      <td>conference  facilities room next wednesday   b...</td>\n",
       "      <td>1</td>\n",
       "    </tr>\n",
       "    <tr>\n",
       "      <th>4</th>\n",
       "      <td>room  seem lack function mfd  room  scan usb ...</td>\n",
       "      <td>1</td>\n",
       "    </tr>\n",
       "    <tr>\n",
       "      <th>5</th>\n",
       "      <td>phone  frustrate polycom phone sign skype wont...</td>\n",
       "      <td>1</td>\n",
       "    </tr>\n",
       "    <tr>\n",
       "      <th>...</th>\n",
       "      <td>...</td>\n",
       "      <td>...</td>\n",
       "    </tr>\n",
       "    <tr>\n",
       "      <th>764</th>\n",
       "      <td>authenticator  failure  sign anything  microso...</td>\n",
       "      <td>2</td>\n",
       "    </tr>\n",
       "    <tr>\n",
       "      <th>765</th>\n",
       "      <td>password    password way reset apparently reg...</td>\n",
       "      <td>1</td>\n",
       "    </tr>\n",
       "    <tr>\n",
       "      <th>766</th>\n",
       "      <td>phone line  student support line  support phon...</td>\n",
       "      <td>3</td>\n",
       "    </tr>\n",
       "    <tr>\n",
       "      <th>767</th>\n",
       "      <td>cannot  chrome cannot  google chrome laptop  t...</td>\n",
       "      <td>0</td>\n",
       "    </tr>\n",
       "    <tr>\n",
       "      <th>768</th>\n",
       "      <td>attach timetable programme activities include...</td>\n",
       "      <td>0</td>\n",
       "    </tr>\n",
       "  </tbody>\n",
       "</table>\n",
       "<p>710 rows × 2 columns</p>\n",
       "</div>"
      ],
      "text/plain": [
       "                                              clean_text  Dominant Label\n",
       "Count                                                                   \n",
       "0      module transfer  module leader module  copy co...               0\n",
       "2       reassign setup rove mikes room  lib opsbusadm...               1\n",
       "3      conference  facilities room next wednesday   b...               1\n",
       "4       room  seem lack function mfd  room  scan usb ...               1\n",
       "5      phone  frustrate polycom phone sign skype wont...               1\n",
       "...                                                  ...             ...\n",
       "764    authenticator  failure  sign anything  microso...               2\n",
       "765     password    password way reset apparently reg...               1\n",
       "766    phone line  student support line  support phon...               3\n",
       "767    cannot  chrome cannot  google chrome laptop  t...               0\n",
       "768     attach timetable programme activities include...               0\n",
       "\n",
       "[710 rows x 2 columns]"
      ]
     },
     "execution_count": 188,
     "metadata": {},
     "output_type": "execute_result"
    }
   ],
   "source": [
    "df"
   ]
  },
  {
   "cell_type": "code",
   "execution_count": 189,
   "metadata": {},
   "outputs": [],
   "source": [
    "X, y = df['clean_text'], df['Dominant Label']"
   ]
  },
  {
   "cell_type": "markdown",
   "metadata": {},
   "source": [
    "### Train Test Split\n",
    "\n"
   ]
  },
  {
   "cell_type": "code",
   "execution_count": 190,
   "metadata": {},
   "outputs": [],
   "source": [
    "X_train, X_test, y_train, y_test = train_test_split(X, y,test_size = 0.2, random_state=12431)"
   ]
  },
  {
   "cell_type": "markdown",
   "metadata": {},
   "source": [
    "### Preprocessing Data"
   ]
  },
  {
   "cell_type": "markdown",
   "metadata": {},
   "source": [
    " ####  Tokenizer"
   ]
  },
  {
   "cell_type": "markdown",
   "metadata": {},
   "source": [
    "##### Example Of Tokenizer"
   ]
  },
  {
   "cell_type": "code",
   "execution_count": 191,
   "metadata": {},
   "outputs": [],
   "source": [
    "example_train_sentence = ['the film is so cool wow', 'the film is not interesting']\n",
    "example_test_sentence = ['the film is dissapointing']"
   ]
  },
  {
   "cell_type": "code",
   "execution_count": 192,
   "metadata": {},
   "outputs": [],
   "source": [
    "# num_words = 2, mean Tokenizer will take the top 2 words by volume \n",
    "# usually minimum num_words will give  huge training time and less training acc \n",
    "example_num_words = 2\n",
    "\n",
    "#oov_token = \"<OOV>\" mean Out Of Vocabulary, since the test data is getting token by fitted train data then there is probability, \n",
    "#the word in test data is not recognize by the tokenizer then tokenizer will encode it as <OOV>\n",
    "example_oov_token = \"OOV\"\n",
    "\n",
    "example_tokenizer = Tokenizer(num_words = example_num_words, oov_token = example_oov_token)"
   ]
  },
  {
   "cell_type": "code",
   "execution_count": 193,
   "metadata": {},
   "outputs": [],
   "source": [
    "example_tokenizer.fit_on_texts(example_train_sentence)"
   ]
  },
  {
   "cell_type": "code",
   "execution_count": 194,
   "metadata": {},
   "outputs": [
    {
     "data": {
      "text/plain": [
       "{'OOV': 1,\n",
       " 'the': 2,\n",
       " 'film': 3,\n",
       " 'is': 4,\n",
       " 'so': 5,\n",
       " 'cool': 6,\n",
       " 'wow': 7,\n",
       " 'not': 8,\n",
       " 'interesting': 9}"
      ]
     },
     "execution_count": 194,
     "metadata": {},
     "output_type": "execute_result"
    }
   ],
   "source": [
    "example_tokenizer.word_index"
   ]
  },
  {
   "cell_type": "code",
   "execution_count": 195,
   "metadata": {},
   "outputs": [
    {
     "data": {
      "text/plain": [
       "OrderedDict([('the', 2),\n",
       "             ('film', 2),\n",
       "             ('is', 2),\n",
       "             ('so', 1),\n",
       "             ('cool', 1),\n",
       "             ('wow', 1),\n",
       "             ('not', 1),\n",
       "             ('interesting', 1)])"
      ]
     },
     "execution_count": 195,
     "metadata": {},
     "output_type": "execute_result"
    }
   ],
   "source": [
    "example_tokenizer.word_counts"
   ]
  },
  {
   "cell_type": "code",
   "execution_count": 196,
   "metadata": {},
   "outputs": [
    {
     "name": "stdout",
     "output_type": "stream",
     "text": [
      "train sequences : [[1, 1, 1, 1, 1, 1], [1, 1, 1, 1, 1]]\n",
      "test sequences : [[1, 1, 1, 1]]\n"
     ]
    }
   ],
   "source": [
    "example_X_train_sequences = example_tokenizer.texts_to_sequences(example_train_sentence)\n",
    "print(\"train sequences : {}\".format(example_X_train_sequences))\n",
    "\n",
    "\n",
    "example_X_test_sequences = example_tokenizer.texts_to_sequences(example_test_sentence)\n",
    "print(\"test sequences : {}\".format(example_X_test_sequences))\n"
   ]
  },
  {
   "cell_type": "markdown",
   "metadata": {},
   "source": [
    "💡 we can see all test text is encoded to 1, or if we see on the index as OOV. it's because we set num_words = 2 when define the Tokenizer"
   ]
  },
  {
   "cell_type": "markdown",
   "metadata": {},
   "source": [
    "💡 why only encoded to 1 isn't word <b>'the'</b> should be encoded to <b>2</b> also ?"
   ]
  },
  {
   "cell_type": "markdown",
   "metadata": {},
   "source": [
    "💡 according to the documentation, it will take Only the most common num_words-1 words will be kept<br>\n",
    "Docs : https://www.tensorflow.org/api_docs/python/tf/keras/preprocessing/text/Tokenizer"
   ]
  },
  {
   "cell_type": "markdown",
   "metadata": {},
   "source": [
    "💡 so if we want encoding the word \"the\" also. then we need to set the num_words = 3"
   ]
  },
  {
   "cell_type": "markdown",
   "metadata": {},
   "source": [
    "##### The Tokenizer will be used"
   ]
  },
  {
   "cell_type": "code",
   "execution_count": 197,
   "metadata": {},
   "outputs": [],
   "source": [
    "# currently im not define the num_words, so it will take all words on all the training text.\n",
    "oov_token = \"<OOV>\"\n",
    "tokenizer = Tokenizer(oov_token=oov_token)\n",
    "\n",
    "tokenizer.fit_on_texts(X_train)\n",
    "\n",
    "X_train_sequences = tokenizer.texts_to_sequences(X_train)\n",
    "X_test_sequences = tokenizer.texts_to_sequences(X_test)"
   ]
  },
  {
   "cell_type": "code",
   "execution_count": 198,
   "metadata": {},
   "outputs": [
    {
     "data": {
      "text/plain": [
       "4528"
      ]
     },
     "execution_count": 198,
     "metadata": {},
     "output_type": "execute_result"
    }
   ],
   "source": [
    "# although we didn't define num_words before defining the tokenizer class. we still need num_words as dimmer input from Embedding layer later\n",
    "num_words = len(tokenizer.word_index) + 1\n",
    "num_words"
   ]
  },
  {
   "cell_type": "markdown",
   "metadata": {},
   "source": [
    "💡  always + 1 because tokenizer.word_index not include 0 value"
   ]
  },
  {
   "cell_type": "markdown",
   "metadata": {},
   "source": [
    "#### Padding"
   ]
  },
  {
   "cell_type": "markdown",
   "metadata": {},
   "source": [
    "##### Example of Padding"
   ]
  },
  {
   "cell_type": "markdown",
   "metadata": {},
   "source": [
    "💡  the default pad_sequences function\n",
    "\n",
    "tf.keras.utils.pad_sequences(<br>\n",
    "    sequences,<br>\n",
    "    maxlen=None,<br>\n",
    "    dtype='int32',<br>\n",
    "    padding='pre',<br>\n",
    "    truncating='pre',<br>\n",
    "    value=0.0\n",
    ")\n",
    "<br>\n",
    "<br>\n",
    "docs : https://www.tensorflow.org/api_docs/python/tf/keras/utils/pad_sequences\n"
   ]
  },
  {
   "cell_type": "markdown",
   "metadata": {},
   "source": [
    "💡  our example sequences data <br>\n",
    "example X_train_sequences : [[1, 1, 1, 1, 1, 1], [1, 1, 1, 1, 1]] <br>\n",
    "example X_test_sequences : [[1, 1, 1, 1]]"
   ]
  },
  {
   "cell_type": "code",
   "execution_count": 199,
   "metadata": {},
   "outputs": [
    {
     "name": "stdout",
     "output_type": "stream",
     "text": [
      "[[1 1 1 1 1 1]\n",
      " [0 1 1 1 1 1]]\n"
     ]
    }
   ],
   "source": [
    "# let say we not define maxlen\n",
    "# if maxlen not defined then all the texts will padded follow the length of most word in the texts\n",
    "# if the length of word in a text < maxlen we define then it will padding\n",
    "# if the length of word in a text > maxlen we define then it will truncating\n",
    "\n",
    "example_X_train_padded = pad_sequences(example_X_train_sequences)\n",
    "example_X_test_padded = pad_sequences(example_X_test_sequences)\n",
    "\n",
    "print(example_X_train_padded)"
   ]
  },
  {
   "cell_type": "markdown",
   "metadata": {},
   "source": [
    "💡 we can see, the text 2 is padded with 0 because follow the length of most word in the texts"
   ]
  },
  {
   "cell_type": "markdown",
   "metadata": {},
   "source": [
    "💡 because the default padding='pre' so it will do 'pre' padding. it can be changed to \"post\""
   ]
  },
  {
   "cell_type": "markdown",
   "metadata": {},
   "source": [
    "##### The Padding will be used"
   ]
  },
  {
   "cell_type": "code",
   "execution_count": 200,
   "metadata": {},
   "outputs": [
    {
     "name": "stdout",
     "output_type": "stream",
     "text": [
      "maximum length of sequence in train data is : 1057\n",
      "maximum length of sequence in test data is : 744\n"
     ]
    }
   ],
   "source": [
    "list_of_train_sequence_length = []\n",
    "list_of_test_sequence_length = []\n",
    "\n",
    "# let see what maximum number of words on a train text data we can found\n",
    "for sequence in X_train_sequences :\n",
    "    list_of_train_sequence_length.append(len(sequence))\n",
    "\n",
    "for sequence in X_test_sequences :\n",
    "    list_of_test_sequence_length.append(len(sequence))\n",
    "\n",
    "print(\"maximum length of sequence in train data is : {}\".format(max(list_of_train_sequence_length)))\n",
    "print(\"maximum length of sequence in test data is : {}\".format(max(list_of_test_sequence_length)))"
   ]
  },
  {
   "cell_type": "code",
   "execution_count": 201,
   "metadata": {},
   "outputs": [],
   "source": [
    "# Generate and pad the training sequences\n",
    "maxlen = 150\n",
    "padding = \"post\"\n",
    "truncating = \"post\"\n",
    "\n",
    "X_train_padded = pad_sequences(X_train_sequences, maxlen=maxlen, padding=padding, truncating=truncating)\n",
    "X_test_padded = pad_sequences(X_test_sequences, maxlen=maxlen, padding=padding, truncating = truncating)"
   ]
  },
  {
   "cell_type": "markdown",
   "metadata": {},
   "source": [
    "💡 we need to make the train and test in same shape, so we need define the maxlen"
   ]
  },
  {
   "cell_type": "code",
   "execution_count": 202,
   "metadata": {},
   "outputs": [],
   "source": [
    "# Convert the labels lists into numpy arrays\n",
    "y_train = np.array(y_train)\n",
    "y_test = np.array(y_test)"
   ]
  },
  {
   "cell_type": "markdown",
   "metadata": {},
   "source": [
    "## Modeling"
   ]
  },
  {
   "cell_type": "markdown",
   "metadata": {},
   "source": [
    "💡 Overfitting naturally occurs in NLP. it's because the OOV Token found on the test data can't be classified"
   ]
  },
  {
   "cell_type": "markdown",
   "metadata": {},
   "source": [
    "💡  The target of this modeling is try to get model with smoother decreased loss/ stable loss. so even model still Overfitting we have conviction to the model"
   ]
  },
  {
   "cell_type": "markdown",
   "metadata": {},
   "source": [
    "### Always start with embedding first"
   ]
  },
  {
   "cell_type": "code",
   "execution_count": 203,
   "metadata": {},
   "outputs": [
    {
     "name": "stdout",
     "output_type": "stream",
     "text": [
      "Model: \"sequential_10\"\n",
      "_________________________________________________________________\n",
      " Layer (type)                Output Shape              Param #   \n",
      "=================================================================\n",
      " embedding_10 (Embedding)    (None, 150, 16)           72448     \n",
      "                                                                 \n",
      " flatten_7 (Flatten)         (None, 2400)              0         \n",
      "                                                                 \n",
      " dense_20 (Dense)            (None, 16)                38416     \n",
      "                                                                 \n",
      " dense_21 (Dense)            (None, 5)                 85        \n",
      "                                                                 \n",
      "=================================================================\n",
      "Total params: 110,949\n",
      "Trainable params: 110,949\n",
      "Non-trainable params: 0\n",
      "_________________________________________________________________\n"
     ]
    }
   ],
   "source": [
    "embedding_dim = 16\n",
    "\n",
    "# Build the model\n",
    "model = tf.keras.Sequential([\n",
    "    tf.keras.layers.Embedding(num_words , embedding_dim, input_length = maxlen),\n",
    "    tf.keras.layers.Flatten(),\n",
    "    tf.keras.layers.Dense(16, activation='relu'),\n",
    "    tf.keras.layers.Dense(5, activation='softmax')\n",
    "])\n",
    "\n",
    "# Print the model summary\n",
    "model.summary()"
   ]
  },
  {
   "cell_type": "markdown",
   "metadata": {},
   "source": [
    "💡 Embedding : Embed all word in similiar class in a vector.<br>\n",
    "example : we say a negative review and the words dull and boring show up a lot in the negative review so that they have similar sentiments, and they are close to each other in the sentence. Thus their vectors will be similar."
   ]
  },
  {
   "cell_type": "markdown",
   "metadata": {},
   "source": [
    "💡 Flatten : since the output of the embedding is (batch size, maxlen, embedding_dim) we need to flatten its output to (batch_size, maxlen * embedding_dim) since the dense take that shape of input."
   ]
  },
  {
   "cell_type": "markdown",
   "metadata": {},
   "source": [
    "💡 usually we can change flatten -> GlobalPoolingAverage.\n",
    "it will convert the output of our embedding (batch size, maxlen, embedding_dim) -> (batch size, average of maxlen each of embedding dimension)\n",
    "\n",
    "advantage :\n",
    "More Faster\n",
    "\n",
    "deficiency:\n",
    "reduced accuracy"
   ]
  },
  {
   "cell_type": "markdown",
   "metadata": {},
   "source": [
    "💡 The Output of Flatten layer until last layers in the model above usually called Fully Connected Layer / Neural Network <br>\n",
    "💡 The Output of Flatten called Input Layer <br>\n",
    "💡 The next layer after Flattern layer called hidden layer <br>\n",
    "💡 The last layer called Output layer "
   ]
  },
  {
   "cell_type": "markdown",
   "metadata": {},
   "source": [
    "💡 usually hidden layer can be stacked as many as needed. but usually 2 hidden layer is enough to solve complex problem <br>\n",
    "💡 Why we define 64 as the num_of_dense in the hidden layer ? its free actualy but usually in Fully connected layer people define it conical. so if the first hidden layer is 64 then the next hidden layer will be 32. <br>\n",
    "💡 Why we define \"Relu\" as the activation function of Hidden layer ? it's because Relu output is 0 until Infinity. it's same like our sequences data which is if you see on the sequences, our data value minimum is  0 (result of padding), 1 (OOV), ...., num_words we define"
   ]
  },
  {
   "cell_type": "markdown",
   "metadata": {},
   "source": [
    "💡 Output layers is customized. <br>\n",
    "💡 Since we want to classify 5 class then we need define the num_dense of last layers is 5. <br>\n",
    "💡 if we want to classify 2 class then 1 dense <br>\n",
    "💡 Softmax is used for multiclass <br>\n",
    "💡 Sigmoid is used for binary class (2 class)"
   ]
  },
  {
   "cell_type": "code",
   "execution_count": 204,
   "metadata": {},
   "outputs": [],
   "source": [
    "# Compile the modeld\n",
    "model.compile(loss='sparse_categorical_crossentropy',optimizer='adam',metrics=['accuracy'])"
   ]
  },
  {
   "cell_type": "markdown",
   "metadata": {},
   "source": [
    "💡 Don't forget to always Compile the model before training."
   ]
  },
  {
   "cell_type": "markdown",
   "metadata": {},
   "source": [
    "💡 loss : sparse_categorical_cross_entropy is used because our label using integer value (0 to 4) <br>\n",
    "💡 we can use \"categorical_crossentropy\" if our label is encoded with one hot encoding <br>\n",
    "💡 adam optimizer is the best optimizer currently : https://towardsdatascience.com/optimizers-for-training-neural-network-59450d71caf6"
   ]
  },
  {
   "cell_type": "code",
   "execution_count": 205,
   "metadata": {},
   "outputs": [
    {
     "name": "stdout",
     "output_type": "stream",
     "text": [
      "Epoch 1/50\n",
      "18/18 [==============================] - 1s 15ms/step - loss: 1.5770 - accuracy: 0.3011 - val_loss: 1.5739 - val_accuracy: 0.2254\n",
      "Epoch 2/50\n",
      "18/18 [==============================] - 0s 7ms/step - loss: 1.4581 - accuracy: 0.3451 - val_loss: 1.5187 - val_accuracy: 0.2183\n",
      "Epoch 3/50\n",
      "18/18 [==============================] - 0s 7ms/step - loss: 1.3175 - accuracy: 0.4155 - val_loss: 1.4340 - val_accuracy: 0.2676\n",
      "Epoch 4/50\n",
      "18/18 [==============================] - 0s 5ms/step - loss: 1.1609 - accuracy: 0.5528 - val_loss: 1.3382 - val_accuracy: 0.3873\n",
      "Epoch 5/50\n",
      "18/18 [==============================] - 0s 6ms/step - loss: 0.9806 - accuracy: 0.7412 - val_loss: 1.2740 - val_accuracy: 0.4577\n",
      "Epoch 6/50\n",
      "18/18 [==============================] - 0s 6ms/step - loss: 0.7803 - accuracy: 0.8222 - val_loss: 1.2234 - val_accuracy: 0.5211\n",
      "Epoch 7/50\n",
      "18/18 [==============================] - 0s 6ms/step - loss: 0.5789 - accuracy: 0.8891 - val_loss: 1.1392 - val_accuracy: 0.5563\n",
      "Epoch 8/50\n",
      "18/18 [==============================] - 0s 5ms/step - loss: 0.4048 - accuracy: 0.9366 - val_loss: 1.1150 - val_accuracy: 0.5704\n",
      "Epoch 9/50\n",
      "18/18 [==============================] - 0s 6ms/step - loss: 0.2786 - accuracy: 0.9754 - val_loss: 1.1384 - val_accuracy: 0.5563\n",
      "Epoch 10/50\n",
      "18/18 [==============================] - 0s 6ms/step - loss: 0.1943 - accuracy: 0.9912 - val_loss: 1.1445 - val_accuracy: 0.5423\n",
      "Epoch 11/50\n",
      "18/18 [==============================] - 0s 6ms/step - loss: 0.1332 - accuracy: 0.9982 - val_loss: 1.1297 - val_accuracy: 0.5845\n",
      "Epoch 12/50\n",
      "18/18 [==============================] - 0s 7ms/step - loss: 0.0970 - accuracy: 1.0000 - val_loss: 1.1513 - val_accuracy: 0.5704\n",
      "Epoch 13/50\n",
      "18/18 [==============================] - 0s 5ms/step - loss: 0.0733 - accuracy: 1.0000 - val_loss: 1.1708 - val_accuracy: 0.5775\n",
      "Epoch 14/50\n",
      "18/18 [==============================] - 0s 6ms/step - loss: 0.0562 - accuracy: 1.0000 - val_loss: 1.1796 - val_accuracy: 0.5704\n",
      "Epoch 15/50\n",
      "18/18 [==============================] - 0s 6ms/step - loss: 0.0443 - accuracy: 1.0000 - val_loss: 1.1899 - val_accuracy: 0.5845\n",
      "Epoch 16/50\n",
      "18/18 [==============================] - 0s 6ms/step - loss: 0.0360 - accuracy: 1.0000 - val_loss: 1.2188 - val_accuracy: 0.5775\n",
      "Epoch 17/50\n",
      "18/18 [==============================] - 0s 6ms/step - loss: 0.0295 - accuracy: 1.0000 - val_loss: 1.2284 - val_accuracy: 0.5845\n",
      "Epoch 18/50\n",
      "18/18 [==============================] - 0s 6ms/step - loss: 0.0246 - accuracy: 1.0000 - val_loss: 1.2360 - val_accuracy: 0.5704\n",
      "Epoch 19/50\n",
      "18/18 [==============================] - 0s 6ms/step - loss: 0.0209 - accuracy: 1.0000 - val_loss: 1.2447 - val_accuracy: 0.5845\n",
      "Epoch 20/50\n",
      "18/18 [==============================] - 0s 6ms/step - loss: 0.0177 - accuracy: 1.0000 - val_loss: 1.2717 - val_accuracy: 0.5775\n",
      "Epoch 21/50\n",
      "18/18 [==============================] - 0s 8ms/step - loss: 0.0154 - accuracy: 1.0000 - val_loss: 1.2761 - val_accuracy: 0.5775\n",
      "Epoch 22/50\n",
      "18/18 [==============================] - 0s 6ms/step - loss: 0.0132 - accuracy: 1.0000 - val_loss: 1.2857 - val_accuracy: 0.5775\n",
      "Epoch 23/50\n",
      "18/18 [==============================] - 0s 6ms/step - loss: 0.0116 - accuracy: 1.0000 - val_loss: 1.3009 - val_accuracy: 0.5634\n",
      "Epoch 24/50\n",
      "18/18 [==============================] - 0s 6ms/step - loss: 0.0103 - accuracy: 1.0000 - val_loss: 1.2960 - val_accuracy: 0.5775\n",
      "Epoch 25/50\n",
      "18/18 [==============================] - 0s 6ms/step - loss: 0.0093 - accuracy: 1.0000 - val_loss: 1.3160 - val_accuracy: 0.5704\n",
      "Epoch 26/50\n",
      "18/18 [==============================] - 0s 5ms/step - loss: 0.0083 - accuracy: 1.0000 - val_loss: 1.3126 - val_accuracy: 0.5704\n",
      "Epoch 27/50\n",
      "18/18 [==============================] - 0s 6ms/step - loss: 0.0074 - accuracy: 1.0000 - val_loss: 1.3376 - val_accuracy: 0.5704\n",
      "Epoch 28/50\n",
      "18/18 [==============================] - 0s 5ms/step - loss: 0.0068 - accuracy: 1.0000 - val_loss: 1.3477 - val_accuracy: 0.5704\n",
      "Epoch 29/50\n",
      "18/18 [==============================] - 0s 7ms/step - loss: 0.0062 - accuracy: 1.0000 - val_loss: 1.3401 - val_accuracy: 0.5845\n",
      "Epoch 30/50\n",
      "18/18 [==============================] - 0s 6ms/step - loss: 0.0057 - accuracy: 1.0000 - val_loss: 1.3556 - val_accuracy: 0.5775\n",
      "Epoch 31/50\n",
      "18/18 [==============================] - 0s 6ms/step - loss: 0.0052 - accuracy: 1.0000 - val_loss: 1.3649 - val_accuracy: 0.5775\n",
      "Epoch 32/50\n",
      "18/18 [==============================] - 0s 6ms/step - loss: 0.0048 - accuracy: 1.0000 - val_loss: 1.3724 - val_accuracy: 0.5845\n",
      "Epoch 33/50\n",
      "18/18 [==============================] - 0s 6ms/step - loss: 0.0044 - accuracy: 1.0000 - val_loss: 1.3794 - val_accuracy: 0.5775\n",
      "Epoch 34/50\n",
      "18/18 [==============================] - 0s 6ms/step - loss: 0.0041 - accuracy: 1.0000 - val_loss: 1.3841 - val_accuracy: 0.5845\n",
      "Epoch 35/50\n",
      "18/18 [==============================] - 0s 6ms/step - loss: 0.0038 - accuracy: 1.0000 - val_loss: 1.3911 - val_accuracy: 0.5775\n",
      "Epoch 36/50\n",
      "18/18 [==============================] - 0s 5ms/step - loss: 0.0036 - accuracy: 1.0000 - val_loss: 1.3904 - val_accuracy: 0.5775\n",
      "Epoch 37/50\n",
      "18/18 [==============================] - 0s 5ms/step - loss: 0.0033 - accuracy: 1.0000 - val_loss: 1.4050 - val_accuracy: 0.5775\n",
      "Epoch 38/50\n",
      "18/18 [==============================] - 0s 6ms/step - loss: 0.0031 - accuracy: 1.0000 - val_loss: 1.4088 - val_accuracy: 0.5775\n",
      "Epoch 39/50\n",
      "18/18 [==============================] - 0s 6ms/step - loss: 0.0029 - accuracy: 1.0000 - val_loss: 1.4157 - val_accuracy: 0.5775\n",
      "Epoch 40/50\n",
      "18/18 [==============================] - 0s 6ms/step - loss: 0.0027 - accuracy: 1.0000 - val_loss: 1.4218 - val_accuracy: 0.5704\n",
      "Epoch 41/50\n",
      "18/18 [==============================] - 0s 6ms/step - loss: 0.0026 - accuracy: 1.0000 - val_loss: 1.4262 - val_accuracy: 0.5704\n",
      "Epoch 42/50\n",
      "18/18 [==============================] - 0s 6ms/step - loss: 0.0024 - accuracy: 1.0000 - val_loss: 1.4307 - val_accuracy: 0.5704\n",
      "Epoch 43/50\n",
      "18/18 [==============================] - 0s 6ms/step - loss: 0.0023 - accuracy: 1.0000 - val_loss: 1.4371 - val_accuracy: 0.5704\n",
      "Epoch 44/50\n",
      "18/18 [==============================] - 0s 5ms/step - loss: 0.0022 - accuracy: 1.0000 - val_loss: 1.4439 - val_accuracy: 0.5704\n",
      "Epoch 45/50\n",
      "18/18 [==============================] - 0s 6ms/step - loss: 0.0021 - accuracy: 1.0000 - val_loss: 1.4465 - val_accuracy: 0.5704\n",
      "Epoch 46/50\n",
      "18/18 [==============================] - 0s 6ms/step - loss: 0.0020 - accuracy: 1.0000 - val_loss: 1.4534 - val_accuracy: 0.5704\n",
      "Epoch 47/50\n",
      "18/18 [==============================] - 0s 6ms/step - loss: 0.0019 - accuracy: 1.0000 - val_loss: 1.4573 - val_accuracy: 0.5775\n",
      "Epoch 48/50\n",
      "18/18 [==============================] - 0s 5ms/step - loss: 0.0018 - accuracy: 1.0000 - val_loss: 1.4635 - val_accuracy: 0.5775\n",
      "Epoch 49/50\n",
      "18/18 [==============================] - 0s 6ms/step - loss: 0.0017 - accuracy: 1.0000 - val_loss: 1.4649 - val_accuracy: 0.5775\n",
      "Epoch 50/50\n",
      "18/18 [==============================] - 0s 6ms/step - loss: 0.0016 - accuracy: 1.0000 - val_loss: 1.4696 - val_accuracy: 0.5775\n",
      "CPU times: user 5 µs, sys: 0 ns, total: 5 µs\n",
      "Wall time: 11.7 µs\n"
     ]
    }
   ],
   "source": [
    "num_epochs = 50\n",
    "# Train the model\n",
    "history_embedding = model.fit(X_train_padded, y_train, epochs=num_epochs, validation_data=(X_test_padded, y_test))\n",
    "%time"
   ]
  },
  {
   "cell_type": "markdown",
   "metadata": {},
   "source": [
    "#### Evaluation"
   ]
  },
  {
   "cell_type": "code",
   "execution_count": 206,
   "metadata": {},
   "outputs": [],
   "source": [
    "import matplotlib.pyplot as plt\n",
    "\n",
    "\n",
    "def plot_graphs(history, string, model_name):\n",
    "  plt.title('Training and validation {} of {}'.format(string,model_name))\n",
    "  plt.plot(history.history[string])\n",
    "  plt.plot(history.history['val_'+string])\n",
    "  plt.xlabel(\"Epochs\")\n",
    "  plt.ylabel(string)\n",
    "  plt.legend([string, 'val_'+string])\n",
    "  plt.show()"
   ]
  },
  {
   "cell_type": "markdown",
   "metadata": {},
   "source": [
    "##### Accuracy"
   ]
  },
  {
   "cell_type": "code",
   "execution_count": 207,
   "metadata": {},
   "outputs": [
    {
     "data": {
      "image/png": "[encoded data removed]",
      "text/plain": [
       "<Figure size 432x288 with 1 Axes>"
      ]
     },
     "metadata": {
      "needs_background": "light"
     },
     "output_type": "display_data"
    }
   ],
   "source": [
    "plot_graphs(history_embedding, \"accuracy\", \"Embedding + FCN\")"
   ]
  },
  {
   "cell_type": "markdown",
   "metadata": {},
   "source": [
    "##### Loss"
   ]
  },
  {
   "cell_type": "code",
   "execution_count": 208,
   "metadata": {},
   "outputs": [
    {
     "data": {
      "image/png": "[encoded data removed]",
      "text/plain": [
       "<Figure size 432x288 with 1 Axes>"
      ]
     },
     "metadata": {
      "needs_background": "light"
     },
     "output_type": "display_data"
    }
   ],
   "source": [
    "plot_graphs(history_embedding, \"loss\", \"Embeding + FCN\")"
   ]
  },
  {
   "cell_type": "markdown",
   "metadata": {},
   "source": [
    "##### Classification Report"
   ]
  },
  {
   "cell_type": "code",
   "execution_count": 209,
   "metadata": {},
   "outputs": [
    {
     "name": "stdout",
     "output_type": "stream",
     "text": [
      "5/5 [==============================] - 0s 2ms/step\n",
      "                      precision    recall  f1-score   support\n",
      "\n",
      "      VLE and Module       0.59      0.71      0.65        31\n",
      "   Hardware and Room       0.75      0.43      0.55        42\n",
      "                Mail       0.33      0.09      0.14        11\n",
      " Software and Access       0.51      0.75      0.61        51\n",
      "Account and Password       0.75      0.43      0.55         7\n",
      "\n",
      "            accuracy                           0.58       142\n",
      "           macro avg       0.59      0.48      0.50       142\n",
      "        weighted avg       0.60      0.58      0.56       142\n",
      "\n"
     ]
    }
   ],
   "source": [
    "y_pred = model.predict(X_test_padded)\n",
    "y_pred = np.argmax(y_pred,axis=1)\n",
    "print(classification_report(y_test, y_pred, target_names= label))"
   ]
  },
  {
   "cell_type": "markdown",
   "metadata": {},
   "source": [
    "💡 usually combine Embeding with Conv1D can gain more Accuracy"
   ]
  },
  {
   "cell_type": "markdown",
   "metadata": {
    "tags": []
   },
   "source": [
    "### Increasing Accuracy : Adding Conv1D"
   ]
  },
  {
   "cell_type": "code",
   "execution_count": 210,
   "metadata": {},
   "outputs": [
    {
     "name": "stdout",
     "output_type": "stream",
     "text": [
      "Model: \"sequential_11\"\n",
      "_________________________________________________________________\n",
      " Layer (type)                Output Shape              Param #   \n",
      "=================================================================\n",
      " embedding_11 (Embedding)    (None, 150, 16)           72448     \n",
      "                                                                 \n",
      " conv1d_7 (Conv1D)           (None, 149, 16)           528       \n",
      "                                                                 \n",
      " max_pooling1d_7 (MaxPooling  (None, 74, 16)           0         \n",
      " 1D)                                                             \n",
      "                                                                 \n",
      " flatten_8 (Flatten)         (None, 1184)              0         \n",
      "                                                                 \n",
      " dense_22 (Dense)            (None, 16)                18960     \n",
      "                                                                 \n",
      " dense_23 (Dense)            (None, 5)                 85        \n",
      "                                                                 \n",
      "=================================================================\n",
      "Total params: 92,021\n",
      "Trainable params: 92,021\n",
      "Non-trainable params: 0\n",
      "_________________________________________________________________\n"
     ]
    }
   ],
   "source": [
    "embedding_dim = 16\n",
    "\n",
    "# Build the model\n",
    "model = tf.keras.Sequential([\n",
    "    tf.keras.layers.Embedding(num_words , embedding_dim, input_length = maxlen),\n",
    "    tf.keras.layers.Conv1D(16, 2),\n",
    "    tf.keras.layers.MaxPooling1D(),\n",
    "    tf.keras.layers.Flatten(),\n",
    "    tf.keras.layers.Dense(16, activation='relu'),\n",
    "    tf.keras.layers.Dense(5, activation='softmax')\n",
    "])\n",
    "\n",
    "# Compile the modeld\n",
    "model.compile(loss='sparse_categorical_crossentropy',optimizer='adam',metrics=['accuracy'])\n",
    "\n",
    "# Print the model summary\n",
    "model.summary()"
   ]
  },
  {
   "cell_type": "code",
   "execution_count": 211,
   "metadata": {},
   "outputs": [
    {
     "name": "stdout",
     "output_type": "stream",
     "text": [
      "Epoch 1/50\n",
      "18/18 [==============================] - 1s 15ms/step - loss: 1.5137 - accuracy: 0.3715 - val_loss: 1.4502 - val_accuracy: 0.3592\n",
      "Epoch 2/50\n",
      "18/18 [==============================] - 0s 7ms/step - loss: 1.3451 - accuracy: 0.3873 - val_loss: 1.4357 - val_accuracy: 0.3310\n",
      "Epoch 3/50\n",
      "18/18 [==============================] - 0s 6ms/step - loss: 1.2849 - accuracy: 0.4313 - val_loss: 1.4290 - val_accuracy: 0.3380\n",
      "Epoch 4/50\n",
      "18/18 [==============================] - 0s 7ms/step - loss: 1.2015 - accuracy: 0.4560 - val_loss: 1.3856 - val_accuracy: 0.3451\n",
      "Epoch 5/50\n",
      "18/18 [==============================] - 0s 7ms/step - loss: 1.0805 - accuracy: 0.5528 - val_loss: 1.3192 - val_accuracy: 0.4366\n",
      "Epoch 6/50\n",
      "18/18 [==============================] - 0s 7ms/step - loss: 0.9050 - accuracy: 0.7060 - val_loss: 1.2365 - val_accuracy: 0.5070\n",
      "Epoch 7/50\n",
      "18/18 [==============================] - 0s 7ms/step - loss: 0.7243 - accuracy: 0.7835 - val_loss: 1.1947 - val_accuracy: 0.5282\n",
      "Epoch 8/50\n",
      "18/18 [==============================] - 0s 7ms/step - loss: 0.5561 - accuracy: 0.8239 - val_loss: 1.1567 - val_accuracy: 0.5704\n",
      "Epoch 9/50\n",
      "18/18 [==============================] - 0s 8ms/step - loss: 0.3955 - accuracy: 0.9032 - val_loss: 1.1883 - val_accuracy: 0.5634\n",
      "Epoch 10/50\n",
      "18/18 [==============================] - 0s 7ms/step - loss: 0.2689 - accuracy: 0.9419 - val_loss: 1.1600 - val_accuracy: 0.5986\n",
      "Epoch 11/50\n",
      "18/18 [==============================] - 0s 6ms/step - loss: 0.1802 - accuracy: 0.9771 - val_loss: 1.2594 - val_accuracy: 0.5915\n",
      "Epoch 12/50\n",
      "18/18 [==============================] - 0s 8ms/step - loss: 0.1209 - accuracy: 0.9947 - val_loss: 1.3037 - val_accuracy: 0.5563\n",
      "Epoch 13/50\n",
      "18/18 [==============================] - 0s 8ms/step - loss: 0.0821 - accuracy: 0.9965 - val_loss: 1.3338 - val_accuracy: 0.5704\n",
      "Epoch 14/50\n",
      "18/18 [==============================] - 0s 6ms/step - loss: 0.0592 - accuracy: 1.0000 - val_loss: 1.4535 - val_accuracy: 0.5845\n",
      "Epoch 15/50\n",
      "18/18 [==============================] - 0s 6ms/step - loss: 0.0428 - accuracy: 0.9982 - val_loss: 1.4362 - val_accuracy: 0.5634\n",
      "Epoch 16/50\n",
      "18/18 [==============================] - 0s 7ms/step - loss: 0.0321 - accuracy: 1.0000 - val_loss: 1.5339 - val_accuracy: 0.5845\n",
      "Epoch 17/50\n",
      "18/18 [==============================] - 0s 6ms/step - loss: 0.0251 - accuracy: 1.0000 - val_loss: 1.5394 - val_accuracy: 0.5845\n",
      "Epoch 18/50\n",
      "18/18 [==============================] - 0s 7ms/step - loss: 0.0195 - accuracy: 1.0000 - val_loss: 1.5998 - val_accuracy: 0.5845\n",
      "Epoch 19/50\n",
      "18/18 [==============================] - 0s 7ms/step - loss: 0.0156 - accuracy: 1.0000 - val_loss: 1.6247 - val_accuracy: 0.5775\n",
      "Epoch 20/50\n",
      "18/18 [==============================] - 0s 7ms/step - loss: 0.0128 - accuracy: 1.0000 - val_loss: 1.6613 - val_accuracy: 0.5704\n",
      "Epoch 21/50\n",
      "18/18 [==============================] - 0s 7ms/step - loss: 0.0108 - accuracy: 1.0000 - val_loss: 1.6931 - val_accuracy: 0.5704\n",
      "Epoch 22/50\n",
      "18/18 [==============================] - 0s 7ms/step - loss: 0.0092 - accuracy: 1.0000 - val_loss: 1.7124 - val_accuracy: 0.5704\n",
      "Epoch 23/50\n",
      "18/18 [==============================] - 0s 7ms/step - loss: 0.0080 - accuracy: 1.0000 - val_loss: 1.7424 - val_accuracy: 0.5704\n",
      "Epoch 24/50\n",
      "18/18 [==============================] - 0s 7ms/step - loss: 0.0069 - accuracy: 1.0000 - val_loss: 1.7729 - val_accuracy: 0.5775\n",
      "Epoch 25/50\n",
      "18/18 [==============================] - 0s 7ms/step - loss: 0.0061 - accuracy: 1.0000 - val_loss: 1.7837 - val_accuracy: 0.5704\n",
      "Epoch 26/50\n",
      "18/18 [==============================] - 0s 7ms/step - loss: 0.0053 - accuracy: 1.0000 - val_loss: 1.8157 - val_accuracy: 0.5704\n",
      "Epoch 27/50\n",
      "18/18 [==============================] - 0s 7ms/step - loss: 0.0048 - accuracy: 1.0000 - val_loss: 1.8276 - val_accuracy: 0.5704\n",
      "Epoch 28/50\n",
      "18/18 [==============================] - 0s 9ms/step - loss: 0.0043 - accuracy: 1.0000 - val_loss: 1.8497 - val_accuracy: 0.5704\n",
      "Epoch 29/50\n",
      "18/18 [==============================] - 0s 7ms/step - loss: 0.0038 - accuracy: 1.0000 - val_loss: 1.8701 - val_accuracy: 0.5704\n",
      "Epoch 30/50\n",
      "18/18 [==============================] - 0s 7ms/step - loss: 0.0035 - accuracy: 1.0000 - val_loss: 1.8856 - val_accuracy: 0.5704\n",
      "Epoch 31/50\n",
      "18/18 [==============================] - 0s 8ms/step - loss: 0.0032 - accuracy: 1.0000 - val_loss: 1.9009 - val_accuracy: 0.5704\n",
      "Epoch 32/50\n",
      "18/18 [==============================] - 0s 7ms/step - loss: 0.0029 - accuracy: 1.0000 - val_loss: 1.9153 - val_accuracy: 0.5634\n",
      "Epoch 33/50\n",
      "18/18 [==============================] - 0s 6ms/step - loss: 0.0027 - accuracy: 1.0000 - val_loss: 1.9330 - val_accuracy: 0.5704\n",
      "Epoch 34/50\n",
      "18/18 [==============================] - 0s 7ms/step - loss: 0.0025 - accuracy: 1.0000 - val_loss: 1.9454 - val_accuracy: 0.5704\n",
      "Epoch 35/50\n",
      "18/18 [==============================] - 0s 6ms/step - loss: 0.0023 - accuracy: 1.0000 - val_loss: 1.9602 - val_accuracy: 0.5634\n",
      "Epoch 36/50\n",
      "18/18 [==============================] - 0s 6ms/step - loss: 0.0021 - accuracy: 1.0000 - val_loss: 1.9750 - val_accuracy: 0.5704\n",
      "Epoch 37/50\n",
      "18/18 [==============================] - 0s 6ms/step - loss: 0.0020 - accuracy: 1.0000 - val_loss: 1.9903 - val_accuracy: 0.5634\n",
      "Epoch 38/50\n",
      "18/18 [==============================] - 0s 7ms/step - loss: 0.0019 - accuracy: 1.0000 - val_loss: 1.9990 - val_accuracy: 0.5634\n",
      "Epoch 39/50\n",
      "18/18 [==============================] - 0s 6ms/step - loss: 0.0017 - accuracy: 1.0000 - val_loss: 2.0158 - val_accuracy: 0.5634\n",
      "Epoch 40/50\n",
      "18/18 [==============================] - 0s 8ms/step - loss: 0.0016 - accuracy: 1.0000 - val_loss: 2.0270 - val_accuracy: 0.5563\n",
      "Epoch 41/50\n",
      "18/18 [==============================] - 0s 7ms/step - loss: 0.0015 - accuracy: 1.0000 - val_loss: 2.0394 - val_accuracy: 0.5563\n",
      "Epoch 42/50\n",
      "18/18 [==============================] - 0s 6ms/step - loss: 0.0014 - accuracy: 1.0000 - val_loss: 2.0495 - val_accuracy: 0.5563\n",
      "Epoch 43/50\n",
      "18/18 [==============================] - 0s 7ms/step - loss: 0.0014 - accuracy: 1.0000 - val_loss: 2.0602 - val_accuracy: 0.5563\n",
      "Epoch 44/50\n",
      "18/18 [==============================] - 0s 8ms/step - loss: 0.0013 - accuracy: 1.0000 - val_loss: 2.0718 - val_accuracy: 0.5563\n",
      "Epoch 45/50\n",
      "18/18 [==============================] - 0s 7ms/step - loss: 0.0012 - accuracy: 1.0000 - val_loss: 2.0820 - val_accuracy: 0.5563\n",
      "Epoch 46/50\n",
      "18/18 [==============================] - 0s 7ms/step - loss: 0.0011 - accuracy: 1.0000 - val_loss: 2.0908 - val_accuracy: 0.5563\n",
      "Epoch 47/50\n",
      "18/18 [==============================] - 0s 6ms/step - loss: 0.0011 - accuracy: 1.0000 - val_loss: 2.1010 - val_accuracy: 0.5563\n",
      "Epoch 48/50\n",
      "18/18 [==============================] - 0s 6ms/step - loss: 0.0010 - accuracy: 1.0000 - val_loss: 2.1132 - val_accuracy: 0.5563\n",
      "Epoch 49/50\n",
      "18/18 [==============================] - 0s 7ms/step - loss: 9.8353e-04 - accuracy: 1.0000 - val_loss: 2.1219 - val_accuracy: 0.5563\n",
      "Epoch 50/50\n",
      "18/18 [==============================] - 0s 7ms/step - loss: 9.3812e-04 - accuracy: 1.0000 - val_loss: 2.1303 - val_accuracy: 0.5563\n",
      "CPU times: user 5 µs, sys: 0 ns, total: 5 µs\n",
      "Wall time: 12.4 µs\n"
     ]
    }
   ],
   "source": [
    "num_epochs = 50\n",
    "\n",
    "# Train the model\n",
    "history_embed_conv = model.fit(X_train_padded, y_train, epochs=num_epochs, validation_data=(X_test_padded, y_test))\n",
    "%time"
   ]
  },
  {
   "cell_type": "markdown",
   "metadata": {},
   "source": [
    "#### Evaluation"
   ]
  },
  {
   "cell_type": "markdown",
   "metadata": {},
   "source": [
    "##### Accuracy"
   ]
  },
  {
   "cell_type": "code",
   "execution_count": 212,
   "metadata": {},
   "outputs": [
    {
     "data": {
      "image/png": "[encoded data removed]",
      "text/plain": [
       "<Figure size 432x288 with 1 Axes>"
      ]
     },
     "metadata": {
      "needs_background": "light"
     },
     "output_type": "display_data"
    },
    {
     "data": {
      "image/png": "[encoded data removed]",
      "text/plain": [
       "<Figure size 432x288 with 1 Axes>"
      ]
     },
     "metadata": {
      "needs_background": "light"
     },
     "output_type": "display_data"
    }
   ],
   "source": [
    "plot_graphs(history_embedding, \"accuracy\", \"Embedding + FCN\")\n",
    "plot_graphs(history_embed_conv,\"accuracy\", \"Embeding +  FCN + Conv\")"
   ]
  },
  {
   "cell_type": "markdown",
   "metadata": {},
   "source": [
    "##### Loss"
   ]
  },
  {
   "cell_type": "code",
   "execution_count": 213,
   "metadata": {},
   "outputs": [
    {
     "data": {
      "image/png": "[encoded data removed]",
      "text/plain": [
       "<Figure size 432x288 with 1 Axes>"
      ]
     },
     "metadata": {
      "needs_background": "light"
     },
     "output_type": "display_data"
    },
    {
     "data": {
      "image/png": "[encoded data removed]",
      "text/plain": [
       "<Figure size 432x288 with 1 Axes>"
      ]
     },
     "metadata": {
      "needs_background": "light"
     },
     "output_type": "display_data"
    }
   ],
   "source": [
    "plot_graphs(history_embedding, \"loss\", \"Embedding + FCN\")\n",
    "plot_graphs(history_embed_conv,\"loss\", \"Embeding +  FCN + Conv\")"
   ]
  },
  {
   "cell_type": "markdown",
   "metadata": {},
   "source": [
    "##### Classification Report"
   ]
  },
  {
   "cell_type": "code",
   "execution_count": 214,
   "metadata": {},
   "outputs": [
    {
     "name": "stdout",
     "output_type": "stream",
     "text": [
      "5/5 [==============================] - 0s 2ms/step\n",
      "                      precision    recall  f1-score   support\n",
      "\n",
      "      VLE and Module       0.50      0.74      0.60        31\n",
      "   Hardware and Room       0.65      0.52      0.58        42\n",
      "                Mail       1.00      0.18      0.31        11\n",
      " Software and Access       0.55      0.59      0.57        51\n",
      "Account and Password       0.40      0.29      0.33         7\n",
      "\n",
      "            accuracy                           0.56       142\n",
      "           macro avg       0.62      0.46      0.48       142\n",
      "        weighted avg       0.59      0.56      0.55       142\n",
      "\n"
     ]
    }
   ],
   "source": [
    "y_pred = model.predict(X_test_padded)\n",
    "y_pred = np.argmax(y_pred,axis=1)\n",
    "print(classification_report(y_test, y_pred, target_names= label))"
   ]
  },
  {
   "cell_type": "markdown",
   "metadata": {},
   "source": [
    "💡 our model getting better on accuracy but we still can't have conviction to the model since the loss getting worst <br>\n",
    "💡 usually adding LSTM will make the loss more stable even decreasing <br>"
   ]
  },
  {
   "cell_type": "markdown",
   "metadata": {
    "tags": []
   },
   "source": [
    "### Stabling the loss of the Model : Adding LSTM"
   ]
  },
  {
   "cell_type": "markdown",
   "metadata": {},
   "source": [
    "💡 usually LSTM used to make the loss more stable even decrease"
   ]
  },
  {
   "cell_type": "markdown",
   "metadata": {},
   "source": [
    "💡 usually people using Bidirectional LSTM rather than normal one"
   ]
  },
  {
   "cell_type": "markdown",
   "metadata": {},
   "source": [
    "💡 advantage Bidirectional than normal LSTM :<br>\n",
    "* more faster train data <br>\n",
    "* more better on fit (avoid overfitting) <br>\n",
    "<br>\n",
    "deficiency : <br>\n",
    "*  need entire sentence to do the prediction. "
   ]
  },
  {
   "cell_type": "markdown",
   "metadata": {},
   "source": [
    "💡 below is how to build single Bidirectional <br>"
   ]
  },
  {
   "cell_type": "code",
   "execution_count": 215,
   "metadata": {},
   "outputs": [],
   "source": [
    "# Ctrl + A and then Ctrl + / to uncomment this cell\n",
    "# # embedding_dim = 16\n",
    "\n",
    "# # Build the model\n",
    "# model = tf.keras.Sequential([\n",
    "#     tf.keras.layers.Embedding(num_words , embedding_dim, input_length = maxlen),\n",
    "#     tf.keras.layers.Conv1D(16, 4),\n",
    "#     tf.keras.layers.MaxPooling1D(),\n",
    "#     tf.keras.layers.Bidirectional(tf.keras.layers.LSTM(16)),\n",
    "#     tf.keras.layers.Dense(16, activation='relu'),\n",
    "#     tf.keras.layers.Dense(5, activation='softmax')\n",
    "# ])\n",
    "\n",
    "# # Compile the modeld\n",
    "# model.compile(loss='sparse_categorical_crossentropy',optimizer='adam',metrics=['accuracy'])\n",
    "\n",
    "# # Print the model summary\n",
    "# model.summary()"
   ]
  },
  {
   "cell_type": "markdown",
   "metadata": {},
   "source": [
    "💡 below is how to build stacked Bidirectional <br>"
   ]
  },
  {
   "cell_type": "code",
   "execution_count": 216,
   "metadata": {},
   "outputs": [
    {
     "name": "stdout",
     "output_type": "stream",
     "text": [
      "Model: \"sequential_12\"\n",
      "_________________________________________________________________\n",
      " Layer (type)                Output Shape              Param #   \n",
      "=================================================================\n",
      " embedding_12 (Embedding)    (None, 150, 16)           72448     \n",
      "                                                                 \n",
      " conv1d_8 (Conv1D)           (None, 149, 16)           528       \n",
      "                                                                 \n",
      " max_pooling1d_8 (MaxPooling  (None, 74, 16)           0         \n",
      " 1D)                                                             \n",
      "                                                                 \n",
      " bidirectional_6 (Bidirectio  (None, 74, 32)           4224      \n",
      " nal)                                                            \n",
      "                                                                 \n",
      " bidirectional_7 (Bidirectio  (None, 16)               2624      \n",
      " nal)                                                            \n",
      "                                                                 \n",
      " dense_24 (Dense)            (None, 16)                272       \n",
      "                                                                 \n",
      " dense_25 (Dense)            (None, 5)                 85        \n",
      "                                                                 \n",
      "=================================================================\n",
      "Total params: 80,181\n",
      "Trainable params: 80,181\n",
      "Non-trainable params: 0\n",
      "_________________________________________________________________\n"
     ]
    }
   ],
   "source": [
    "embedding_dim = 16\n",
    "\n",
    "# Build the model\n",
    "model = tf.keras.Sequential([\n",
    "    tf.keras.layers.Embedding(num_words , embedding_dim, input_length = maxlen),\n",
    "    tf.keras.layers.Conv1D(16, 2),\n",
    "    tf.keras.layers.MaxPooling1D(),\n",
    "    tf.keras.layers.Bidirectional(tf.keras.layers.LSTM(16, return_sequences = True)),\n",
    "    tf.keras.layers.Bidirectional(tf.keras.layers.LSTM(8)),\n",
    "    tf.keras.layers.Dense(16, activation='relu'),\n",
    "    tf.keras.layers.Dense(5, activation='softmax')\n",
    "])\n",
    "\n",
    "# Compile the modeld\n",
    "model.compile(loss='sparse_categorical_crossentropy',optimizer='adam',metrics=['accuracy'])\n",
    "\n",
    "# Print the model summary\n",
    "model.summary()"
   ]
  },
  {
   "cell_type": "markdown",
   "metadata": {},
   "source": [
    "💡 to build normal LSTM simply remove tf.keras.layers.Bidirectional <br>\n",
    "so  if you want build stacked normal LSTM the Bidirectional LSTM layers should be : <br>\n",
    "<b> tf.keras.layers.LSTM(16, return_sequences = True),<b><br>\n",
    "<b>tf.keras.layers.LSTM(8),<b><br>"
   ]
  },
  {
   "cell_type": "code",
   "execution_count": 217,
   "metadata": {},
   "outputs": [
    {
     "name": "stdout",
     "output_type": "stream",
     "text": [
      "Epoch 1/50\n",
      "18/18 [==============================] - 9s 136ms/step - loss: 1.5730 - accuracy: 0.3697 - val_loss: 1.5100 - val_accuracy: 0.3592\n",
      "Epoch 2/50\n",
      "18/18 [==============================] - 0s 25ms/step - loss: 1.4367 - accuracy: 0.3873 - val_loss: 1.4287 - val_accuracy: 0.3592\n",
      "Epoch 3/50\n",
      "18/18 [==============================] - 0s 24ms/step - loss: 1.3753 - accuracy: 0.3873 - val_loss: 1.4369 - val_accuracy: 0.3592\n",
      "Epoch 4/50\n",
      "18/18 [==============================] - 0s 24ms/step - loss: 1.3408 - accuracy: 0.3944 - val_loss: 1.4027 - val_accuracy: 0.3732\n",
      "Epoch 5/50\n",
      "18/18 [==============================] - 0s 25ms/step - loss: 1.2318 - accuracy: 0.5563 - val_loss: 1.3198 - val_accuracy: 0.4577\n",
      "Epoch 6/50\n",
      "18/18 [==============================] - 0s 24ms/step - loss: 1.0788 - accuracy: 0.6109 - val_loss: 1.2818 - val_accuracy: 0.4718\n",
      "Epoch 7/50\n",
      "18/18 [==============================] - 0s 25ms/step - loss: 0.9422 - accuracy: 0.6426 - val_loss: 1.2676 - val_accuracy: 0.4507\n",
      "Epoch 8/50\n",
      "18/18 [==============================] - 0s 25ms/step - loss: 0.8288 - accuracy: 0.6585 - val_loss: 1.3741 - val_accuracy: 0.4155\n",
      "Epoch 9/50\n",
      "18/18 [==============================] - 0s 25ms/step - loss: 0.7253 - accuracy: 0.6655 - val_loss: 1.2137 - val_accuracy: 0.4718\n",
      "Epoch 10/50\n",
      "18/18 [==============================] - 0s 25ms/step - loss: 0.6196 - accuracy: 0.7711 - val_loss: 1.4076 - val_accuracy: 0.5282\n",
      "Epoch 11/50\n",
      "18/18 [==============================] - 0s 25ms/step - loss: 0.5223 - accuracy: 0.8081 - val_loss: 1.3227 - val_accuracy: 0.5704\n",
      "Epoch 12/50\n",
      "18/18 [==============================] - 1s 29ms/step - loss: 0.4588 - accuracy: 0.8257 - val_loss: 1.4008 - val_accuracy: 0.5211\n",
      "Epoch 13/50\n",
      "18/18 [==============================] - 0s 26ms/step - loss: 0.4196 - accuracy: 0.8327 - val_loss: 1.5911 - val_accuracy: 0.5563\n",
      "Epoch 14/50\n",
      "18/18 [==============================] - 1s 30ms/step - loss: 0.4014 - accuracy: 0.8433 - val_loss: 1.5407 - val_accuracy: 0.5352\n",
      "Epoch 15/50\n",
      "18/18 [==============================] - 1s 28ms/step - loss: 0.3788 - accuracy: 0.8556 - val_loss: 1.5537 - val_accuracy: 0.5563\n",
      "Epoch 16/50\n",
      "18/18 [==============================] - 1s 28ms/step - loss: 0.3410 - accuracy: 0.8908 - val_loss: 1.6135 - val_accuracy: 0.5352\n",
      "Epoch 17/50\n",
      "18/18 [==============================] - 0s 28ms/step - loss: 0.3070 - accuracy: 0.8908 - val_loss: 1.6750 - val_accuracy: 0.5423\n",
      "Epoch 18/50\n",
      "18/18 [==============================] - 1s 30ms/step - loss: 0.2602 - accuracy: 0.9085 - val_loss: 1.8380 - val_accuracy: 0.5141\n",
      "Epoch 19/50\n",
      "18/18 [==============================] - 1s 29ms/step - loss: 0.2596 - accuracy: 0.9049 - val_loss: 1.7263 - val_accuracy: 0.5423\n",
      "Epoch 20/50\n",
      "18/18 [==============================] - 1s 29ms/step - loss: 0.2422 - accuracy: 0.9102 - val_loss: 1.8483 - val_accuracy: 0.5634\n",
      "Epoch 21/50\n",
      "18/18 [==============================] - 0s 25ms/step - loss: 0.2336 - accuracy: 0.9137 - val_loss: 1.7572 - val_accuracy: 0.5282\n",
      "Epoch 22/50\n",
      "18/18 [==============================] - 1s 28ms/step - loss: 0.2149 - accuracy: 0.9102 - val_loss: 1.7876 - val_accuracy: 0.5634\n",
      "Epoch 23/50\n",
      "18/18 [==============================] - 1s 28ms/step - loss: 0.2368 - accuracy: 0.9085 - val_loss: 2.2930 - val_accuracy: 0.4789\n",
      "Epoch 24/50\n",
      "18/18 [==============================] - 1s 28ms/step - loss: 0.2454 - accuracy: 0.8979 - val_loss: 1.7283 - val_accuracy: 0.5986\n",
      "Epoch 25/50\n",
      "18/18 [==============================] - 0s 27ms/step - loss: 0.2133 - accuracy: 0.9085 - val_loss: 1.9412 - val_accuracy: 0.5282\n",
      "Epoch 26/50\n",
      "18/18 [==============================] - 0s 26ms/step - loss: 0.2053 - accuracy: 0.9102 - val_loss: 1.7658 - val_accuracy: 0.5493\n",
      "Epoch 27/50\n",
      "18/18 [==============================] - 1s 29ms/step - loss: 0.1858 - accuracy: 0.9173 - val_loss: 1.7487 - val_accuracy: 0.5704\n",
      "Epoch 28/50\n",
      "18/18 [==============================] - 0s 26ms/step - loss: 0.1700 - accuracy: 0.9243 - val_loss: 2.0343 - val_accuracy: 0.5704\n",
      "Epoch 29/50\n",
      "18/18 [==============================] - 0s 25ms/step - loss: 0.1807 - accuracy: 0.9137 - val_loss: 2.0123 - val_accuracy: 0.5141\n",
      "Epoch 30/50\n",
      "18/18 [==============================] - 0s 25ms/step - loss: 0.1628 - accuracy: 0.9296 - val_loss: 2.0255 - val_accuracy: 0.5775\n",
      "Epoch 31/50\n",
      "18/18 [==============================] - 0s 25ms/step - loss: 0.1646 - accuracy: 0.9278 - val_loss: 2.1017 - val_accuracy: 0.5352\n",
      "Epoch 32/50\n",
      "18/18 [==============================] - 0s 25ms/step - loss: 0.1503 - accuracy: 0.9331 - val_loss: 2.1749 - val_accuracy: 0.5211\n",
      "Epoch 33/50\n",
      "18/18 [==============================] - 0s 25ms/step - loss: 0.1519 - accuracy: 0.9401 - val_loss: 2.0285 - val_accuracy: 0.5704\n",
      "Epoch 34/50\n",
      "18/18 [==============================] - 0s 26ms/step - loss: 0.1406 - accuracy: 0.9419 - val_loss: 2.2617 - val_accuracy: 0.5000\n",
      "Epoch 35/50\n",
      "18/18 [==============================] - 0s 26ms/step - loss: 0.1255 - accuracy: 0.9454 - val_loss: 2.0952 - val_accuracy: 0.5493\n",
      "Epoch 36/50\n",
      "18/18 [==============================] - 0s 24ms/step - loss: 0.1241 - accuracy: 0.9437 - val_loss: 2.1379 - val_accuracy: 0.5563\n",
      "Epoch 37/50\n",
      "18/18 [==============================] - 0s 24ms/step - loss: 0.1201 - accuracy: 0.9560 - val_loss: 2.2311 - val_accuracy: 0.5282\n",
      "Epoch 38/50\n",
      "18/18 [==============================] - 0s 24ms/step - loss: 0.1236 - accuracy: 0.9525 - val_loss: 2.2894 - val_accuracy: 0.5423\n",
      "Epoch 39/50\n",
      "18/18 [==============================] - 0s 24ms/step - loss: 0.1234 - accuracy: 0.9595 - val_loss: 2.2948 - val_accuracy: 0.5563\n",
      "Epoch 40/50\n",
      "18/18 [==============================] - 0s 26ms/step - loss: 0.1165 - accuracy: 0.9489 - val_loss: 2.2134 - val_accuracy: 0.5070\n",
      "Epoch 41/50\n",
      "18/18 [==============================] - 0s 25ms/step - loss: 0.1168 - accuracy: 0.9577 - val_loss: 2.2171 - val_accuracy: 0.5352\n",
      "Epoch 42/50\n",
      "18/18 [==============================] - 0s 25ms/step - loss: 0.1119 - accuracy: 0.9560 - val_loss: 2.2769 - val_accuracy: 0.5634\n",
      "Epoch 43/50\n",
      "18/18 [==============================] - 0s 25ms/step - loss: 0.1122 - accuracy: 0.9630 - val_loss: 2.2713 - val_accuracy: 0.5352\n",
      "Epoch 44/50\n",
      "18/18 [==============================] - 0s 25ms/step - loss: 0.0956 - accuracy: 0.9736 - val_loss: 2.2337 - val_accuracy: 0.5493\n",
      "Epoch 45/50\n",
      "18/18 [==============================] - 0s 25ms/step - loss: 0.0898 - accuracy: 0.9718 - val_loss: 2.3247 - val_accuracy: 0.5211\n",
      "Epoch 46/50\n",
      "18/18 [==============================] - 0s 24ms/step - loss: 0.0825 - accuracy: 0.9789 - val_loss: 2.2875 - val_accuracy: 0.5563\n",
      "Epoch 47/50\n",
      "18/18 [==============================] - 0s 25ms/step - loss: 0.0742 - accuracy: 0.9877 - val_loss: 2.4741 - val_accuracy: 0.5282\n",
      "Epoch 48/50\n",
      "18/18 [==============================] - 0s 25ms/step - loss: 0.0673 - accuracy: 0.9894 - val_loss: 2.5089 - val_accuracy: 0.5352\n",
      "Epoch 49/50\n",
      "18/18 [==============================] - 0s 24ms/step - loss: 0.0608 - accuracy: 0.9912 - val_loss: 2.5129 - val_accuracy: 0.5352\n",
      "Epoch 50/50\n",
      "18/18 [==============================] - 0s 25ms/step - loss: 0.0560 - accuracy: 0.9912 - val_loss: 2.4968 - val_accuracy: 0.5423\n",
      "CPU times: user 6 µs, sys: 1 µs, total: 7 µs\n",
      "Wall time: 12.4 µs\n"
     ]
    }
   ],
   "source": [
    "num_epochs = 50\n",
    "\n",
    "# Train the model\n",
    "history_adding_lstm = model.fit(X_train_padded, y_train, epochs=num_epochs, validation_data=(X_test_padded, y_test))\n",
    "%time"
   ]
  },
  {
   "cell_type": "markdown",
   "metadata": {},
   "source": [
    "#### Evaluation"
   ]
  },
  {
   "cell_type": "markdown",
   "metadata": {},
   "source": [
    "##### Accuracy"
   ]
  },
  {
   "cell_type": "code",
   "execution_count": 218,
   "metadata": {},
   "outputs": [
    {
     "data": {
      "image/png": "[encoded data removed]",
      "text/plain": [
       "<Figure size 432x288 with 1 Axes>"
      ]
     },
     "metadata": {
      "needs_background": "light"
     },
     "output_type": "display_data"
    },
    {
     "data": {
      "image/png": "[encoded data removed]",
      "text/plain": [
       "<Figure size 432x288 with 1 Axes>"
      ]
     },
     "metadata": {
      "needs_background": "light"
     },
     "output_type": "display_data"
    }
   ],
   "source": [
    "plot_graphs(history_embed_conv, \"accuracy\", \"Embedding + Conv1d + FCN \")\n",
    "plot_graphs(history_adding_lstm,\"accuracy\", \"Embeding + Conv1d+ LSTM + FCN\")"
   ]
  },
  {
   "cell_type": "markdown",
   "metadata": {},
   "source": [
    "##### Loss"
   ]
  },
  {
   "cell_type": "code",
   "execution_count": 219,
   "metadata": {},
   "outputs": [
    {
     "data": {
      "image/png": "[encoded data removed]",
      "text/plain": [
       "<Figure size 432x288 with 1 Axes>"
      ]
     },
     "metadata": {
      "needs_background": "light"
     },
     "output_type": "display_data"
    },
    {
     "data": {
      "image/png": "[encoded data removed]",
      "text/plain": [
       "<Figure size 432x288 with 1 Axes>"
      ]
     },
     "metadata": {
      "needs_background": "light"
     },
     "output_type": "display_data"
    }
   ],
   "source": [
    "plot_graphs(history_embed_conv, \"loss\", \"Embeding + FCN\")\n",
    "plot_graphs(history_adding_lstm,\"loss\", \"Embeding + LSTM + FCN\")"
   ]
  },
  {
   "cell_type": "markdown",
   "metadata": {},
   "source": [
    "##### Classification Report"
   ]
  },
  {
   "cell_type": "code",
   "execution_count": 220,
   "metadata": {},
   "outputs": [
    {
     "name": "stdout",
     "output_type": "stream",
     "text": [
      "5/5 [==============================] - 3s 9ms/step\n",
      "                      precision    recall  f1-score   support\n",
      "\n",
      "      VLE and Module       0.52      0.48      0.50        31\n",
      "   Hardware and Room       0.67      0.62      0.64        42\n",
      "                Mail       0.21      0.27      0.24        11\n",
      " Software and Access       0.56      0.65      0.60        51\n",
      "Account and Password       0.00      0.00      0.00         7\n",
      "\n",
      "            accuracy                           0.54       142\n",
      "           macro avg       0.39      0.40      0.40       142\n",
      "        weighted avg       0.53      0.54      0.53       142\n",
      "\n"
     ]
    }
   ],
   "source": [
    "y_pred = model.predict(X_test_padded)\n",
    "y_pred = np.argmax(y_pred,axis=1)\n",
    "print(classification_report(y_test, y_pred, target_names= label))"
   ]
  },
  {
   "cell_type": "markdown",
   "metadata": {},
   "source": [
    "💡 the loss should be better after added LSTM, but because we just have 710 row and 20% of it (142) row only is used as test and the test is too lame we can see on classification report above that Mail only have 11 data as test and account account and Password only 7 row meanwhile other data have 24+ (3 time larger than mail data) it very affect the lost."
   ]
  },
  {
   "cell_type": "markdown",
   "metadata": {},
   "source": [
    "## Testing data"
   ]
  },
  {
   "cell_type": "code",
   "execution_count": 232,
   "metadata": {},
   "outputs": [],
   "source": [
    "testing_texts = [\"I buy laptop when VGA price going up and it stuck my head since the VGA getting low and low\",\"I buy laptop when VGA price going up and it stuck my head since the VGA getting low and low\"]\n",
    "testing_texts_sequences = tokenizer.texts_to_sequences(testing_texts)\n",
    "testing_texts_sequences_padded = pad_sequences(testing_texts_sequences, maxlen=maxlen, padding=padding, truncating=truncating)"
   ]
  },
  {
   "cell_type": "code",
   "execution_count": 233,
   "metadata": {},
   "outputs": [
    {
     "data": {
      "text/plain": [
       "array(['VLE and Module', 'Hardware and Room', 'Mail',\n",
       "       'Software and Access', 'Account and Password'], dtype=object)"
      ]
     },
     "execution_count": 233,
     "metadata": {},
     "output_type": "execute_result"
    }
   ],
   "source": [
    "label"
   ]
  },
  {
   "cell_type": "code",
   "execution_count": 234,
   "metadata": {},
   "outputs": [
    {
     "name": "stdout",
     "output_type": "stream",
     "text": [
      "1/1 [==============================] - 0s 29ms/step\n"
     ]
    }
   ],
   "source": [
    "predictions_proba = model.predict(testing_texts_sequences_padded)"
   ]
  },
  {
   "cell_type": "code",
   "execution_count": 235,
   "metadata": {},
   "outputs": [
    {
     "name": "stdout",
     "output_type": "stream",
     "text": [
      "Text 1 is labeled as Mail \n",
      "\n",
      "Proba each label are : \n",
      " VLE and Module probability is : 0.047631487250328064\n",
      " Hardware and Room probability is : 0.01829843409359455\n",
      " Mail probability is : 0.8357850313186646\n",
      " Software and Access probability is : 0.0009804784785956144\n",
      " Account and Password probability is : 0.09730460494756699\n",
      "=================================================================\n",
      "Text 2 is labeled as Mail \n",
      "\n",
      "Proba each label are : \n",
      " VLE and Module probability is : 0.047631487250328064\n",
      " Hardware and Room probability is : 0.01829843409359455\n",
      " Mail probability is : 0.8357850313186646\n",
      " Software and Access probability is : 0.0009804784785956144\n",
      " Account and Password probability is : 0.09730460494756699\n",
      "=================================================================\n"
     ]
    }
   ],
   "source": [
    "for i in range(len(testing_texts)) :\n",
    "    print(\"Text {} is labeled as {} \\n\".format(i+1, label[np.argmax(predictions_proba[i])]))\n",
    "    print(\"Proba each label are : \")\n",
    "    for label_i in range(len(label)):\n",
    "        print(\" {} probability is : {}\".format(label[label_i], predictions_proba[i][label_i])) \n",
    "    print(\"=================================================================\")"
   ]
  },
  {
   "cell_type": "markdown",
   "metadata": {},
   "source": [
    "## Resume, Tips and Trick (don't have to follow)"
   ]
  },
  {
   "cell_type": "markdown",
   "metadata": {},
   "source": [
    "1. Don't set the num_words of the Tokenizer so u will get all words in all sentence as the vocab <br>\n",
    "2. if you build stacked CNN, example first CNN is 8 filters so the second CNN should be 16 the third is 32 and so on <br>\n",
    "3. if you build stacked RNN, example first CNN is 16 units, the second RNN should be 8 units <br>\n",
    "4. if you build stacked hidden layer, example first layer is 16 then the second should be 8"
   ]
  }
 ],
 "metadata": {
  "colab": {
   "collapsed_sections": [],
   "provenance": []
  },
  "kernelspec": {
   "display_name": "Python 3 (ipykernel)",
   "language": "python",
   "name": "python3"
  },
  "language_info": {
   "codemirror_mode": {
    "name": "ipython",
    "version": 3
   },
   "file_extension": ".py",
   "mimetype": "text/x-python",
   "name": "python",
   "nbconvert_exporter": "python",
   "pygments_lexer": "ipython3",
   "version": "3.9.13"
  }
 },
 "nbformat": 4,
 "nbformat_minor": 4
}
